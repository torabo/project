{
 "cells": [
  {
   "cell_type": "markdown",
   "id": "326e6550",
   "metadata": {},
   "source": [
    "# [실습4] 금속분말 생성공정 최적화를 위한 비선형회귀 기법\n"
   ]
  },
  {
   "cell_type": "markdown",
   "id": "bba11550",
   "metadata": {},
   "source": [
    "---"
   ]
  },
  {
   "cell_type": "markdown",
   "id": "3e287c82",
   "metadata": {},
   "source": [
    "## 실습 목표\n",
    "---\n",
    "- 다항회귀 분석을 수행해봅니다.\n",
    "- MLP 모델을 구현해봅니다.\n",
    "- 다양한 학습률을 비교해봅니다.\n",
    "- 다양한 최적화 함수를 비교해봅니다.\n",
    "- 금속분말 데이터를 MLP 모델에 적용해봅니다."
   ]
  },
  {
   "cell_type": "markdown",
   "id": "3c359b32",
   "metadata": {},
   "source": [
    "## 실습 목차\n",
    "---\n",
    "1. **다항 회귀 분석 수행:** 다항 회귀 분석 모델을 학습, 예측, 평가해봅니다.\n",
    "\n",
    "2. **MLP 모델의 구현:** Keras 를 이용한 MLP 구현\n",
    "\n",
    "3. **회귀 모델 수행:** 금속분말 데이터셋을 이용하여 회귀모델 학습"
   ]
  },
  {
   "cell_type": "markdown",
   "id": "84aa9432",
   "metadata": {},
   "source": [
    "## 실습 개요\n",
    "---\n",
    "\n",
    "이번 실습에서는 다항 회귀 분석을 수행해보고, 비선형 데이터를 다룰 수 있는 MLP 모델에 대해 배워봅니다."
   ]
  },
  {
   "cell_type": "markdown",
   "id": "26cf594d",
   "metadata": {},
   "source": [
    "## 1. 다항회귀 분석 수행\n",
    "---\n",
    "다항 회귀 분석 모델을 구현해보고, 성능을 비교해봅니다.\n"
   ]
  },
  {
   "cell_type": "markdown",
   "id": "ff3caee2",
   "metadata": {},
   "source": [
    "### 1.1 라이브러리 불러오기"
   ]
  },
  {
   "cell_type": "code",
   "execution_count": 1,
   "id": "16ebe3ef",
   "metadata": {},
   "outputs": [
    {
     "name": "stderr",
     "output_type": "stream",
     "text": [
      "2025-02-11 04:00:21.389257: I tensorflow/core/platform/cpu_feature_guard.cc:193] This TensorFlow binary is optimized with oneAPI Deep Neural Network Library (oneDNN) to use the following CPU instructions in performance-critical operations:  AVX2 AVX512F AVX512_VNNI FMA\n",
      "To enable them in other operations, rebuild TensorFlow with the appropriate compiler flags.\n",
      "2025-02-11 04:00:21.488506: I tensorflow/core/util/util.cc:169] oneDNN custom operations are on. You may see slightly different numerical results due to floating-point round-off errors from different computation orders. To turn them off, set the environment variable `TF_ENABLE_ONEDNN_OPTS=0`.\n",
      "2025-02-11 04:00:21.517289: E tensorflow/stream_executor/cuda/cuda_blas.cc:2981] Unable to register cuBLAS factory: Attempting to register factory for plugin cuBLAS when one has already been registered\n",
      "2025-02-11 04:00:23.751513: W tensorflow/stream_executor/platform/default/dso_loader.cc:64] Could not load dynamic library 'libnvinfer.so.7'; dlerror: libnvinfer.so.7: cannot open shared object file: No such file or directory; LD_LIBRARY_PATH: /usr/local/nvidia/lib:/usr/local/nvidia/lib64\n",
      "2025-02-11 04:00:23.751618: W tensorflow/stream_executor/platform/default/dso_loader.cc:64] Could not load dynamic library 'libnvinfer_plugin.so.7'; dlerror: libnvinfer_plugin.so.7: cannot open shared object file: No such file or directory; LD_LIBRARY_PATH: /usr/local/nvidia/lib:/usr/local/nvidia/lib64\n",
      "2025-02-11 04:00:23.751632: W tensorflow/compiler/tf2tensorrt/utils/py_utils.cc:38] TF-TRT Warning: Cannot dlopen some TensorRT libraries. If you would like to use Nvidia GPU with TensorRT, please make sure the missing libraries mentioned above are installed properly.\n"
     ]
    }
   ],
   "source": [
    "import numpy as np\n",
    "from matplotlib import pyplot as plt\n",
    "%matplotlib inline\n",
    "import sklearn\n",
    "from tensorflow.keras.layers import Dense, Input"
   ]
  },
  {
   "cell_type": "markdown",
   "id": "0754ace5",
   "metadata": {},
   "source": [
    "### 1.2 데이터 생성"
   ]
  },
  {
   "cell_type": "code",
   "execution_count": 2,
   "id": "8c9821e5",
   "metadata": {},
   "outputs": [],
   "source": [
    "np.random.seed(0)\n",
    "X = np.random.normal(size = (1000, 1)) \n",
    "y = X ** 3 * 3 + X ** 2 * 2 + X - 2 + np.random.normal(size = (1000, 1)) * 3"
   ]
  },
  {
   "cell_type": "code",
   "execution_count": 3,
   "id": "360ef6fd",
   "metadata": {},
   "outputs": [
    {
     "data": {
      "image/png": "[encoded data removed]",
      "text/plain": [
       "<Figure size 640x480 with 1 Axes>"
      ]
     },
     "metadata": {},
     "output_type": "display_data"
    }
   ],
   "source": [
    "plt.scatter(X, y, s = 3)\n",
    "plt.show()"
   ]
  },
  {
   "cell_type": "markdown",
   "id": "44e1d33d",
   "metadata": {},
   "source": [
    "### 1.3 데이터 분할"
   ]
  },
  {
   "cell_type": "code",
   "execution_count": 4,
   "id": "0020382d",
   "metadata": {},
   "outputs": [],
   "source": [
    "train_ratio = 0.8\n",
    "train_X = X[:int(len(X) * train_ratio)].reshape(-1, 1)\n",
    "train_y = y[:int(len(X) * train_ratio)].reshape(-1, 1)\n",
    "test_X = X[int(len(X) * train_ratio):].reshape(-1, 1)\n",
    "test_y = y[int(len(X) * train_ratio):].reshape(-1, 1)"
   ]
  },
  {
   "cell_type": "markdown",
   "id": "c3ff3a02",
   "metadata": {},
   "source": [
    "### 1.4 선형 회귀 모델"
   ]
  },
  {
   "cell_type": "markdown",
   "id": "3c95a105",
   "metadata": {},
   "source": [
    "### 1.4.1 최소제곱 선형 회귀 모델 학습"
   ]
  },
  {
   "cell_type": "code",
   "execution_count": 5,
   "id": "41f13679",
   "metadata": {},
   "outputs": [],
   "source": [
    "from sklearn.linear_model import LinearRegression"
   ]
  },
  {
   "cell_type": "code",
   "execution_count": 6,
   "id": "87724aa3",
   "metadata": {},
   "outputs": [
    {
     "data": {
      "text/html": [
       "<style>#sk-container-id-1 {color: black;background-color: white;}#sk-container-id-1 pre{padding: 0;}#sk-container-id-1 div.sk-toggleable {background-color: white;}#sk-container-id-1 label.sk-toggleable__label {cursor: pointer;display: block;width: 100%;margin-bottom: 0;padding: 0.3em;box-sizing: border-box;text-align: center;}#sk-container-id-1 label.sk-toggleable__label-arrow:before {content: \"▸\";float: left;margin-right: 0.25em;color: #696969;}#sk-container-id-1 label.sk-toggleable__label-arrow:hover:before {color: black;}#sk-container-id-1 div.sk-estimator:hover label.sk-toggleable__label-arrow:before {color: black;}#sk-container-id-1 div.sk-toggleable__content {max-height: 0;max-width: 0;overflow: hidden;text-align: left;background-color: #f0f8ff;}#sk-container-id-1 div.sk-toggleable__content pre {margin: 0.2em;color: black;border-radius: 0.25em;background-color: #f0f8ff;}#sk-container-id-1 input.sk-toggleable__control:checked~div.sk-toggleable__content {max-height: 200px;max-width: 100%;overflow: auto;}#sk-container-id-1 input.sk-toggleable__control:checked~label.sk-toggleable__label-arrow:before {content: \"▾\";}#sk-container-id-1 div.sk-estimator input.sk-toggleable__control:checked~label.sk-toggleable__label {background-color: #d4ebff;}#sk-container-id-1 div.sk-label input.sk-toggleable__control:checked~label.sk-toggleable__label {background-color: #d4ebff;}#sk-container-id-1 input.sk-hidden--visually {border: 0;clip: rect(1px 1px 1px 1px);clip: rect(1px, 1px, 1px, 1px);height: 1px;margin: -1px;overflow: hidden;padding: 0;position: absolute;width: 1px;}#sk-container-id-1 div.sk-estimator {font-family: monospace;background-color: #f0f8ff;border: 1px dotted black;border-radius: 0.25em;box-sizing: border-box;margin-bottom: 0.5em;}#sk-container-id-1 div.sk-estimator:hover {background-color: #d4ebff;}#sk-container-id-1 div.sk-parallel-item::after {content: \"\";width: 100%;border-bottom: 1px solid gray;flex-grow: 1;}#sk-container-id-1 div.sk-label:hover label.sk-toggleable__label {background-color: #d4ebff;}#sk-container-id-1 div.sk-serial::before {content: \"\";position: absolute;border-left: 1px solid gray;box-sizing: border-box;top: 0;bottom: 0;left: 50%;z-index: 0;}#sk-container-id-1 div.sk-serial {display: flex;flex-direction: column;align-items: center;background-color: white;padding-right: 0.2em;padding-left: 0.2em;position: relative;}#sk-container-id-1 div.sk-item {position: relative;z-index: 1;}#sk-container-id-1 div.sk-parallel {display: flex;align-items: stretch;justify-content: center;background-color: white;position: relative;}#sk-container-id-1 div.sk-item::before, #sk-container-id-1 div.sk-parallel-item::before {content: \"\";position: absolute;border-left: 1px solid gray;box-sizing: border-box;top: 0;bottom: 0;left: 50%;z-index: -1;}#sk-container-id-1 div.sk-parallel-item {display: flex;flex-direction: column;z-index: 1;position: relative;background-color: white;}#sk-container-id-1 div.sk-parallel-item:first-child::after {align-self: flex-end;width: 50%;}#sk-container-id-1 div.sk-parallel-item:last-child::after {align-self: flex-start;width: 50%;}#sk-container-id-1 div.sk-parallel-item:only-child::after {width: 0;}#sk-container-id-1 div.sk-dashed-wrapped {border: 1px dashed gray;margin: 0 0.4em 0.5em 0.4em;box-sizing: border-box;padding-bottom: 0.4em;background-color: white;}#sk-container-id-1 div.sk-label label {font-family: monospace;font-weight: bold;display: inline-block;line-height: 1.2em;}#sk-container-id-1 div.sk-label-container {text-align: center;}#sk-container-id-1 div.sk-container {/* jupyter's `normalize.less` sets `[hidden] { display: none; }` but bootstrap.min.css set `[hidden] { display: none !important; }` so we also need the `!important` here to be able to override the default hidden behavior on the sphinx rendered scikit-learn.org. See: https://github.com/scikit-learn/scikit-learn/issues/21755 */display: inline-block !important;position: relative;}#sk-container-id-1 div.sk-text-repr-fallback {display: none;}</style><div id=\"sk-container-id-1\" class=\"sk-top-container\"><div class=\"sk-text-repr-fallback\"><pre>LinearRegression()</pre><b>In a Jupyter environment, please rerun this cell to show the HTML representation or trust the notebook. <br />On GitHub, the HTML representation is unable to render, please try loading this page with nbviewer.org.</b></div><div class=\"sk-container\" hidden><div class=\"sk-item\"><div class=\"sk-estimator sk-toggleable\"><input class=\"sk-toggleable__control sk-hidden--visually\" id=\"sk-estimator-id-1\" type=\"checkbox\" checked><label for=\"sk-estimator-id-1\" class=\"sk-toggleable__label sk-toggleable__label-arrow\">LinearRegression</label><div class=\"sk-toggleable__content\"><pre>LinearRegression()</pre></div></div></div></div></div>"
      ],
      "text/plain": [
       "LinearRegression()"
      ]
     },
     "execution_count": 6,
     "metadata": {},
     "output_type": "execute_result"
    }
   ],
   "source": [
    "fitter = LinearRegression()\n",
    "fitter"
   ]
  },
  {
   "cell_type": "code",
   "execution_count": 7,
   "id": "d0450ee4",
   "metadata": {},
   "outputs": [
    {
     "data": {
      "text/html": [
       "<style>#sk-container-id-2 {color: black;background-color: white;}#sk-container-id-2 pre{padding: 0;}#sk-container-id-2 div.sk-toggleable {background-color: white;}#sk-container-id-2 label.sk-toggleable__label {cursor: pointer;display: block;width: 100%;margin-bottom: 0;padding: 0.3em;box-sizing: border-box;text-align: center;}#sk-container-id-2 label.sk-toggleable__label-arrow:before {content: \"▸\";float: left;margin-right: 0.25em;color: #696969;}#sk-container-id-2 label.sk-toggleable__label-arrow:hover:before {color: black;}#sk-container-id-2 div.sk-estimator:hover label.sk-toggleable__label-arrow:before {color: black;}#sk-container-id-2 div.sk-toggleable__content {max-height: 0;max-width: 0;overflow: hidden;text-align: left;background-color: #f0f8ff;}#sk-container-id-2 div.sk-toggleable__content pre {margin: 0.2em;color: black;border-radius: 0.25em;background-color: #f0f8ff;}#sk-container-id-2 input.sk-toggleable__control:checked~div.sk-toggleable__content {max-height: 200px;max-width: 100%;overflow: auto;}#sk-container-id-2 input.sk-toggleable__control:checked~label.sk-toggleable__label-arrow:before {content: \"▾\";}#sk-container-id-2 div.sk-estimator input.sk-toggleable__control:checked~label.sk-toggleable__label {background-color: #d4ebff;}#sk-container-id-2 div.sk-label input.sk-toggleable__control:checked~label.sk-toggleable__label {background-color: #d4ebff;}#sk-container-id-2 input.sk-hidden--visually {border: 0;clip: rect(1px 1px 1px 1px);clip: rect(1px, 1px, 1px, 1px);height: 1px;margin: -1px;overflow: hidden;padding: 0;position: absolute;width: 1px;}#sk-container-id-2 div.sk-estimator {font-family: monospace;background-color: #f0f8ff;border: 1px dotted black;border-radius: 0.25em;box-sizing: border-box;margin-bottom: 0.5em;}#sk-container-id-2 div.sk-estimator:hover {background-color: #d4ebff;}#sk-container-id-2 div.sk-parallel-item::after {content: \"\";width: 100%;border-bottom: 1px solid gray;flex-grow: 1;}#sk-container-id-2 div.sk-label:hover label.sk-toggleable__label {background-color: #d4ebff;}#sk-container-id-2 div.sk-serial::before {content: \"\";position: absolute;border-left: 1px solid gray;box-sizing: border-box;top: 0;bottom: 0;left: 50%;z-index: 0;}#sk-container-id-2 div.sk-serial {display: flex;flex-direction: column;align-items: center;background-color: white;padding-right: 0.2em;padding-left: 0.2em;position: relative;}#sk-container-id-2 div.sk-item {position: relative;z-index: 1;}#sk-container-id-2 div.sk-parallel {display: flex;align-items: stretch;justify-content: center;background-color: white;position: relative;}#sk-container-id-2 div.sk-item::before, #sk-container-id-2 div.sk-parallel-item::before {content: \"\";position: absolute;border-left: 1px solid gray;box-sizing: border-box;top: 0;bottom: 0;left: 50%;z-index: -1;}#sk-container-id-2 div.sk-parallel-item {display: flex;flex-direction: column;z-index: 1;position: relative;background-color: white;}#sk-container-id-2 div.sk-parallel-item:first-child::after {align-self: flex-end;width: 50%;}#sk-container-id-2 div.sk-parallel-item:last-child::after {align-self: flex-start;width: 50%;}#sk-container-id-2 div.sk-parallel-item:only-child::after {width: 0;}#sk-container-id-2 div.sk-dashed-wrapped {border: 1px dashed gray;margin: 0 0.4em 0.5em 0.4em;box-sizing: border-box;padding-bottom: 0.4em;background-color: white;}#sk-container-id-2 div.sk-label label {font-family: monospace;font-weight: bold;display: inline-block;line-height: 1.2em;}#sk-container-id-2 div.sk-label-container {text-align: center;}#sk-container-id-2 div.sk-container {/* jupyter's `normalize.less` sets `[hidden] { display: none; }` but bootstrap.min.css set `[hidden] { display: none !important; }` so we also need the `!important` here to be able to override the default hidden behavior on the sphinx rendered scikit-learn.org. See: https://github.com/scikit-learn/scikit-learn/issues/21755 */display: inline-block !important;position: relative;}#sk-container-id-2 div.sk-text-repr-fallback {display: none;}</style><div id=\"sk-container-id-2\" class=\"sk-top-container\"><div class=\"sk-text-repr-fallback\"><pre>LinearRegression()</pre><b>In a Jupyter environment, please rerun this cell to show the HTML representation or trust the notebook. <br />On GitHub, the HTML representation is unable to render, please try loading this page with nbviewer.org.</b></div><div class=\"sk-container\" hidden><div class=\"sk-item\"><div class=\"sk-estimator sk-toggleable\"><input class=\"sk-toggleable__control sk-hidden--visually\" id=\"sk-estimator-id-2\" type=\"checkbox\" checked><label for=\"sk-estimator-id-2\" class=\"sk-toggleable__label sk-toggleable__label-arrow\">LinearRegression</label><div class=\"sk-toggleable__content\"><pre>LinearRegression()</pre></div></div></div></div></div>"
      ],
      "text/plain": [
       "LinearRegression()"
      ]
     },
     "execution_count": 7,
     "metadata": {},
     "output_type": "execute_result"
    }
   ],
   "source": [
    "fitter.fit(train_X, train_y)"
   ]
  },
  {
   "cell_type": "markdown",
   "id": "abeb3412",
   "metadata": {},
   "source": [
    "### 1.4.2 최소제곱 선형 회귀 모델 예측"
   ]
  },
  {
   "cell_type": "code",
   "execution_count": 8,
   "id": "949ccb57",
   "metadata": {},
   "outputs": [],
   "source": [
    "pred = fitter.predict(test_X)"
   ]
  },
  {
   "cell_type": "code",
   "execution_count": 9,
   "id": "7b11b828",
   "metadata": {},
   "outputs": [
    {
     "data": {
      "image/png": "[encoded data removed]",
      "text/plain": [
       "<Figure size 640x480 with 1 Axes>"
      ]
     },
     "metadata": {},
     "output_type": "display_data"
    }
   ],
   "source": [
    "plt.scatter(test_X, pred, s = 3, c = 'red', label = 'Pred')\n",
    "plt.scatter(test_X, test_y, s = 3, c = 'blue', label = 'GT')\n",
    "plt.legend()\n",
    "plt.show()"
   ]
  },
  {
   "cell_type": "markdown",
   "id": "f7c75aec",
   "metadata": {},
   "source": [
    "### 1.4.3 최소제곱 선형 회귀 모델 평가"
   ]
  },
  {
   "cell_type": "code",
   "execution_count": 10,
   "id": "25f13bd8",
   "metadata": {},
   "outputs": [
    {
     "name": "stdout",
     "output_type": "stream",
     "text": [
      "R2 score: 0.584614\n"
     ]
    }
   ],
   "source": [
    "r2 = sklearn.metrics.r2_score(test_y, pred)\n",
    "print(\"R2 score: %f\"%r2)"
   ]
  },
  {
   "cell_type": "markdown",
   "id": "e4968d17",
   "metadata": {},
   "source": [
    "### 1.5 다항 회귀 모델"
   ]
  },
  {
   "cell_type": "markdown",
   "id": "b6a4cb54",
   "metadata": {},
   "source": [
    "### 1.5.1 데이터 전처리"
   ]
  },
  {
   "cell_type": "code",
   "execution_count": 11,
   "id": "24af4fb1",
   "metadata": {},
   "outputs": [],
   "source": [
    "train_Xs = np.concatenate([train_X ** 3, train_X ** 2, train_X], axis=1)\n",
    "test_Xs = np.concatenate([test_X ** 3, test_X ** 2, test_X], axis=1)"
   ]
  },
  {
   "cell_type": "markdown",
   "id": "5813edc8",
   "metadata": {},
   "source": [
    "### 1.5.2 최소제곱 선형 회귀 모델 학습"
   ]
  },
  {
   "cell_type": "markdown",
   "id": "8f436061",
   "metadata": {},
   "source": [
    "**[TODO] 최소제곱 선형회귀 모델을 정의해봅니다.**"
   ]
  },
  {
   "cell_type": "code",
   "execution_count": 12,
   "id": "2010fcbd",
   "metadata": {},
   "outputs": [
    {
     "data": {
      "text/html": [
       "<style>#sk-container-id-3 {color: black;background-color: white;}#sk-container-id-3 pre{padding: 0;}#sk-container-id-3 div.sk-toggleable {background-color: white;}#sk-container-id-3 label.sk-toggleable__label {cursor: pointer;display: block;width: 100%;margin-bottom: 0;padding: 0.3em;box-sizing: border-box;text-align: center;}#sk-container-id-3 label.sk-toggleable__label-arrow:before {content: \"▸\";float: left;margin-right: 0.25em;color: #696969;}#sk-container-id-3 label.sk-toggleable__label-arrow:hover:before {color: black;}#sk-container-id-3 div.sk-estimator:hover label.sk-toggleable__label-arrow:before {color: black;}#sk-container-id-3 div.sk-toggleable__content {max-height: 0;max-width: 0;overflow: hidden;text-align: left;background-color: #f0f8ff;}#sk-container-id-3 div.sk-toggleable__content pre {margin: 0.2em;color: black;border-radius: 0.25em;background-color: #f0f8ff;}#sk-container-id-3 input.sk-toggleable__control:checked~div.sk-toggleable__content {max-height: 200px;max-width: 100%;overflow: auto;}#sk-container-id-3 input.sk-toggleable__control:checked~label.sk-toggleable__label-arrow:before {content: \"▾\";}#sk-container-id-3 div.sk-estimator input.sk-toggleable__control:checked~label.sk-toggleable__label {background-color: #d4ebff;}#sk-container-id-3 div.sk-label input.sk-toggleable__control:checked~label.sk-toggleable__label {background-color: #d4ebff;}#sk-container-id-3 input.sk-hidden--visually {border: 0;clip: rect(1px 1px 1px 1px);clip: rect(1px, 1px, 1px, 1px);height: 1px;margin: -1px;overflow: hidden;padding: 0;position: absolute;width: 1px;}#sk-container-id-3 div.sk-estimator {font-family: monospace;background-color: #f0f8ff;border: 1px dotted black;border-radius: 0.25em;box-sizing: border-box;margin-bottom: 0.5em;}#sk-container-id-3 div.sk-estimator:hover {background-color: #d4ebff;}#sk-container-id-3 div.sk-parallel-item::after {content: \"\";width: 100%;border-bottom: 1px solid gray;flex-grow: 1;}#sk-container-id-3 div.sk-label:hover label.sk-toggleable__label {background-color: #d4ebff;}#sk-container-id-3 div.sk-serial::before {content: \"\";position: absolute;border-left: 1px solid gray;box-sizing: border-box;top: 0;bottom: 0;left: 50%;z-index: 0;}#sk-container-id-3 div.sk-serial {display: flex;flex-direction: column;align-items: center;background-color: white;padding-right: 0.2em;padding-left: 0.2em;position: relative;}#sk-container-id-3 div.sk-item {position: relative;z-index: 1;}#sk-container-id-3 div.sk-parallel {display: flex;align-items: stretch;justify-content: center;background-color: white;position: relative;}#sk-container-id-3 div.sk-item::before, #sk-container-id-3 div.sk-parallel-item::before {content: \"\";position: absolute;border-left: 1px solid gray;box-sizing: border-box;top: 0;bottom: 0;left: 50%;z-index: -1;}#sk-container-id-3 div.sk-parallel-item {display: flex;flex-direction: column;z-index: 1;position: relative;background-color: white;}#sk-container-id-3 div.sk-parallel-item:first-child::after {align-self: flex-end;width: 50%;}#sk-container-id-3 div.sk-parallel-item:last-child::after {align-self: flex-start;width: 50%;}#sk-container-id-3 div.sk-parallel-item:only-child::after {width: 0;}#sk-container-id-3 div.sk-dashed-wrapped {border: 1px dashed gray;margin: 0 0.4em 0.5em 0.4em;box-sizing: border-box;padding-bottom: 0.4em;background-color: white;}#sk-container-id-3 div.sk-label label {font-family: monospace;font-weight: bold;display: inline-block;line-height: 1.2em;}#sk-container-id-3 div.sk-label-container {text-align: center;}#sk-container-id-3 div.sk-container {/* jupyter's `normalize.less` sets `[hidden] { display: none; }` but bootstrap.min.css set `[hidden] { display: none !important; }` so we also need the `!important` here to be able to override the default hidden behavior on the sphinx rendered scikit-learn.org. See: https://github.com/scikit-learn/scikit-learn/issues/21755 */display: inline-block !important;position: relative;}#sk-container-id-3 div.sk-text-repr-fallback {display: none;}</style><div id=\"sk-container-id-3\" class=\"sk-top-container\"><div class=\"sk-text-repr-fallback\"><pre>LinearRegression()</pre><b>In a Jupyter environment, please rerun this cell to show the HTML representation or trust the notebook. <br />On GitHub, the HTML representation is unable to render, please try loading this page with nbviewer.org.</b></div><div class=\"sk-container\" hidden><div class=\"sk-item\"><div class=\"sk-estimator sk-toggleable\"><input class=\"sk-toggleable__control sk-hidden--visually\" id=\"sk-estimator-id-3\" type=\"checkbox\" checked><label for=\"sk-estimator-id-3\" class=\"sk-toggleable__label sk-toggleable__label-arrow\">LinearRegression</label><div class=\"sk-toggleable__content\"><pre>LinearRegression()</pre></div></div></div></div></div>"
      ],
      "text/plain": [
       "LinearRegression()"
      ]
     },
     "execution_count": 12,
     "metadata": {},
     "output_type": "execute_result"
    }
   ],
   "source": [
    "fitter = LinearRegression()\n",
    "fitter"
   ]
  },
  {
   "cell_type": "markdown",
   "id": "3c0df010",
   "metadata": {},
   "source": [
    "**[TODO] 최소제곱 선형회귀 모델을 학습해봅니다.**"
   ]
  },
  {
   "cell_type": "code",
   "execution_count": 13,
   "id": "39abebb0",
   "metadata": {},
   "outputs": [
    {
     "data": {
      "text/html": [
       "<style>#sk-container-id-4 {color: black;background-color: white;}#sk-container-id-4 pre{padding: 0;}#sk-container-id-4 div.sk-toggleable {background-color: white;}#sk-container-id-4 label.sk-toggleable__label {cursor: pointer;display: block;width: 100%;margin-bottom: 0;padding: 0.3em;box-sizing: border-box;text-align: center;}#sk-container-id-4 label.sk-toggleable__label-arrow:before {content: \"▸\";float: left;margin-right: 0.25em;color: #696969;}#sk-container-id-4 label.sk-toggleable__label-arrow:hover:before {color: black;}#sk-container-id-4 div.sk-estimator:hover label.sk-toggleable__label-arrow:before {color: black;}#sk-container-id-4 div.sk-toggleable__content {max-height: 0;max-width: 0;overflow: hidden;text-align: left;background-color: #f0f8ff;}#sk-container-id-4 div.sk-toggleable__content pre {margin: 0.2em;color: black;border-radius: 0.25em;background-color: #f0f8ff;}#sk-container-id-4 input.sk-toggleable__control:checked~div.sk-toggleable__content {max-height: 200px;max-width: 100%;overflow: auto;}#sk-container-id-4 input.sk-toggleable__control:checked~label.sk-toggleable__label-arrow:before {content: \"▾\";}#sk-container-id-4 div.sk-estimator input.sk-toggleable__control:checked~label.sk-toggleable__label {background-color: #d4ebff;}#sk-container-id-4 div.sk-label input.sk-toggleable__control:checked~label.sk-toggleable__label {background-color: #d4ebff;}#sk-container-id-4 input.sk-hidden--visually {border: 0;clip: rect(1px 1px 1px 1px);clip: rect(1px, 1px, 1px, 1px);height: 1px;margin: -1px;overflow: hidden;padding: 0;position: absolute;width: 1px;}#sk-container-id-4 div.sk-estimator {font-family: monospace;background-color: #f0f8ff;border: 1px dotted black;border-radius: 0.25em;box-sizing: border-box;margin-bottom: 0.5em;}#sk-container-id-4 div.sk-estimator:hover {background-color: #d4ebff;}#sk-container-id-4 div.sk-parallel-item::after {content: \"\";width: 100%;border-bottom: 1px solid gray;flex-grow: 1;}#sk-container-id-4 div.sk-label:hover label.sk-toggleable__label {background-color: #d4ebff;}#sk-container-id-4 div.sk-serial::before {content: \"\";position: absolute;border-left: 1px solid gray;box-sizing: border-box;top: 0;bottom: 0;left: 50%;z-index: 0;}#sk-container-id-4 div.sk-serial {display: flex;flex-direction: column;align-items: center;background-color: white;padding-right: 0.2em;padding-left: 0.2em;position: relative;}#sk-container-id-4 div.sk-item {position: relative;z-index: 1;}#sk-container-id-4 div.sk-parallel {display: flex;align-items: stretch;justify-content: center;background-color: white;position: relative;}#sk-container-id-4 div.sk-item::before, #sk-container-id-4 div.sk-parallel-item::before {content: \"\";position: absolute;border-left: 1px solid gray;box-sizing: border-box;top: 0;bottom: 0;left: 50%;z-index: -1;}#sk-container-id-4 div.sk-parallel-item {display: flex;flex-direction: column;z-index: 1;position: relative;background-color: white;}#sk-container-id-4 div.sk-parallel-item:first-child::after {align-self: flex-end;width: 50%;}#sk-container-id-4 div.sk-parallel-item:last-child::after {align-self: flex-start;width: 50%;}#sk-container-id-4 div.sk-parallel-item:only-child::after {width: 0;}#sk-container-id-4 div.sk-dashed-wrapped {border: 1px dashed gray;margin: 0 0.4em 0.5em 0.4em;box-sizing: border-box;padding-bottom: 0.4em;background-color: white;}#sk-container-id-4 div.sk-label label {font-family: monospace;font-weight: bold;display: inline-block;line-height: 1.2em;}#sk-container-id-4 div.sk-label-container {text-align: center;}#sk-container-id-4 div.sk-container {/* jupyter's `normalize.less` sets `[hidden] { display: none; }` but bootstrap.min.css set `[hidden] { display: none !important; }` so we also need the `!important` here to be able to override the default hidden behavior on the sphinx rendered scikit-learn.org. See: https://github.com/scikit-learn/scikit-learn/issues/21755 */display: inline-block !important;position: relative;}#sk-container-id-4 div.sk-text-repr-fallback {display: none;}</style><div id=\"sk-container-id-4\" class=\"sk-top-container\"><div class=\"sk-text-repr-fallback\"><pre>LinearRegression()</pre><b>In a Jupyter environment, please rerun this cell to show the HTML representation or trust the notebook. <br />On GitHub, the HTML representation is unable to render, please try loading this page with nbviewer.org.</b></div><div class=\"sk-container\" hidden><div class=\"sk-item\"><div class=\"sk-estimator sk-toggleable\"><input class=\"sk-toggleable__control sk-hidden--visually\" id=\"sk-estimator-id-4\" type=\"checkbox\" checked><label for=\"sk-estimator-id-4\" class=\"sk-toggleable__label sk-toggleable__label-arrow\">LinearRegression</label><div class=\"sk-toggleable__content\"><pre>LinearRegression()</pre></div></div></div></div></div>"
      ],
      "text/plain": [
       "LinearRegression()"
      ]
     },
     "execution_count": 13,
     "metadata": {},
     "output_type": "execute_result"
    }
   ],
   "source": [
    "fitter.fit(train_Xs, train_y)"
   ]
  },
  {
   "cell_type": "markdown",
   "id": "f3018087",
   "metadata": {},
   "source": [
    "### 1.5.3 최소제곱 선형 회귀 모델 예측"
   ]
  },
  {
   "cell_type": "markdown",
   "id": "f135a803",
   "metadata": {},
   "source": [
    "**[TODO] 최소제곱 선형회귀 모델의 예측 결과를 확인해봅니다.**"
   ]
  },
  {
   "cell_type": "code",
   "execution_count": 14,
   "id": "06523c6d",
   "metadata": {},
   "outputs": [],
   "source": [
    "pred = fitter.predict(test_Xs)"
   ]
  },
  {
   "cell_type": "code",
   "execution_count": 15,
   "id": "dac799fd",
   "metadata": {},
   "outputs": [
    {
     "data": {
      "image/png": "[encoded data removed]",
      "text/plain": [
       "<Figure size 640x480 with 1 Axes>"
      ]
     },
     "metadata": {},
     "output_type": "display_data"
    }
   ],
   "source": [
    "plt.scatter(test_X, pred, s = 3, c = 'red', label = 'Pred')\n",
    "plt.scatter(test_X, test_y, s = 3, c = 'blue', label = 'GT')\n",
    "plt.legend()\n",
    "plt.show()"
   ]
  },
  {
   "cell_type": "markdown",
   "id": "46087774",
   "metadata": {},
   "source": [
    "### 1.5.4 최소제곱 선형 회귀 모델 평가"
   ]
  },
  {
   "cell_type": "code",
   "execution_count": 16,
   "id": "e53ea739",
   "metadata": {},
   "outputs": [
    {
     "name": "stdout",
     "output_type": "stream",
     "text": [
      "R2 score: 0.949834\n"
     ]
    }
   ],
   "source": [
    "r2 = sklearn.metrics.r2_score(test_y, pred)\n",
    "print(\"R2 score: %f\"%r2)"
   ]
  },
  {
   "cell_type": "markdown",
   "id": "d86479ba",
   "metadata": {},
   "source": [
    "### 1.6 다항 피쳐 선택에 따른 모델 성능 비교"
   ]
  },
  {
   "cell_type": "markdown",
   "id": "b34617da",
   "metadata": {},
   "source": [
    "2제곱에서 24제곱까지의 다항 피쳐를 사용하였을 때 성능을 비교해보겠습니다."
   ]
  },
  {
   "cell_type": "code",
   "execution_count": 17,
   "id": "b60ec733",
   "metadata": {},
   "outputs": [
    {
     "name": "stdout",
     "output_type": "stream",
     "text": [
      "[ 2  3  4  5  6  7  8  9 10 11 12 13 14 15 16 17 18 19 20 21 22 23 24]\n"
     ]
    }
   ],
   "source": [
    "degrees = np.arange(2, 25)\n",
    "print(degrees)"
   ]
  },
  {
   "cell_type": "code",
   "execution_count": 18,
   "id": "906dd9f7",
   "metadata": {
    "scrolled": true
   },
   "outputs": [
    {
     "name": "stdout",
     "output_type": "stream",
     "text": [
      "Degree: 2 -> R2 score: 0.652474\n",
      "Degree: 3 -> R2 score: 0.949834\n",
      "Degree: 4 -> R2 score: 0.949863\n",
      "Degree: 5 -> R2 score: 0.949525\n",
      "Degree: 6 -> R2 score: 0.948715\n",
      "Degree: 7 -> R2 score: 0.948016\n",
      "Degree: 8 -> R2 score: 0.948088\n",
      "Degree: 9 -> R2 score: 0.948196\n",
      "Degree: 10 -> R2 score: 0.947491\n",
      "Degree: 11 -> R2 score: 0.946404\n",
      "Degree: 12 -> R2 score: 0.945894\n",
      "Degree: 13 -> R2 score: 0.948829\n",
      "Degree: 14 -> R2 score: 0.948599\n",
      "Degree: 15 -> R2 score: 0.937195\n",
      "Degree: 16 -> R2 score: 0.922179\n",
      "Degree: 17 -> R2 score: 0.922574\n",
      "Degree: 18 -> R2 score: 0.883105\n",
      "Degree: 19 -> R2 score: 0.735307\n",
      "Degree: 20 -> R2 score: 0.937408\n",
      "Degree: 21 -> R2 score: 0.935197\n",
      "Degree: 22 -> R2 score: -0.652393\n",
      "Degree: 23 -> R2 score: -0.352344\n",
      "Degree: 24 -> R2 score: -4.219461\n"
     ]
    }
   ],
   "source": [
    "r2s = []\n",
    "for degree in degrees:\n",
    "    train_Xs = np.concatenate([train_X ** i for i in range(degree + 1)], axis=1)\n",
    "    test_Xs = np.concatenate([test_X ** i for i in range(degree + 1)], axis=1)\n",
    "    fitter = LinearRegression()\n",
    "    fitter.fit(train_Xs, train_y)\n",
    "    pred = fitter.predict(test_Xs)\n",
    "    r2 = sklearn.metrics.r2_score(test_y, pred)\n",
    "    print(\"Degree: %d -> R2 score: %f\"%(degree, r2))\n",
    "    r2s.append(r2)"
   ]
  },
  {
   "cell_type": "code",
   "execution_count": 19,
   "id": "c1864d64",
   "metadata": {},
   "outputs": [
    {
     "data": {
      "image/png": "[encoded data removed]",
      "text/plain": [
       "<Figure size 640x480 with 1 Axes>"
      ]
     },
     "metadata": {},
     "output_type": "display_data"
    }
   ],
   "source": [
    "plt.plot(degrees, r2s)\n",
    "plt.title('Polynomial Features')\n",
    "plt.xlabel('Degree')\n",
    "plt.ylabel('r2 score')\n",
    "plt.show()"
   ]
  },
  {
   "cell_type": "markdown",
   "id": "d5a5eed2",
   "metadata": {},
   "source": [
    "피쳐를 과도하게 많이 사용하면 오히려 모델의 성능이 떨어지는 것을 확인할 수 있습니다. 적절한 degree를 찾아 설정해주는 것이 중요하겠습니다."
   ]
  },
  {
   "cell_type": "markdown",
   "id": "2f98b205",
   "metadata": {},
   "source": [
    "## 2. MLP 모델의 구현\n",
    "---\n",
    "다음으로, 비선형 데이터를 잘 다룰 수 있는 다층 퍼셉트론 모델 (Multi-layer perceptron; MLP) 을 구현해보겠습니다."
   ]
  },
  {
   "cell_type": "markdown",
   "id": "6c78cf02",
   "metadata": {},
   "source": [
    "### 2.1 라이브러리 불러오기"
   ]
  },
  {
   "cell_type": "code",
   "execution_count": 20,
   "id": "c1d35d0f",
   "metadata": {},
   "outputs": [],
   "source": [
    "import tensorflow as tf"
   ]
  },
  {
   "cell_type": "markdown",
   "id": "341d3dbd",
   "metadata": {},
   "source": [
    "### 2.2 비선형 데이터 생성"
   ]
  },
  {
   "cell_type": "code",
   "execution_count": 21,
   "id": "9cb77196",
   "metadata": {},
   "outputs": [],
   "source": [
    "np.random.seed(0)\n",
    "X = np.random.normal(size = (1000, 1)) \n",
    "y = np.e ** X + np.random.normal(size = (1000, 1)) * 1"
   ]
  },
  {
   "cell_type": "code",
   "execution_count": 22,
   "id": "0e9c2ee1",
   "metadata": {},
   "outputs": [
    {
     "data": {
      "image/png": "[encoded data removed]",
      "text/plain": [
       "<Figure size 640x480 with 1 Axes>"
      ]
     },
     "metadata": {},
     "output_type": "display_data"
    }
   ],
   "source": [
    "plt.scatter(X, y, s = 3)\n",
    "plt.show()"
   ]
  },
  {
   "cell_type": "markdown",
   "id": "dd5a1d76",
   "metadata": {},
   "source": [
    "### 2.3 데이터 분할"
   ]
  },
  {
   "cell_type": "markdown",
   "id": "86cbb070",
   "metadata": {},
   "source": [
    "**[TODO] 학습데이터와 테스트 데이터를 분할해줍니다. 처음 80%의 데이터는 학습용으로, 나머지는 테스트용으로 사용합니다.**"
   ]
  },
  {
   "cell_type": "code",
   "execution_count": 23,
   "id": "0eae81ba",
   "metadata": {},
   "outputs": [],
   "source": [
    "train_ratio = 0.8\n",
    "train_X = X[:int(len(X)*train_ratio)].reshape(-1, 1)\n",
    "train_y = y[:int(len(X)*train_ratio)].reshape(-1, 1)\n",
    "test_X = X[int(len(X)*train_ratio):].reshape(-1, 1)\n",
    "test_y = y[int(len(X)*train_ratio):].reshape(-1, 1)"
   ]
  },
  {
   "cell_type": "markdown",
   "id": "99766a96",
   "metadata": {},
   "source": [
    "### 2.4 MLP 모델 설정"
   ]
  },
  {
   "cell_type": "code",
   "execution_count": 24,
   "id": "a6568e8a",
   "metadata": {},
   "outputs": [
    {
     "name": "stderr",
     "output_type": "stream",
     "text": [
      "2025-02-11 04:00:30.553588: W tensorflow/stream_executor/platform/default/dso_loader.cc:64] Could not load dynamic library 'libcuda.so.1'; dlerror: libcuda.so.1: cannot open shared object file: No such file or directory; LD_LIBRARY_PATH: /usr/local/nvidia/lib:/usr/local/nvidia/lib64\n",
      "2025-02-11 04:00:30.553631: W tensorflow/stream_executor/cuda/cuda_driver.cc:263] failed call to cuInit: UNKNOWN ERROR (303)\n",
      "2025-02-11 04:00:30.553660: I tensorflow/stream_executor/cuda/cuda_diagnostics.cc:156] kernel driver does not appear to be running on this host (8bc5c089a690): /proc/driver/nvidia/version does not exist\n",
      "2025-02-11 04:00:30.554168: I tensorflow/core/platform/cpu_feature_guard.cc:193] This TensorFlow binary is optimized with oneAPI Deep Neural Network Library (oneDNN) to use the following CPU instructions in performance-critical operations:  AVX2 AVX512F AVX512_VNNI FMA\n",
      "To enable them in other operations, rebuild TensorFlow with the appropriate compiler flags.\n"
     ]
    }
   ],
   "source": [
    "MLP_model = tf.keras.Sequential([\n",
    "    Input(shape=(train_X.shape[1],)),\n",
    "    tf.keras.layers.Dense(64, activation = 'relu'),\n",
    "    tf.keras.layers.Dense(32, activation = 'relu'),\n",
    "    tf.keras.layers.Dense(1)\n",
    "])"
   ]
  },
  {
   "cell_type": "markdown",
   "id": "f280efb3",
   "metadata": {},
   "source": [
    "### 2.5 학습 방법 설정"
   ]
  },
  {
   "cell_type": "code",
   "execution_count": 25,
   "id": "1a42d273",
   "metadata": {},
   "outputs": [],
   "source": [
    "MLP_model.compile(loss = 'mse',\n",
    "              optimizer = 'adam',\n",
    ")"
   ]
  },
  {
   "cell_type": "markdown",
   "id": "ac9fe7c5",
   "metadata": {},
   "source": [
    "### 2.6 모델 학습"
   ]
  },
  {
   "cell_type": "code",
   "execution_count": 26,
   "id": "a374a906",
   "metadata": {
    "scrolled": true
   },
   "outputs": [
    {
     "name": "stdout",
     "output_type": "stream",
     "text": [
      "Epoch 1/10\n",
      "50/50 - 1s - loss: 3.6660 - 566ms/epoch - 11ms/step\n",
      "Epoch 2/10\n",
      "50/50 - 0s - loss: 1.4770 - 70ms/epoch - 1ms/step\n",
      "Epoch 3/10\n",
      "50/50 - 0s - loss: 1.3047 - 74ms/epoch - 1ms/step\n",
      "Epoch 4/10\n",
      "50/50 - 0s - loss: 1.2728 - 76ms/epoch - 2ms/step\n",
      "Epoch 5/10\n",
      "50/50 - 0s - loss: 1.2441 - 73ms/epoch - 1ms/step\n",
      "Epoch 6/10\n",
      "50/50 - 0s - loss: 1.2207 - 74ms/epoch - 1ms/step\n",
      "Epoch 7/10\n",
      "50/50 - 0s - loss: 1.1965 - 83ms/epoch - 2ms/step\n",
      "Epoch 8/10\n",
      "50/50 - 0s - loss: 1.1607 - 81ms/epoch - 2ms/step\n",
      "Epoch 9/10\n",
      "50/50 - 0s - loss: 1.1319 - 80ms/epoch - 2ms/step\n",
      "Epoch 10/10\n",
      "50/50 - 0s - loss: 1.1092 - 76ms/epoch - 2ms/step\n"
     ]
    }
   ],
   "source": [
    "history = MLP_model.fit(train_X, train_y, epochs = 10, batch_size = 16, verbose = 2)"
   ]
  },
  {
   "cell_type": "markdown",
   "id": "171cb717",
   "metadata": {},
   "source": [
    "### 2.7 모델 예측"
   ]
  },
  {
   "cell_type": "code",
   "execution_count": 27,
   "id": "5ddc96a9",
   "metadata": {},
   "outputs": [
    {
     "name": "stdout",
     "output_type": "stream",
     "text": [
      "7/7 [==============================] - 0s 2ms/step\n"
     ]
    }
   ],
   "source": [
    "pred = MLP_model.predict(test_X)"
   ]
  },
  {
   "cell_type": "code",
   "execution_count": 28,
   "id": "be00c633",
   "metadata": {},
   "outputs": [
    {
     "data": {
      "image/png": "[encoded data removed]",
      "text/plain": [
       "<Figure size 640x480 with 1 Axes>"
      ]
     },
     "metadata": {},
     "output_type": "display_data"
    }
   ],
   "source": [
    "plt.scatter(test_X, pred, s = 3, c = 'red', label = 'Pred')\n",
    "plt.scatter(test_X, test_y, s = 3, c = 'blue', label = 'GT')\n",
    "plt.legend()\n",
    "plt.show()"
   ]
  },
  {
   "cell_type": "markdown",
   "id": "187e8edd",
   "metadata": {},
   "source": [
    "### 2.8 모델 평가"
   ]
  },
  {
   "cell_type": "code",
   "execution_count": 29,
   "id": "4e3d83dd",
   "metadata": {},
   "outputs": [
    {
     "name": "stdout",
     "output_type": "stream",
     "text": [
      "R2 score: 0.765769\n"
     ]
    }
   ],
   "source": [
    "r2 = sklearn.metrics.r2_score(test_y, pred)\n",
    "print(\"R2 score: %f\"%r2)"
   ]
  },
  {
   "cell_type": "markdown",
   "id": "e4282bf5",
   "metadata": {},
   "source": [
    "이론적으로 R2-score 는 선형 회귀의 설명력에 대한 지표이기 때문에 비선형 회귀에 적용할 수 없습니다. 그러나, 여기서는 통계학적으로 깊이 들어가지는 않을 것이기 때문에 편의를 위해 R2-score를 사용하겠습니다."
   ]
  },
  {
   "cell_type": "markdown",
   "id": "301c3ce9",
   "metadata": {},
   "source": [
    "### 2.9 학습률 조정해보기"
   ]
  },
  {
   "cell_type": "markdown",
   "id": "3cba427d",
   "metadata": {},
   "source": [
    "### 2.9.1 학습률이 너무 클 때"
   ]
  },
  {
   "cell_type": "markdown",
   "id": "d4d250c3",
   "metadata": {},
   "source": [
    "**[TODO] 이번에는 MLP 모델을 직접 정의해봅니다.**"
   ]
  },
  {
   "cell_type": "code",
   "execution_count": 30,
   "id": "1b971d36",
   "metadata": {},
   "outputs": [],
   "source": [
    "# MLP 모델을 설정합니다.\n",
    "MLP_model = tf.keras.Sequential([\n",
    "    Input(shape=train_X.shape[1]),\n",
    "    tf.keras.layers.Dense(64, activation = 'relu'),\n",
    "    tf.keras.layers.Dense(32, activation = 'relu'),\n",
    "    tf.keras.layers.Dense(1)\n",
    "])"
   ]
  },
  {
   "cell_type": "markdown",
   "id": "ca52a841",
   "metadata": {},
   "source": [
    "**[TODO] 정의한 MLP 모델을 컴파일해봅니다.**"
   ]
  },
  {
   "cell_type": "code",
   "execution_count": 31,
   "id": "3e95f46b",
   "metadata": {},
   "outputs": [],
   "source": [
    "MLP_model.compile(loss = 'mse',\n",
    "              optimizer = tf.keras.optimizers.SGD(learning_rate = 0.3),\n",
    ")"
   ]
  },
  {
   "cell_type": "markdown",
   "id": "e7871728",
   "metadata": {},
   "source": [
    "**[TODO] 정의한 MLP 모델을 학습해봅니다.**"
   ]
  },
  {
   "cell_type": "code",
   "execution_count": 32,
   "id": "9ec06e52",
   "metadata": {},
   "outputs": [
    {
     "name": "stdout",
     "output_type": "stream",
     "text": [
      "Epoch 1/10\n",
      "50/50 - 0s - loss: 4.9264 - 366ms/epoch - 7ms/step\n",
      "Epoch 2/10\n",
      "50/50 - 0s - loss: 4.1938 - 71ms/epoch - 1ms/step\n",
      "Epoch 3/10\n",
      "50/50 - 0s - loss: 4.0856 - 77ms/epoch - 2ms/step\n",
      "Epoch 4/10\n",
      "50/50 - 0s - loss: 4.0572 - 71ms/epoch - 1ms/step\n",
      "Epoch 5/10\n",
      "50/50 - 0s - loss: 4.1760 - 73ms/epoch - 1ms/step\n",
      "Epoch 6/10\n",
      "50/50 - 0s - loss: 4.0241 - 68ms/epoch - 1ms/step\n",
      "Epoch 7/10\n",
      "50/50 - 0s - loss: 4.1050 - 74ms/epoch - 1ms/step\n",
      "Epoch 8/10\n",
      "50/50 - 0s - loss: 4.1222 - 68ms/epoch - 1ms/step\n",
      "Epoch 9/10\n",
      "50/50 - 0s - loss: 4.0004 - 74ms/epoch - 1ms/step\n",
      "Epoch 10/10\n",
      "50/50 - 0s - loss: 4.0987 - 64ms/epoch - 1ms/step\n"
     ]
    }
   ],
   "source": [
    "history_toobig = MLP_model.fit(train_X, train_y, epochs = 10, batch_size = 16, verbose = 2)"
   ]
  },
  {
   "cell_type": "code",
   "execution_count": 33,
   "id": "fc9a9791",
   "metadata": {},
   "outputs": [
    {
     "data": {
      "image/png": "[encoded data removed]",
      "text/plain": [
       "<Figure size 640x480 with 1 Axes>"
      ]
     },
     "metadata": {},
     "output_type": "display_data"
    }
   ],
   "source": [
    "plt.plot(history_toobig.epoch, history_toobig.history['loss'])\n",
    "plt.xlabel('epoch')\n",
    "plt.ylabel('loss')\n",
    "plt.show()"
   ]
  },
  {
   "cell_type": "markdown",
   "id": "c6484e7a",
   "metadata": {},
   "source": [
    "**[TODO] 정의한 MLP 모델의 예측 결과를 확인해봅니다.**"
   ]
  },
  {
   "cell_type": "code",
   "execution_count": 34,
   "id": "3a7c6f11",
   "metadata": {},
   "outputs": [
    {
     "name": "stdout",
     "output_type": "stream",
     "text": [
      "7/7 [==============================] - 0s 2ms/step\n"
     ]
    }
   ],
   "source": [
    "pred = MLP_model.predict(test_X)"
   ]
  },
  {
   "cell_type": "code",
   "execution_count": 35,
   "id": "0e8236c8",
   "metadata": {},
   "outputs": [
    {
     "name": "stdout",
     "output_type": "stream",
     "text": [
      "R2 score: -0.038238\n"
     ]
    }
   ],
   "source": [
    "r2 = sklearn.metrics.r2_score(test_y, pred)\n",
    "print(\"R2 score: %f\"%r2)"
   ]
  },
  {
   "cell_type": "markdown",
   "id": "dfb87553",
   "metadata": {},
   "source": [
    "### 2.9.2 학습률이 적당할 때"
   ]
  },
  {
   "cell_type": "markdown",
   "id": "f2f0d000",
   "metadata": {},
   "source": [
    "**[TODO] MLP 모델을 정의해봅니다.**"
   ]
  },
  {
   "cell_type": "code",
   "execution_count": 36,
   "id": "d0013594",
   "metadata": {},
   "outputs": [],
   "source": [
    "# MLP 모델을 설정합니다.\n",
    "MLP_model = tf.keras.Sequential([\n",
    "    Input(shape=train_X.shape[1]),\n",
    "    tf.keras.layers.Dense(64, activation='relu'), # 첫번째 레이어의 출력 차원은 64입니다. 활성함수는 ReLU로 합니다.\n",
    "    tf.keras.layers.Dense(32, activation='relu'), # 두번쨰 레이어의 출력 차원은 32입니다. 활성함수는 ReLU로 합니다.\n",
    "    tf.keras.layers.Dense(1)\n",
    "])"
   ]
  },
  {
   "cell_type": "markdown",
   "id": "67b5d55c",
   "metadata": {},
   "source": [
    "**[TODO] 정의한 MLP 모델을 컴파일해봅니다. 최적화방법은 SGD를 사용하며, 학습률은 0.01으로 합니다.**"
   ]
  },
  {
   "cell_type": "code",
   "execution_count": 37,
   "id": "d364f6fd",
   "metadata": {},
   "outputs": [],
   "source": [
    "MLP_model.compile(loss = 'mse',\n",
    "              optimizer = tf.keras.optimizers.SGD(learning_rate = 0.01),\n",
    ")"
   ]
  },
  {
   "cell_type": "markdown",
   "id": "bbbe11cc",
   "metadata": {},
   "source": [
    "**[TODO] 정의한 MLP 모델을 학습해봅니다.**"
   ]
  },
  {
   "cell_type": "code",
   "execution_count": 38,
   "id": "cf5cca89",
   "metadata": {
    "scrolled": true
   },
   "outputs": [
    {
     "name": "stdout",
     "output_type": "stream",
     "text": [
      "Epoch 1/10\n",
      "50/50 - 0s - loss: 2.9717 - 356ms/epoch - 7ms/step\n",
      "Epoch 2/10\n",
      "50/50 - 0s - loss: 1.3828 - 65ms/epoch - 1ms/step\n",
      "Epoch 3/10\n",
      "50/50 - 0s - loss: 1.3142 - 75ms/epoch - 1ms/step\n",
      "Epoch 4/10\n",
      "50/50 - 0s - loss: 1.2399 - 66ms/epoch - 1ms/step\n",
      "Epoch 5/10\n",
      "50/50 - 0s - loss: 1.2014 - 64ms/epoch - 1ms/step\n",
      "Epoch 6/10\n",
      "50/50 - 0s - loss: 1.1714 - 70ms/epoch - 1ms/step\n",
      "Epoch 7/10\n",
      "50/50 - 0s - loss: 1.1368 - 68ms/epoch - 1ms/step\n",
      "Epoch 8/10\n",
      "50/50 - 0s - loss: 1.1000 - 79ms/epoch - 2ms/step\n",
      "Epoch 9/10\n",
      "50/50 - 0s - loss: 1.0839 - 69ms/epoch - 1ms/step\n",
      "Epoch 10/10\n",
      "50/50 - 0s - loss: 1.0521 - 61ms/epoch - 1ms/step\n"
     ]
    }
   ],
   "source": [
    "history_good = MLP_model.fit(train_X, train_y, epochs = 10, batch_size = 16, verbose = 2)"
   ]
  },
  {
   "cell_type": "code",
   "execution_count": 39,
   "id": "ec42a009",
   "metadata": {},
   "outputs": [
    {
     "data": {
      "image/png": "[encoded data removed]",
      "text/plain": [
       "<Figure size 640x480 with 1 Axes>"
      ]
     },
     "metadata": {},
     "output_type": "display_data"
    }
   ],
   "source": [
    "plt.plot(history_good.epoch, history_good.history['loss'])\n",
    "plt.xlabel('epoch')\n",
    "plt.ylabel('loss')\n",
    "plt.show()"
   ]
  },
  {
   "cell_type": "markdown",
   "id": "ea6b026a",
   "metadata": {},
   "source": [
    "**[TODO] 정의한 MLP 모델의 예측 결과를 확인해봅니다.**"
   ]
  },
  {
   "cell_type": "code",
   "execution_count": 40,
   "id": "db61f72e",
   "metadata": {},
   "outputs": [
    {
     "name": "stdout",
     "output_type": "stream",
     "text": [
      "7/7 [==============================] - 0s 2ms/step\n"
     ]
    }
   ],
   "source": [
    "pred = MLP_model.predict(test_X)"
   ]
  },
  {
   "cell_type": "code",
   "execution_count": 41,
   "id": "afa225b9",
   "metadata": {},
   "outputs": [
    {
     "name": "stdout",
     "output_type": "stream",
     "text": [
      "R2 score: 0.797032\n"
     ]
    }
   ],
   "source": [
    "r2 = sklearn.metrics.r2_score(test_y, pred)\n",
    "print(\"R2 score: %f\"%r2)"
   ]
  },
  {
   "cell_type": "markdown",
   "id": "b9a8e3ad",
   "metadata": {},
   "source": [
    "### 2.9.3 학습률이 너무 낮을 때"
   ]
  },
  {
   "cell_type": "markdown",
   "id": "59e43479",
   "metadata": {},
   "source": [
    "**[TODO] MLP 모델을 정의해봅니다.**"
   ]
  },
  {
   "cell_type": "code",
   "execution_count": 42,
   "id": "6875237e",
   "metadata": {},
   "outputs": [],
   "source": [
    "# MLP 모델을 설정합니다.\n",
    "MLP_model = tf.keras.Sequential([\n",
    "    Input(shape=train_X.shape[1]),\n",
    "    tf.keras.layers.Dense(64, activation ='relu'), # 첫번째 레이어의 출력 차원은 64입니다. 활성함수는 ReLU로 합니다.\n",
    "    tf.keras.layers.Dense(32, activation = 'relu'), # 두번쨰 레이어의 출력 차원은 32입니다. 활성함수는 ReLU로 합니다.\n",
    "    tf.keras.layers.Dense(1)\n",
    "])"
   ]
  },
  {
   "cell_type": "markdown",
   "id": "f67dbecc",
   "metadata": {},
   "source": [
    "**[TODO] 정의한 MLP 모델을 컴파일해봅니다. 최적화 방법은 SGD를 사용하며, 학습률은 0.0001으로 합니다.**"
   ]
  },
  {
   "cell_type": "code",
   "execution_count": 43,
   "id": "d5a797fb",
   "metadata": {},
   "outputs": [],
   "source": [
    "MLP_model.compile(loss = 'mse',\n",
    "              optimizer = tf.keras.optimizers.SGD(learning_rate = 0.0001),\n",
    ")"
   ]
  },
  {
   "cell_type": "markdown",
   "id": "2b4b59f2",
   "metadata": {},
   "source": [
    "**[TODO] 정의한 MLP 모델을 학습해봅니다.**"
   ]
  },
  {
   "cell_type": "code",
   "execution_count": 44,
   "id": "df609d57",
   "metadata": {},
   "outputs": [
    {
     "name": "stdout",
     "output_type": "stream",
     "text": [
      "Epoch 1/10\n",
      "50/50 - 0s - loss: 5.9980 - 342ms/epoch - 7ms/step\n",
      "Epoch 2/10\n",
      "50/50 - 0s - loss: 5.8109 - 73ms/epoch - 1ms/step\n",
      "Epoch 3/10\n",
      "50/50 - 0s - loss: 5.6370 - 78ms/epoch - 2ms/step\n",
      "Epoch 4/10\n",
      "50/50 - 0s - loss: 5.4727 - 66ms/epoch - 1ms/step\n",
      "Epoch 5/10\n",
      "50/50 - 0s - loss: 5.3187 - 67ms/epoch - 1ms/step\n",
      "Epoch 6/10\n",
      "50/50 - 0s - loss: 5.1732 - 70ms/epoch - 1ms/step\n",
      "Epoch 7/10\n",
      "50/50 - 0s - loss: 5.0350 - 67ms/epoch - 1ms/step\n",
      "Epoch 8/10\n",
      "50/50 - 0s - loss: 4.9023 - 66ms/epoch - 1ms/step\n",
      "Epoch 9/10\n",
      "50/50 - 0s - loss: 4.7746 - 67ms/epoch - 1ms/step\n",
      "Epoch 10/10\n",
      "50/50 - 0s - loss: 4.6516 - 67ms/epoch - 1ms/step\n"
     ]
    }
   ],
   "source": [
    "history_toolow = MLP_model.fit(train_X, train_y, epochs = 10, batch_size = 16, verbose = 2)"
   ]
  },
  {
   "cell_type": "code",
   "execution_count": 45,
   "id": "785531cf",
   "metadata": {},
   "outputs": [
    {
     "data": {
      "image/png": "[encoded data removed]",
      "text/plain": [
       "<Figure size 640x480 with 1 Axes>"
      ]
     },
     "metadata": {},
     "output_type": "display_data"
    }
   ],
   "source": [
    "plt.plot(history_toolow.epoch, history_toolow.history['loss'])\n",
    "plt.xlabel('epoch')\n",
    "plt.ylabel('loss')\n",
    "plt.show()"
   ]
  },
  {
   "cell_type": "markdown",
   "id": "b4256a98",
   "metadata": {},
   "source": [
    "**[TODO] 정의한 MLP 모델의 예측결과를 확인해봅니다.**"
   ]
  },
  {
   "cell_type": "code",
   "execution_count": 46,
   "id": "a70ad63f",
   "metadata": {},
   "outputs": [
    {
     "name": "stdout",
     "output_type": "stream",
     "text": [
      "7/7 [==============================] - 0s 2ms/step\n"
     ]
    }
   ],
   "source": [
    "pred = MLP_model.predict(test_X)"
   ]
  },
  {
   "cell_type": "code",
   "execution_count": 47,
   "id": "c9609e61",
   "metadata": {},
   "outputs": [
    {
     "name": "stdout",
     "output_type": "stream",
     "text": [
      "R2 score: -0.119826\n"
     ]
    }
   ],
   "source": [
    "r2 = sklearn.metrics.r2_score(test_y, pred)\n",
    "print(\"R2 score: %f\"%r2)"
   ]
  },
  {
   "cell_type": "markdown",
   "id": "9fa0345c",
   "metadata": {},
   "source": [
    "### 2.9.4 학습률에 따른 loss 변화 그래프"
   ]
  },
  {
   "cell_type": "code",
   "execution_count": 48,
   "id": "c022df1a",
   "metadata": {},
   "outputs": [
    {
     "data": {
      "image/png": "[encoded data removed]",
      "text/plain": [
       "<Figure size 640x480 with 1 Axes>"
      ]
     },
     "metadata": {},
     "output_type": "display_data"
    }
   ],
   "source": [
    "plt.plot(history_toobig.epoch, history_toobig.history['loss'], label = 'too big')\n",
    "plt.plot(history_good.epoch, history_good.history['loss'], label = 'good')\n",
    "plt.plot(history_toolow.epoch, history_toolow.history['loss'], label = 'too low')\n",
    "plt.xlabel('epoch')\n",
    "plt.ylabel('loss')\n",
    "plt.legend()\n",
    "plt.show()"
   ]
  },
  {
   "cell_type": "markdown",
   "id": "3904f380",
   "metadata": {},
   "source": [
    "### 2.10 최적화 방법 (Optimizer) 조정해보기"
   ]
  },
  {
   "cell_type": "markdown",
   "id": "267875e1",
   "metadata": {},
   "source": [
    "### 2.10.1 Stochastic Gradient Descent"
   ]
  },
  {
   "cell_type": "markdown",
   "id": "4fc77fcb",
   "metadata": {},
   "source": [
    "**[TODO] MLP 모델을 정의하고, 컴파일하고, 학습 및 예측해봅니다.**"
   ]
  },
  {
   "cell_type": "code",
   "execution_count": 49,
   "id": "94150558",
   "metadata": {},
   "outputs": [],
   "source": [
    "# MLP 모델을 설정합니다.\n",
    "MLP_model = tf.keras.Sequential([\n",
    "    Input(shape=train_X.shape[1]),\n",
    "    tf.keras.layers.Dense(64, activation = 'relu'),\n",
    "    tf.keras.layers.Dense(32, activation = 'relu'),\n",
    "    tf.keras.layers.Dense(1)\n",
    "])"
   ]
  },
  {
   "cell_type": "code",
   "execution_count": 50,
   "id": "8f443ae9",
   "metadata": {},
   "outputs": [],
   "source": [
    "MLP_model.compile(loss = 'mse',\n",
    "              optimizer = tf.keras.optimizers.SGD(),\n",
    ")"
   ]
  },
  {
   "cell_type": "code",
   "execution_count": 51,
   "id": "93102151",
   "metadata": {
    "scrolled": true
   },
   "outputs": [
    {
     "name": "stdout",
     "output_type": "stream",
     "text": [
      "Epoch 1/10\n",
      "50/50 - 0s - loss: 3.1091 - 339ms/epoch - 7ms/step\n",
      "Epoch 2/10\n",
      "50/50 - 0s - loss: 1.4260 - 63ms/epoch - 1ms/step\n",
      "Epoch 3/10\n",
      "50/50 - 0s - loss: 1.3027 - 65ms/epoch - 1ms/step\n",
      "Epoch 4/10\n",
      "50/50 - 0s - loss: 1.2413 - 61ms/epoch - 1ms/step\n",
      "Epoch 5/10\n",
      "50/50 - 0s - loss: 1.1959 - 67ms/epoch - 1ms/step\n",
      "Epoch 6/10\n",
      "50/50 - 0s - loss: 1.1547 - 64ms/epoch - 1ms/step\n",
      "Epoch 7/10\n",
      "50/50 - 0s - loss: 1.1191 - 68ms/epoch - 1ms/step\n",
      "Epoch 8/10\n",
      "50/50 - 0s - loss: 1.0801 - 65ms/epoch - 1ms/step\n",
      "Epoch 9/10\n",
      "50/50 - 0s - loss: 1.0596 - 68ms/epoch - 1ms/step\n",
      "Epoch 10/10\n",
      "50/50 - 0s - loss: 1.0361 - 64ms/epoch - 1ms/step\n"
     ]
    }
   ],
   "source": [
    "history = MLP_model.fit(train_X, train_y, epochs = 10, batch_size = 16, verbose = 2)"
   ]
  },
  {
   "cell_type": "code",
   "execution_count": 52,
   "id": "ac88de73",
   "metadata": {},
   "outputs": [
    {
     "name": "stdout",
     "output_type": "stream",
     "text": [
      "7/7 [==============================] - 0s 2ms/step\n"
     ]
    }
   ],
   "source": [
    "pred = MLP_model.predict(test_X)"
   ]
  },
  {
   "cell_type": "code",
   "execution_count": 53,
   "id": "c006efcd",
   "metadata": {},
   "outputs": [
    {
     "name": "stdout",
     "output_type": "stream",
     "text": [
      "R2 score: 0.800912\n"
     ]
    }
   ],
   "source": [
    "r2 = sklearn.metrics.r2_score(test_y, pred)\n",
    "print(\"R2 score: %f\"%r2)"
   ]
  },
  {
   "cell_type": "markdown",
   "id": "e1595e86",
   "metadata": {},
   "source": [
    "### 2.10.2 Adagrad"
   ]
  },
  {
   "cell_type": "markdown",
   "id": "3c1f5ff8",
   "metadata": {},
   "source": [
    "**[TODO] MLP 모델을 정의하고, 컴파일하고, 학습 및 예측해봅니다.**"
   ]
  },
  {
   "cell_type": "code",
   "execution_count": 54,
   "id": "ae0d2453",
   "metadata": {},
   "outputs": [],
   "source": [
    "# MLP 모델을 설정합니다.\n",
    "MLP_model = tf.keras.Sequential([\n",
    "    Input(shape=train_X.shape[1]),\n",
    "    tf.keras.layers.Dense(64, activation = 'relu'),\n",
    "    tf.keras.layers.Dense(32, activation = 'relu'),\n",
    "    tf.keras.layers.Dense(1)\n",
    "])"
   ]
  },
  {
   "cell_type": "code",
   "execution_count": 55,
   "id": "4fb3eebb",
   "metadata": {},
   "outputs": [],
   "source": [
    "MLP_model.compile(loss = 'mse',\n",
    "              optimizer = tf.keras.optimizers.Adagrad(),\n",
    ")"
   ]
  },
  {
   "cell_type": "code",
   "execution_count": 56,
   "id": "10b74a0e",
   "metadata": {
    "scrolled": true
   },
   "outputs": [
    {
     "name": "stdout",
     "output_type": "stream",
     "text": [
      "Epoch 1/10\n",
      "50/50 - 0s - loss: 5.8930 - 386ms/epoch - 8ms/step\n",
      "Epoch 2/10\n",
      "50/50 - 0s - loss: 5.3587 - 62ms/epoch - 1ms/step\n",
      "Epoch 3/10\n",
      "50/50 - 0s - loss: 5.0170 - 64ms/epoch - 1ms/step\n",
      "Epoch 4/10\n",
      "50/50 - 0s - loss: 4.7337 - 56ms/epoch - 1ms/step\n",
      "Epoch 5/10\n",
      "50/50 - 0s - loss: 4.4909 - 58ms/epoch - 1ms/step\n",
      "Epoch 6/10\n",
      "50/50 - 0s - loss: 4.2741 - 64ms/epoch - 1ms/step\n",
      "Epoch 7/10\n",
      "50/50 - 0s - loss: 4.0762 - 58ms/epoch - 1ms/step\n",
      "Epoch 8/10\n",
      "50/50 - 0s - loss: 3.8926 - 66ms/epoch - 1ms/step\n",
      "Epoch 9/10\n",
      "50/50 - 0s - loss: 3.7153 - 75ms/epoch - 2ms/step\n",
      "Epoch 10/10\n",
      "50/50 - 0s - loss: 3.5154 - 64ms/epoch - 1ms/step\n"
     ]
    }
   ],
   "source": [
    "history = MLP_model.fit(train_X, train_y, epochs = 10, batch_size = 16, verbose = 2)"
   ]
  },
  {
   "cell_type": "code",
   "execution_count": 57,
   "id": "07ba8e34",
   "metadata": {},
   "outputs": [
    {
     "name": "stdout",
     "output_type": "stream",
     "text": [
      "7/7 [==============================] - 0s 2ms/step\n"
     ]
    }
   ],
   "source": [
    "pred = MLP_model.predict(test_X)"
   ]
  },
  {
   "cell_type": "code",
   "execution_count": 58,
   "id": "cd0939c2",
   "metadata": {
    "scrolled": true
   },
   "outputs": [
    {
     "name": "stdout",
     "output_type": "stream",
     "text": [
      "R2 score: 0.149820\n"
     ]
    }
   ],
   "source": [
    "r2 = sklearn.metrics.r2_score(test_y, pred)\n",
    "print(\"R2 score: %f\"%r2)"
   ]
  },
  {
   "cell_type": "markdown",
   "id": "ac2dc863",
   "metadata": {},
   "source": [
    "### 2.10.3 Adam"
   ]
  },
  {
   "cell_type": "markdown",
   "id": "8529cc76",
   "metadata": {},
   "source": [
    "**[TODO] MLP 모델을 정의하고, 컴파일하고, 학습 및 예측해봅니다.**"
   ]
  },
  {
   "cell_type": "code",
   "execution_count": 59,
   "id": "4c9695f6",
   "metadata": {},
   "outputs": [],
   "source": [
    "# MLP 모델을 설정합니다.\n",
    "MLP_model = tf.keras.Sequential([\n",
    "    Input(shape=train_X.shape[1]),\n",
    "    tf.keras.layers.Dense(64, activation = 'relu'),\n",
    "    tf.keras.layers.Dense(32, activation = 'relu'),\n",
    "    tf.keras.layers.Dense(1)\n",
    "])"
   ]
  },
  {
   "cell_type": "code",
   "execution_count": 60,
   "id": "5d46cfe5",
   "metadata": {},
   "outputs": [],
   "source": [
    "MLP_model.compile(loss = 'mse',\n",
    "              optimizer = tf.keras.optimizers.Adam(),\n",
    ")"
   ]
  },
  {
   "cell_type": "code",
   "execution_count": 61,
   "id": "bf78e6fa",
   "metadata": {
    "scrolled": true
   },
   "outputs": [
    {
     "name": "stdout",
     "output_type": "stream",
     "text": [
      "Epoch 1/10\n",
      "50/50 - 0s - loss: 3.7529 - 364ms/epoch - 7ms/step\n",
      "Epoch 2/10\n",
      "50/50 - 0s - loss: 1.5576 - 54ms/epoch - 1ms/step\n",
      "Epoch 3/10\n",
      "50/50 - 0s - loss: 1.3228 - 53ms/epoch - 1ms/step\n",
      "Epoch 4/10\n",
      "50/50 - 0s - loss: 1.2923 - 58ms/epoch - 1ms/step\n",
      "Epoch 5/10\n",
      "50/50 - 0s - loss: 1.2563 - 61ms/epoch - 1ms/step\n",
      "Epoch 6/10\n",
      "50/50 - 0s - loss: 1.2345 - 62ms/epoch - 1ms/step\n",
      "Epoch 7/10\n",
      "50/50 - 0s - loss: 1.2027 - 68ms/epoch - 1ms/step\n",
      "Epoch 8/10\n",
      "50/50 - 0s - loss: 1.1747 - 79ms/epoch - 2ms/step\n",
      "Epoch 9/10\n",
      "50/50 - 0s - loss: 1.1524 - 79ms/epoch - 2ms/step\n",
      "Epoch 10/10\n",
      "50/50 - 0s - loss: 1.1195 - 71ms/epoch - 1ms/step\n"
     ]
    }
   ],
   "source": [
    "history = MLP_model.fit(train_X, train_y, epochs = 10, batch_size = 16, verbose = 2)"
   ]
  },
  {
   "cell_type": "code",
   "execution_count": 62,
   "id": "fbaebd26",
   "metadata": {},
   "outputs": [
    {
     "name": "stdout",
     "output_type": "stream",
     "text": [
      "7/7 [==============================] - 0s 2ms/step\n"
     ]
    }
   ],
   "source": [
    "pred = MLP_model.predict(test_X)"
   ]
  },
  {
   "cell_type": "code",
   "execution_count": 63,
   "id": "f1ae3b6f",
   "metadata": {
    "scrolled": true
   },
   "outputs": [
    {
     "name": "stdout",
     "output_type": "stream",
     "text": [
      "R2 score: 0.763553\n"
     ]
    }
   ],
   "source": [
    "r2 = sklearn.metrics.r2_score(test_y, pred)\n",
    "print(\"R2 score: %f\"%r2)"
   ]
  },
  {
   "cell_type": "markdown",
   "id": "d7ffa413",
   "metadata": {},
   "source": [
    "실험 결과 SGD 가 가장 높은 성능을 보였으며, Adagrad가 가장 낮은 성능을 보였습니다. 그러나, 데이터에 따라 최적화 방법의 성능은 달라질 수 있으며, 설정 가능한 parameter를 어떻게 설정하는지 역시 중요합니다."
   ]
  },
  {
   "cell_type": "markdown",
   "id": "c8e3e614",
   "metadata": {},
   "source": [
    "## 3. 회귀 모델 수행\n",
    "---\n",
    "다음으로, 금속분말 데이터를 이용하여 MLP 를 학습해보겠습니다."
   ]
  },
  {
   "cell_type": "markdown",
   "id": "dd64f526",
   "metadata": {},
   "source": [
    "### 3.1 라이브러리 불러오기"
   ]
  },
  {
   "cell_type": "code",
   "execution_count": 64,
   "id": "03a7979d",
   "metadata": {},
   "outputs": [],
   "source": [
    "import numpy as np\n",
    "import json"
   ]
  },
  {
   "cell_type": "markdown",
   "id": "1551cf92",
   "metadata": {},
   "source": [
    "### 3.2 학습용, 검증용, 테스트용 데이터 읽어오기"
   ]
  },
  {
   "cell_type": "code",
   "execution_count": 65,
   "id": "534a3750",
   "metadata": {},
   "outputs": [],
   "source": [
    "stage1 = {\n",
    "    'train_X': np.load('./Data/train_data_stage1_X.npy'),\n",
    "    'train_y': np.load('./Data/train_data_stage1_y.npy'),\n",
    "    'valid_X': np.load('./Data/valid_data_stage1_X.npy'),\n",
    "    'valid_y': np.load('./Data/valid_data_stage1_y.npy'),\n",
    "    'test_X': np.load('./Data/test_data_stage1_X.npy'),\n",
    "    'test_y': np.load('./Data/test_data_stage1_y.npy'),\n",
    "}\n",
    "\n",
    "stage2 = {\n",
    "    'train_X': np.load('./Data/train_data_stage2_X.npy'),\n",
    "    'train_y': np.load('./Data/train_data_stage2_y.npy'),\n",
    "    'valid_X': np.load('./Data/valid_data_stage2_X.npy'),\n",
    "    'valid_y': np.load('./Data/valid_data_stage2_y.npy'),\n",
    "    'test_X': np.load('./Data/test_data_stage2_X.npy'),\n",
    "    'test_y': np.load('./Data/test_data_stage2_y.npy'),\n",
    "}\n",
    "\n",
    "columns = json.load(open('./Data/valid_columns.json', 'r'))"
   ]
  },
  {
   "cell_type": "markdown",
   "id": "5560f464",
   "metadata": {},
   "source": [
    "### 3.3 데이터 표준화하기"
   ]
  },
  {
   "cell_type": "markdown",
   "id": "e1955c49",
   "metadata": {},
   "source": [
    "### 3.3.1 Stage1 데이터 표준화하기"
   ]
  },
  {
   "cell_type": "code",
   "execution_count": 66,
   "id": "8b72b5fc",
   "metadata": {},
   "outputs": [
    {
     "name": "stdout",
     "output_type": "stream",
     "text": [
      "입력값 평균: [  11.85294587  205.74478705  951.00255435 1242.437388     72.01273285\n",
      "   72.01162996   70.34571071   11.07603585  408.95062376   81.47648118\n",
      "   75.96962985   12.79330524  566.38390195  202.65058918   68.99620414\n",
      "   69.10054828   73.3958155    13.89662164  226.12474952   76.81680896\n",
      "   59.99898793    9.08815439  205.71384206  425.06943434  202.26546402\n",
      "   78.00841235   78.00453278  345.11532917   13.26721071  246.73680272\n",
      "   74.14375402   65.00868711  108.96768422   84.98831262   80.00354672\n",
      "   15.32405834   23.84402174]\n",
      "출력값 평균: [12.89768652 13.69662267  8.00480187 11.36113325 21.31940678 32.87843839\n",
      "  0.12721732  1.34725458  1.09990652 19.8051213   7.68305334  1.4919701\n",
      "  1.20588607  2.89104562 10.02515553]\n"
     ]
    }
   ],
   "source": [
    "stage1_X_mean = stage1['train_X'].mean(axis = 0)\n",
    "stage1_y_mean = stage1['train_y'].mean(axis = 0)\n",
    "print('입력값 평균:', stage1_X_mean)\n",
    "print('출력값 평균:', stage1_y_mean)"
   ]
  },
  {
   "cell_type": "code",
   "execution_count": 67,
   "id": "c8a73338",
   "metadata": {},
   "outputs": [
    {
     "name": "stdout",
     "output_type": "stream",
     "text": [
      "입력값 표준편차: [5.10993143e-01 1.16806618e+01 1.27620111e+02 9.77321235e+01\n",
      " 6.23396785e-02 4.06238919e-01 5.49867530e+00 6.36170724e-01\n",
      " 2.05368437e+01 9.21642493e-01 2.06429784e+00 1.07360805e-01\n",
      " 1.83380514e+01 1.48381842e+01 5.44970706e-02 1.06721153e-01\n",
      " 3.94100055e-01 2.91335938e-02 3.06908107e+00 8.30358591e-01\n",
      " 1.61971729e-01 3.95092636e-01 1.63223059e+01 9.53699574e+00\n",
      " 1.58921785e+01 7.73526529e-02 1.14547773e-01 9.05396328e+00\n",
      " 4.34061012e-01 6.10492128e+00 2.05042127e+00 6.27961350e-02\n",
      " 5.59761035e+00 1.85637963e+01 1.18126539e-01 1.18770739e+00\n",
      " 3.72221796e-01]\n",
      "출력값 표준편차: [0.9270819  0.85503751 6.90580271 1.03664992 2.14313701 3.882343\n",
      " 0.57606676 1.13060617 1.41265541 4.68687927 1.07824517 2.54294205\n",
      " 0.66114934 0.92884134 7.38778856]\n"
     ]
    }
   ],
   "source": [
    "stage1_X_std = stage1['train_X'].std(axis = 0)\n",
    "stage1_y_std = stage1['train_y'].std(axis = 0)\n",
    "print('입력값 표준편차:', stage1_X_std)\n",
    "print('출력값 표준편차:', stage1_y_std)"
   ]
  },
  {
   "cell_type": "code",
   "execution_count": 68,
   "id": "4905d580",
   "metadata": {},
   "outputs": [],
   "source": [
    "# 학습 데이터 표준화\n",
    "stage1['train_X'] = (stage1['train_X'] - stage1_X_mean) / stage1_X_std\n",
    "stage1['train_y'] = (stage1['train_y'] - stage1_y_mean) / stage1_y_std\n",
    "# 검증용 데이터 표준화\n",
    "stage1['valid_X'] = (stage1['valid_X'] - stage1_X_mean) / stage1_X_std\n",
    "stage1['valid_y'] = (stage1['valid_y'] - stage1_y_mean) / stage1_y_std\n",
    "# 테스트 데이터 표준화\n",
    "stage1['test_X'] = (stage1['test_X'] - stage1_X_mean) / stage1_X_std\n",
    "stage1['test_y'] = (stage1['test_y'] - stage1_y_mean) / stage1_y_std"
   ]
  },
  {
   "cell_type": "markdown",
   "id": "bb85bee4",
   "metadata": {},
   "source": [
    "### 3.3.2 Stage2 데이터 표준화하기"
   ]
  },
  {
   "cell_type": "markdown",
   "id": "d28c9d82",
   "metadata": {},
   "source": [
    "**[TODO] Stage2의 학습데이터의 칼럼별 평균과 표준편차를 계산하세요.**"
   ]
  },
  {
   "cell_type": "code",
   "execution_count": 69,
   "id": "085c9024",
   "metadata": {},
   "outputs": [
    {
     "name": "stdout",
     "output_type": "stream",
     "text": [
      "입력값 평균: [1.28976865e+01 1.36966227e+01 8.00480187e+00 1.13611333e+01\n",
      " 2.13194068e+01 3.28784384e+01 1.27217323e-01 1.34725458e+00\n",
      " 1.09990652e+00 1.98051213e+01 7.68305334e+00 1.49197010e+00\n",
      " 1.20588607e+00 2.89104562e+00 1.00251555e+01 3.60122933e+02\n",
      " 3.60136275e+02 1.72294333e+01 3.22627969e+02 3.09786854e+02\n",
      " 1.87200947e+02 3.09998282e+02 2.89997582e+02 2.69681649e+02\n",
      " 2.42661246e+02 2.44994629e+02 6.34195390e+01 1.54046742e+02\n",
      " 1.53240583e+01 2.38440217e+01]\n",
      "출력값 평균: [11.69212911  6.25614828 10.2499656  19.33555126  2.87697932  2.7475277\n",
      "  0.53310706  2.91750962 18.38898671 11.61424043  7.53420311  3.54181714\n",
      "  7.51699723]\n"
     ]
    }
   ],
   "source": [
    "stage2_X_mean = stage2['train_X'].mean(axis = 0)\n",
    "stage2_y_mean = stage2['train_y'].mean(axis = 0)\n",
    "print('입력값 평균:', stage2_X_mean)\n",
    "print('출력값 평균:', stage2_y_mean)"
   ]
  },
  {
   "cell_type": "code",
   "execution_count": 70,
   "id": "601becbb",
   "metadata": {},
   "outputs": [
    {
     "name": "stdout",
     "output_type": "stream",
     "text": [
      "입력값 표준편차: [ 0.9270819   0.85503751  6.90580271  1.03664992  2.14313701  3.882343\n",
      "  0.57606676  1.13060617  1.41265541  4.68687927  1.07824517  2.54294205\n",
      "  0.66114934  0.92884134  7.38778856  1.9209727   2.64895901  0.94209921\n",
      "  3.61537985  2.74078134 23.41676809  0.03961971  0.05202987  1.01853204\n",
      "  1.59098238  0.10771334  0.39587306  9.90869048  1.18770739  0.3722218 ]\n",
      "출력값 표준편차: [3.62230517 1.60057596 2.30753588 4.62537631 9.09270122 0.37574164\n",
      " 0.20467783 0.49744294 4.97294003 7.62127826 1.64901449 0.45450424\n",
      " 2.0723342 ]\n"
     ]
    }
   ],
   "source": [
    "stage2_X_std = stage2['train_X'].std(axis = 0)\n",
    "stage2_y_std = stage2['train_y'].std(axis = 0)\n",
    "print('입력값 표준편차:', stage2_X_std)\n",
    "print('출력값 표준편차:', stage2_y_std)"
   ]
  },
  {
   "cell_type": "markdown",
   "id": "4e388332",
   "metadata": {},
   "source": [
    "**[TODO] 계산한 평균과 표준편차를 이용하여 stage2의 데이터를 표준화해보세요.**"
   ]
  },
  {
   "cell_type": "code",
   "execution_count": 71,
   "id": "96fb7ea3",
   "metadata": {},
   "outputs": [],
   "source": [
    "# 학습 데이터 표준화\n",
    "stage2['train_X'] = (stage2['train_X'] - stage2_X_mean) / stage2_X_std\n",
    "stage2['train_y'] = (stage2['train_y'] - stage2_y_mean) / stage2_y_std\n",
    "\n",
    "# 검증용 데이터 표준화\n",
    "stage2['valid_X'] = (stage2['valid_X'] - stage2_X_mean) / stage2_X_std\n",
    "stage2['valid_y'] = (stage2['valid_y'] - stage2_y_mean) / stage2_y_std\n",
    "\n",
    "\n",
    "# 테스트 데이터 표준화\n",
    "stage2['test_X'] = (stage2['test_X'] - stage2_X_mean) / stage2_X_std\n",
    "stage2['test_y'] = (stage2['test_y'] - stage2_y_mean) / stage2_y_std\n"
   ]
  },
  {
   "cell_type": "markdown",
   "id": "a9a3242f",
   "metadata": {},
   "source": [
    "### 3.4 MLP 회귀 모델 수행 (Stage1)"
   ]
  },
  {
   "cell_type": "markdown",
   "id": "05942e43",
   "metadata": {},
   "source": [
    "### 3.4.1 모델 정의"
   ]
  },
  {
   "cell_type": "code",
   "execution_count": 72,
   "id": "701629d6",
   "metadata": {},
   "outputs": [],
   "source": [
    "# MLP 모델을 설정합니다.\n",
    "MLP_model = tf.keras.Sequential([\n",
    "    Input(shape = stage1['train_X'].shape[1]),\n",
    "    tf.keras.layers.Dense(64, activation = 'relu'),\n",
    "    tf.keras.layers.Dense(32, activation = 'relu'),\n",
    "    tf.keras.layers.Dense(stage1['train_y'].shape[1])\n",
    "])"
   ]
  },
  {
   "cell_type": "markdown",
   "id": "e2aed95b",
   "metadata": {},
   "source": [
    "### 3.4.2 모델 학습 방법 설정"
   ]
  },
  {
   "cell_type": "code",
   "execution_count": 73,
   "id": "8213132f",
   "metadata": {},
   "outputs": [],
   "source": [
    "MLP_model.compile(loss = 'mse',\n",
    "              optimizer = tf.keras.optimizers.SGD(),\n",
    ")"
   ]
  },
  {
   "cell_type": "markdown",
   "id": "a5c1d34f",
   "metadata": {},
   "source": [
    "### 3.4.3 모델 학습"
   ]
  },
  {
   "cell_type": "code",
   "execution_count": 74,
   "id": "bfb08d84",
   "metadata": {
    "scrolled": true
   },
   "outputs": [
    {
     "name": "stdout",
     "output_type": "stream",
     "text": [
      "Epoch 1/50\n",
      "564/564 - 1s - loss: 0.9189 - 1s/epoch - 2ms/step\n",
      "Epoch 2/50\n",
      "564/564 - 1s - loss: 0.7837 - 814ms/epoch - 1ms/step\n",
      "Epoch 3/50\n",
      "564/564 - 1s - loss: 0.7528 - 816ms/epoch - 1ms/step\n",
      "Epoch 4/50\n",
      "564/564 - 1s - loss: 0.7343 - 793ms/epoch - 1ms/step\n",
      "Epoch 5/50\n",
      "564/564 - 1s - loss: 0.7201 - 771ms/epoch - 1ms/step\n",
      "Epoch 6/50\n",
      "564/564 - 1s - loss: 0.7077 - 658ms/epoch - 1ms/step\n",
      "Epoch 7/50\n",
      "564/564 - 1s - loss: 0.6967 - 626ms/epoch - 1ms/step\n",
      "Epoch 8/50\n",
      "564/564 - 1s - loss: 0.6862 - 597ms/epoch - 1ms/step\n",
      "Epoch 9/50\n",
      "564/564 - 1s - loss: 0.6760 - 620ms/epoch - 1ms/step\n",
      "Epoch 10/50\n",
      "564/564 - 1s - loss: 0.6658 - 628ms/epoch - 1ms/step\n",
      "Epoch 11/50\n",
      "564/564 - 1s - loss: 0.6569 - 651ms/epoch - 1ms/step\n",
      "Epoch 12/50\n",
      "564/564 - 1s - loss: 0.6480 - 662ms/epoch - 1ms/step\n",
      "Epoch 13/50\n",
      "564/564 - 1s - loss: 0.6391 - 716ms/epoch - 1ms/step\n",
      "Epoch 14/50\n",
      "564/564 - 1s - loss: 0.6311 - 738ms/epoch - 1ms/step\n",
      "Epoch 15/50\n",
      "564/564 - 1s - loss: 0.6240 - 819ms/epoch - 1ms/step\n",
      "Epoch 16/50\n",
      "564/564 - 1s - loss: 0.6161 - 801ms/epoch - 1ms/step\n",
      "Epoch 17/50\n",
      "564/564 - 1s - loss: 0.6092 - 822ms/epoch - 1ms/step\n",
      "Epoch 18/50\n",
      "564/564 - 1s - loss: 0.6021 - 793ms/epoch - 1ms/step\n",
      "Epoch 19/50\n",
      "564/564 - 1s - loss: 0.5949 - 821ms/epoch - 1ms/step\n",
      "Epoch 20/50\n",
      "564/564 - 1s - loss: 0.5878 - 796ms/epoch - 1ms/step\n",
      "Epoch 21/50\n",
      "564/564 - 1s - loss: 0.5813 - 798ms/epoch - 1ms/step\n",
      "Epoch 22/50\n",
      "564/564 - 1s - loss: 0.5739 - 827ms/epoch - 1ms/step\n",
      "Epoch 23/50\n",
      "564/564 - 1s - loss: 0.5678 - 814ms/epoch - 1ms/step\n",
      "Epoch 24/50\n",
      "564/564 - 1s - loss: 0.5603 - 828ms/epoch - 1ms/step\n",
      "Epoch 25/50\n",
      "564/564 - 1s - loss: 0.5527 - 798ms/epoch - 1ms/step\n",
      "Epoch 26/50\n",
      "564/564 - 1s - loss: 0.5453 - 799ms/epoch - 1ms/step\n",
      "Epoch 27/50\n",
      "564/564 - 1s - loss: 0.5375 - 801ms/epoch - 1ms/step\n",
      "Epoch 28/50\n",
      "564/564 - 1s - loss: 0.5297 - 811ms/epoch - 1ms/step\n",
      "Epoch 29/50\n",
      "564/564 - 1s - loss: 0.5218 - 817ms/epoch - 1ms/step\n",
      "Epoch 30/50\n",
      "564/564 - 1s - loss: 0.5148 - 803ms/epoch - 1ms/step\n",
      "Epoch 31/50\n",
      "564/564 - 1s - loss: 0.5064 - 760ms/epoch - 1ms/step\n",
      "Epoch 32/50\n",
      "564/564 - 1s - loss: 0.5014 - 816ms/epoch - 1ms/step\n",
      "Epoch 33/50\n",
      "564/564 - 1s - loss: 0.4920 - 795ms/epoch - 1ms/step\n",
      "Epoch 34/50\n",
      "564/564 - 1s - loss: 0.4865 - 831ms/epoch - 1ms/step\n",
      "Epoch 35/50\n",
      "564/564 - 1s - loss: 0.4792 - 812ms/epoch - 1ms/step\n",
      "Epoch 36/50\n",
      "564/564 - 1s - loss: 0.4734 - 852ms/epoch - 2ms/step\n",
      "Epoch 37/50\n",
      "564/564 - 1s - loss: 0.4675 - 796ms/epoch - 1ms/step\n",
      "Epoch 38/50\n",
      "564/564 - 1s - loss: 0.4617 - 815ms/epoch - 1ms/step\n",
      "Epoch 39/50\n",
      "564/564 - 1s - loss: 0.4558 - 795ms/epoch - 1ms/step\n",
      "Epoch 40/50\n",
      "564/564 - 1s - loss: 0.4498 - 812ms/epoch - 1ms/step\n",
      "Epoch 41/50\n",
      "564/564 - 1s - loss: 0.4468 - 797ms/epoch - 1ms/step\n",
      "Epoch 42/50\n",
      "564/564 - 1s - loss: 0.4422 - 828ms/epoch - 1ms/step\n",
      "Epoch 43/50\n",
      "564/564 - 1s - loss: 0.4337 - 794ms/epoch - 1ms/step\n",
      "Epoch 44/50\n",
      "564/564 - 1s - loss: 0.4349 - 802ms/epoch - 1ms/step\n",
      "Epoch 45/50\n",
      "564/564 - 1s - loss: 0.4269 - 832ms/epoch - 1ms/step\n",
      "Epoch 46/50\n",
      "564/564 - 1s - loss: 0.4243 - 811ms/epoch - 1ms/step\n",
      "Epoch 47/50\n",
      "564/564 - 1s - loss: 0.4214 - 758ms/epoch - 1ms/step\n",
      "Epoch 48/50\n",
      "564/564 - 1s - loss: 0.4178 - 823ms/epoch - 1ms/step\n",
      "Epoch 49/50\n",
      "564/564 - 1s - loss: 0.4116 - 798ms/epoch - 1ms/step\n",
      "Epoch 50/50\n",
      "564/564 - 1s - loss: 0.4098 - 740ms/epoch - 1ms/step\n"
     ]
    }
   ],
   "source": [
    "history = MLP_model.fit(stage1['train_X'], stage1['train_y'], epochs = 50, batch_size = 16, verbose = 2)"
   ]
  },
  {
   "cell_type": "markdown",
   "id": "8a8ee583",
   "metadata": {},
   "source": [
    "### 3.4.4 모델 예측"
   ]
  },
  {
   "cell_type": "code",
   "execution_count": 75,
   "id": "4759f520",
   "metadata": {},
   "outputs": [
    {
     "name": "stdout",
     "output_type": "stream",
     "text": [
      "36/36 [==============================] - 0s 920us/step\n"
     ]
    }
   ],
   "source": [
    "pred = MLP_model.predict(stage1['test_X'])"
   ]
  },
  {
   "cell_type": "markdown",
   "id": "ffda22aa",
   "metadata": {},
   "source": [
    "### 3.4.5 모델 평가"
   ]
  },
  {
   "cell_type": "code",
   "execution_count": 76,
   "id": "d0c6e116",
   "metadata": {
    "scrolled": false
   },
   "outputs": [
    {
     "name": "stdout",
     "output_type": "stream",
     "text": [
      "R2 score: 0.541549\n"
     ]
    }
   ],
   "source": [
    "r2 = sklearn.metrics.r2_score(stage1['test_y'], pred)\n",
    "print(\"R2 score: %f\"%r2)"
   ]
  },
  {
   "cell_type": "markdown",
   "id": "e4ce5550",
   "metadata": {},
   "source": [
    "### 3.4 MLP 회귀 모델 수행 (Stage2)"
   ]
  },
  {
   "cell_type": "markdown",
   "id": "d42e89b3",
   "metadata": {},
   "source": [
    "**[TODO] 각 셀의 주석 대로 Stage2 데이터에 대한 MLP 모델을 완성해보세요.**"
   ]
  },
  {
   "cell_type": "markdown",
   "id": "fff17069",
   "metadata": {},
   "source": [
    "### 3.4.1 모델 정의"
   ]
  },
  {
   "cell_type": "code",
   "execution_count": 77,
   "id": "a6f484bc",
   "metadata": {},
   "outputs": [],
   "source": [
    "# MLP 모델을 설정합니다. MLP 모델의 내부 구성은 Stage1과 동일하게 합니다.\n",
    "MLP_model = tf.keras.Sequential([\n",
    "    Input(shape = stage2['train_X'].shape[1]),\n",
    "    tf.keras.layers.Dense(64, activation = 'relu'), # 활성함수는 relu로 설정해주세요.\n",
    "    tf.keras.layers.Dense(32, activation = 'relu'),\n",
    "    tf.keras.layers.Dense(stage2['train_y'].shape[1])\n",
    "])"
   ]
  },
  {
   "cell_type": "markdown",
   "id": "47f3748e",
   "metadata": {},
   "source": [
    "### 3.4.2 모델 학습 방법 설정"
   ]
  },
  {
   "cell_type": "code",
   "execution_count": 78,
   "id": "950b300f",
   "metadata": {},
   "outputs": [],
   "source": [
    "# MLP 모델을 컴파일합니다. 학습 방법은 Stage1과 동일하게 합니다.\n",
    "MLP_model.compile(loss = 'mse',\n",
    "              optimizer = tf.keras.optimizers.SGD(),\n",
    ")"
   ]
  },
  {
   "cell_type": "markdown",
   "id": "5ece407a",
   "metadata": {},
   "source": [
    "### 3.4.3 모델 학습"
   ]
  },
  {
   "cell_type": "code",
   "execution_count": 79,
   "id": "b6fdbf20",
   "metadata": {
    "scrolled": true
   },
   "outputs": [
    {
     "name": "stdout",
     "output_type": "stream",
     "text": [
      "Epoch 1/50\n",
      "564/564 - 1s - loss: 0.7455 - 848ms/epoch - 2ms/step\n",
      "Epoch 2/50\n",
      "564/564 - 1s - loss: 0.5431 - 551ms/epoch - 978us/step\n",
      "Epoch 3/50\n",
      "564/564 - 1s - loss: 0.4958 - 570ms/epoch - 1ms/step\n",
      "Epoch 4/50\n",
      "564/564 - 1s - loss: 0.4739 - 564ms/epoch - 1ms/step\n",
      "Epoch 5/50\n",
      "564/564 - 1s - loss: 0.4628 - 591ms/epoch - 1ms/step\n",
      "Epoch 6/50\n",
      "564/564 - 1s - loss: 0.4549 - 584ms/epoch - 1ms/step\n",
      "Epoch 7/50\n",
      "564/564 - 1s - loss: 0.4486 - 552ms/epoch - 979us/step\n",
      "Epoch 8/50\n",
      "564/564 - 1s - loss: 0.4430 - 556ms/epoch - 985us/step\n",
      "Epoch 9/50\n",
      "564/564 - 1s - loss: 0.4373 - 565ms/epoch - 1ms/step\n",
      "Epoch 10/50\n",
      "564/564 - 1s - loss: 0.4324 - 602ms/epoch - 1ms/step\n",
      "Epoch 11/50\n",
      "564/564 - 1s - loss: 0.4279 - 641ms/epoch - 1ms/step\n",
      "Epoch 12/50\n",
      "564/564 - 1s - loss: 0.4234 - 733ms/epoch - 1ms/step\n",
      "Epoch 13/50\n",
      "564/564 - 1s - loss: 0.4187 - 563ms/epoch - 999us/step\n",
      "Epoch 14/50\n",
      "564/564 - 1s - loss: 0.4142 - 559ms/epoch - 991us/step\n",
      "Epoch 15/50\n",
      "564/564 - 1s - loss: 0.4100 - 565ms/epoch - 1ms/step\n",
      "Epoch 16/50\n",
      "564/564 - 1s - loss: 0.4061 - 554ms/epoch - 983us/step\n",
      "Epoch 17/50\n",
      "564/564 - 1s - loss: 0.4021 - 597ms/epoch - 1ms/step\n",
      "Epoch 18/50\n",
      "564/564 - 1s - loss: 0.3981 - 774ms/epoch - 1ms/step\n",
      "Epoch 19/50\n",
      "564/564 - 1s - loss: 0.3941 - 820ms/epoch - 1ms/step\n",
      "Epoch 20/50\n",
      "564/564 - 1s - loss: 0.3904 - 728ms/epoch - 1ms/step\n",
      "Epoch 21/50\n",
      "564/564 - 1s - loss: 0.3866 - 770ms/epoch - 1ms/step\n",
      "Epoch 22/50\n",
      "564/564 - 1s - loss: 0.3825 - 829ms/epoch - 1ms/step\n",
      "Epoch 23/50\n",
      "564/564 - 1s - loss: 0.3793 - 835ms/epoch - 1ms/step\n",
      "Epoch 24/50\n",
      "564/564 - 1s - loss: 0.3763 - 772ms/epoch - 1ms/step\n",
      "Epoch 25/50\n",
      "564/564 - 1s - loss: 0.3726 - 815ms/epoch - 1ms/step\n",
      "Epoch 26/50\n",
      "564/564 - 1s - loss: 0.3694 - 811ms/epoch - 1ms/step\n",
      "Epoch 27/50\n",
      "564/564 - 1s - loss: 0.3666 - 799ms/epoch - 1ms/step\n",
      "Epoch 28/50\n",
      "564/564 - 1s - loss: 0.3633 - 847ms/epoch - 2ms/step\n",
      "Epoch 29/50\n",
      "564/564 - 1s - loss: 0.3613 - 825ms/epoch - 1ms/step\n",
      "Epoch 30/50\n",
      "564/564 - 1s - loss: 0.3584 - 786ms/epoch - 1ms/step\n",
      "Epoch 31/50\n",
      "564/564 - 1s - loss: 0.3566 - 814ms/epoch - 1ms/step\n",
      "Epoch 32/50\n",
      "564/564 - 1s - loss: 0.3546 - 784ms/epoch - 1ms/step\n",
      "Epoch 33/50\n",
      "564/564 - 1s - loss: 0.3525 - 811ms/epoch - 1ms/step\n",
      "Epoch 34/50\n",
      "564/564 - 1s - loss: 0.3503 - 809ms/epoch - 1ms/step\n",
      "Epoch 35/50\n",
      "564/564 - 1s - loss: 0.3488 - 788ms/epoch - 1ms/step\n",
      "Epoch 36/50\n",
      "564/564 - 1s - loss: 0.3473 - 807ms/epoch - 1ms/step\n",
      "Epoch 37/50\n",
      "564/564 - 1s - loss: 0.3455 - 786ms/epoch - 1ms/step\n",
      "Epoch 38/50\n",
      "564/564 - 1s - loss: 0.3443 - 780ms/epoch - 1ms/step\n",
      "Epoch 39/50\n",
      "564/564 - 1s - loss: 0.3431 - 752ms/epoch - 1ms/step\n",
      "Epoch 40/50\n",
      "564/564 - 1s - loss: 0.3413 - 808ms/epoch - 1ms/step\n",
      "Epoch 41/50\n",
      "564/564 - 1s - loss: 0.3405 - 792ms/epoch - 1ms/step\n",
      "Epoch 42/50\n",
      "564/564 - 1s - loss: 0.3393 - 826ms/epoch - 1ms/step\n",
      "Epoch 43/50\n",
      "564/564 - 1s - loss: 0.3385 - 808ms/epoch - 1ms/step\n",
      "Epoch 44/50\n",
      "564/564 - 1s - loss: 0.3366 - 820ms/epoch - 1ms/step\n",
      "Epoch 45/50\n",
      "564/564 - 1s - loss: 0.3361 - 816ms/epoch - 1ms/step\n",
      "Epoch 46/50\n",
      "564/564 - 1s - loss: 0.3349 - 834ms/epoch - 1ms/step\n",
      "Epoch 47/50\n",
      "564/564 - 1s - loss: 0.3344 - 790ms/epoch - 1ms/step\n",
      "Epoch 48/50\n",
      "564/564 - 1s - loss: 0.3334 - 846ms/epoch - 1ms/step\n",
      "Epoch 49/50\n",
      "564/564 - 1s - loss: 0.3323 - 820ms/epoch - 1ms/step\n",
      "Epoch 50/50\n",
      "564/564 - 1s - loss: 0.3316 - 820ms/epoch - 1ms/step\n"
     ]
    }
   ],
   "source": [
    "# MLP 모델을 학습합니다. 50에폭 동안 배치사이즌 16으로 학습합니다.\n",
    "history = MLP_model.fit(stage2['train_X'], stage2['train_y'], epochs = 50, batch_size= 16, verbose = 2)"
   ]
  },
  {
   "cell_type": "markdown",
   "id": "badc5932",
   "metadata": {},
   "source": [
    "### 3.4.4 모델 예측"
   ]
  },
  {
   "cell_type": "code",
   "execution_count": 80,
   "id": "9184b13a",
   "metadata": {},
   "outputs": [
    {
     "name": "stdout",
     "output_type": "stream",
     "text": [
      "36/36 [==============================] - 0s 2ms/step\n"
     ]
    }
   ],
   "source": [
    "# 학습된 MLP 모델을 테스트 데이터에 대해 예측합니다.\n",
    "pred = MLP_model.predict(stage2['test_X'])"
   ]
  },
  {
   "cell_type": "markdown",
   "id": "43c55627",
   "metadata": {},
   "source": [
    "### 3.4.5 모델 평가"
   ]
  },
  {
   "cell_type": "code",
   "execution_count": 81,
   "id": "bed053b1",
   "metadata": {
    "scrolled": true
   },
   "outputs": [
    {
     "name": "stdout",
     "output_type": "stream",
     "text": [
      "R2 score: 0.659463\n"
     ]
    }
   ],
   "source": [
    "# 예측된 결과의 R2 score를 출력합니다.\n",
    "r2 = sklearn.metrics.r2_score(stage2['test_y'], pred)\n",
    "print(\"R2 score: %f\"%r2)"
   ]
  },
  {
   "cell_type": "markdown",
   "id": "cdf29369",
   "metadata": {},
   "source": [
    "<span style=\"color:rgb(120, 120, 120)\">본 학습 자료를 포함한 사이트 내 모든 자료의 저작권은 엘리스에 있으며 외부로의 무단 복제, 배포 및 전송을 불허합니다.\n",
    "\n",
    "Copyright @ elice all rights reserved</span>"
   ]
  }
 ],
 "metadata": {
  "kernelspec": {
   "display_name": "Python 3 (ipykernel)",
   "language": "python",
   "name": "python3"
  },
  "language_info": {
   "codemirror_mode": {
    "name": "ipython",
    "version": 3
   },
   "file_extension": ".py",
   "mimetype": "text/x-python",
   "name": "python",
   "nbconvert_exporter": "python",
   "pygments_lexer": "ipython3",
   "version": "3.10.14"
  }
 },
 "nbformat": 4,
 "nbformat_minor": 5
}
