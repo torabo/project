{
 "cells": [
  {
   "cell_type": "markdown",
   "id": "b6b1907a",
   "metadata": {},
   "source": [
    "# [실습6] AI 기법 성능 향상 방법론\n"
   ]
  },
  {
   "cell_type": "markdown",
   "id": "87d81ccf",
   "metadata": {},
   "source": [
    "---"
   ]
  },
  {
   "cell_type": "markdown",
   "id": "f4e9f036",
   "metadata": {},
   "source": [
    "## 실습 목표\n",
    "---\n",
    "- 하이퍼 매개변수 튜닝에 대해 배워봅니다.\n",
    "- K-fold 교차 검증을 수행해봅니다.\n",
    "- Residual network를 구현해봅니다.\n",
    "- Positional encoding을 구현해봅니다.\n",
    "- 금속분말 데이터셋에 대한 최적의 인공지능 모델을 구현해봅니다."
   ]
  },
  {
   "cell_type": "markdown",
   "id": "4cdc1bd5",
   "metadata": {},
   "source": [
    "## 실습 목차\n",
    "---\n",
    "1. **Hyper-parameter 튜닝:** 하이퍼 매개변수 튜닝을 수행해봅니다.\n",
    "\n",
    "2. **K-fold 교차검증:** K-fold 교차검증으로 모델을 평가해봅니다.\n",
    "\n",
    "3. **Residual network:** Residual network를 구현해봅니다.\n",
    "\n",
    "4. **Positional encoding:** Positional encoding을 구현해봅니다.\n",
    "\n",
    "5. **최적의 모델 구현:** 여태까지 배웠던 것들을 종합하여 최적의 인공지능 모델을 만들어봅니다."
   ]
  },
  {
   "cell_type": "markdown",
   "id": "37aa4deb",
   "metadata": {},
   "source": [
    "## 실습 개요\n",
    "---\n",
    "\n",
    "이번 실습에서는 AI 모델의 성능 향상을 위한 다양한 기법을 수행해봅니다."
   ]
  },
  {
   "cell_type": "markdown",
   "id": "ded0a5cb",
   "metadata": {},
   "source": [
    "## 1. Hyper-parameter 튜닝\n",
    "---\n",
    "금속분말 데이터셋을 이용하여 하이퍼 매개변수 튜닝을 수행해보겠습니다.\n"
   ]
  },
  {
   "cell_type": "markdown",
   "id": "8cf0abbd",
   "metadata": {},
   "source": [
    "### 1.1 라이브러리 불러오기"
   ]
  },
  {
   "cell_type": "code",
   "execution_count": 1,
   "id": "8b9f553b",
   "metadata": {},
   "outputs": [
    {
     "name": "stderr",
     "output_type": "stream",
     "text": [
      "2025-02-11 04:18:54.142278: I tensorflow/core/platform/cpu_feature_guard.cc:193] This TensorFlow binary is optimized with oneAPI Deep Neural Network Library (oneDNN) to use the following CPU instructions in performance-critical operations:  AVX2 AVX512F AVX512_VNNI FMA\n",
      "To enable them in other operations, rebuild TensorFlow with the appropriate compiler flags.\n",
      "2025-02-11 04:18:54.243849: I tensorflow/core/util/util.cc:169] oneDNN custom operations are on. You may see slightly different numerical results due to floating-point round-off errors from different computation orders. To turn them off, set the environment variable `TF_ENABLE_ONEDNN_OPTS=0`.\n",
      "2025-02-11 04:18:54.274420: E tensorflow/stream_executor/cuda/cuda_blas.cc:2981] Unable to register cuBLAS factory: Attempting to register factory for plugin cuBLAS when one has already been registered\n",
      "2025-02-11 04:18:55.363715: W tensorflow/stream_executor/platform/default/dso_loader.cc:64] Could not load dynamic library 'libnvinfer.so.7'; dlerror: libnvinfer.so.7: cannot open shared object file: No such file or directory; LD_LIBRARY_PATH: /usr/local/nvidia/lib:/usr/local/nvidia/lib64\n",
      "2025-02-11 04:18:55.363790: W tensorflow/stream_executor/platform/default/dso_loader.cc:64] Could not load dynamic library 'libnvinfer_plugin.so.7'; dlerror: libnvinfer_plugin.so.7: cannot open shared object file: No such file or directory; LD_LIBRARY_PATH: /usr/local/nvidia/lib:/usr/local/nvidia/lib64\n",
      "2025-02-11 04:18:55.363798: W tensorflow/compiler/tf2tensorrt/utils/py_utils.cc:38] TF-TRT Warning: Cannot dlopen some TensorRT libraries. If you would like to use Nvidia GPU with TensorRT, please make sure the missing libraries mentioned above are installed properly.\n"
     ]
    }
   ],
   "source": [
    "import numpy as np\n",
    "import random\n",
    "from matplotlib import pyplot as plt\n",
    "%matplotlib inline\n",
    "import tensorflow as tf\n",
    "from tensorflow.keras.layers import Input\n",
    "import json\n",
    "import sklearn.metrics"
   ]
  },
  {
   "cell_type": "markdown",
   "id": "10f410e6",
   "metadata": {},
   "source": [
    "### 1.2 데이터셋 읽어오기"
   ]
  },
  {
   "cell_type": "code",
   "execution_count": 2,
   "id": "cff71ce1",
   "metadata": {},
   "outputs": [],
   "source": [
    "stage1 = {\n",
    "    \"train_X\": np.load(\"./Data/train_data_stage1_X.npy\"),\n",
    "    \"train_y\": np.load(\"./Data/train_data_stage1_y.npy\"),\n",
    "    \"valid_X\": np.load(\"./Data/valid_data_stage1_X.npy\"),\n",
    "    \"valid_y\": np.load(\"./Data/valid_data_stage1_y.npy\"),\n",
    "    \"test_X\": np.load(\"./Data/test_data_stage1_X.npy\"),\n",
    "    \"test_y\": np.load(\"./Data/test_data_stage1_y.npy\"),\n",
    "}\n",
    "\n",
    "stage2 = {\n",
    "    \"train_X\": np.load(\"./Data/train_data_stage2_X.npy\"),\n",
    "    \"train_y\": np.load(\"./Data/train_data_stage2_y.npy\"),\n",
    "    \"valid_X\": np.load(\"./Data/valid_data_stage2_X.npy\"),\n",
    "    \"valid_y\": np.load(\"./Data/valid_data_stage2_y.npy\"),\n",
    "    \"test_X\": np.load(\"./Data/test_data_stage2_X.npy\"),\n",
    "    \"test_y\": np.load(\"./Data/test_data_stage2_y.npy\"),\n",
    "}\n",
    "\n",
    "columns = json.load(open(\"./Data/valid_columns.json\", \"r\"))"
   ]
  },
  {
   "cell_type": "markdown",
   "id": "e9b60e1e",
   "metadata": {},
   "source": [
    "### 1.3 데이터 표준화하기"
   ]
  },
  {
   "cell_type": "markdown",
   "id": "42578797",
   "metadata": {},
   "source": [
    "### 1.3.1 Stage1 데이터 표준화하기"
   ]
  },
  {
   "cell_type": "code",
   "execution_count": 3,
   "id": "0dc2dd33",
   "metadata": {},
   "outputs": [
    {
     "name": "stdout",
     "output_type": "stream",
     "text": [
      "입력값 평균: [  11.85294587  205.74478705  951.00255435 1242.437388     72.01273285\n",
      "   72.01162996   70.34571071   11.07603585  408.95062376   81.47648118\n",
      "   75.96962985   12.79330524  566.38390195  202.65058918   68.99620414\n",
      "   69.10054828   73.3958155    13.89662164  226.12474952   76.81680896\n",
      "   59.99898793    9.08815439  205.71384206  425.06943434  202.26546402\n",
      "   78.00841235   78.00453278  345.11532917   13.26721071  246.73680272\n",
      "   74.14375402   65.00868711  108.96768422   84.98831262   80.00354672\n",
      "   15.32405834   23.84402174]\n",
      "출력값 평균: [12.89768652 13.69662267  8.00480187 11.36113325 21.31940678 32.87843839\n",
      "  0.12721732  1.34725458  1.09990652 19.8051213   7.68305334  1.4919701\n",
      "  1.20588607  2.89104562 10.02515553]\n"
     ]
    }
   ],
   "source": [
    "stage1_X_mean = stage1[\"train_X\"].mean(axis=0)\n",
    "stage1_y_mean = stage1[\"train_y\"].mean(axis=0)\n",
    "print(\"입력값 평균:\", stage1_X_mean)\n",
    "print(\"출력값 평균:\", stage1_y_mean)"
   ]
  },
  {
   "cell_type": "code",
   "execution_count": 4,
   "id": "b3b2aa5e",
   "metadata": {},
   "outputs": [
    {
     "name": "stdout",
     "output_type": "stream",
     "text": [
      "입력값 표준편차: [5.10993143e-01 1.16806618e+01 1.27620111e+02 9.77321235e+01\n",
      " 6.23396785e-02 4.06238919e-01 5.49867530e+00 6.36170724e-01\n",
      " 2.05368437e+01 9.21642493e-01 2.06429784e+00 1.07360805e-01\n",
      " 1.83380514e+01 1.48381842e+01 5.44970706e-02 1.06721153e-01\n",
      " 3.94100055e-01 2.91335938e-02 3.06908107e+00 8.30358591e-01\n",
      " 1.61971729e-01 3.95092636e-01 1.63223059e+01 9.53699574e+00\n",
      " 1.58921785e+01 7.73526529e-02 1.14547773e-01 9.05396328e+00\n",
      " 4.34061012e-01 6.10492128e+00 2.05042127e+00 6.27961350e-02\n",
      " 5.59761035e+00 1.85637963e+01 1.18126539e-01 1.18770739e+00\n",
      " 3.72221796e-01]\n",
      "출력값 표준편차: [0.9270819  0.85503751 6.90580271 1.03664992 2.14313701 3.882343\n",
      " 0.57606676 1.13060617 1.41265541 4.68687927 1.07824517 2.54294205\n",
      " 0.66114934 0.92884134 7.38778856]\n"
     ]
    }
   ],
   "source": [
    "stage1_X_std = stage1[\"train_X\"].std(axis=0)\n",
    "stage1_y_std = stage1[\"train_y\"].std(axis=0)\n",
    "print(\"입력값 표준편차:\", stage1_X_std)\n",
    "print(\"출력값 표준편차:\", stage1_y_std)"
   ]
  },
  {
   "cell_type": "code",
   "execution_count": 5,
   "id": "5a1670da",
   "metadata": {},
   "outputs": [],
   "source": [
    "# 학습 데이터 표준화\n",
    "stage1[\"train_X\"] = (stage1[\"train_X\"] - stage1_X_mean) / stage1_X_std\n",
    "stage1[\"train_y\"] = (stage1[\"train_y\"] - stage1_y_mean) / stage1_y_std\n",
    "# 검증용 데이터 표준화\n",
    "stage1[\"valid_X\"] = (stage1[\"valid_X\"] - stage1_X_mean) / stage1_X_std\n",
    "stage1[\"valid_y\"] = (stage1[\"valid_y\"] - stage1_y_mean) / stage1_y_std\n",
    "# 테스트 데이터 표준화\n",
    "stage1[\"test_X\"] = (stage1[\"test_X\"] - stage1_X_mean) / stage1_X_std\n",
    "stage1[\"test_y\"] = (stage1[\"test_y\"] - stage1_y_mean) / stage1_y_std"
   ]
  },
  {
   "cell_type": "markdown",
   "id": "253b6c28",
   "metadata": {},
   "source": [
    "### 1.3.2 Stage2 데이터 표준화하기"
   ]
  },
  {
   "cell_type": "code",
   "execution_count": 6,
   "id": "98d82ad0",
   "metadata": {},
   "outputs": [
    {
     "name": "stdout",
     "output_type": "stream",
     "text": [
      "입력값 평균: [1.28976865e+01 1.36966227e+01 8.00480187e+00 1.13611333e+01\n",
      " 2.13194068e+01 3.28784384e+01 1.27217323e-01 1.34725458e+00\n",
      " 1.09990652e+00 1.98051213e+01 7.68305334e+00 1.49197010e+00\n",
      " 1.20588607e+00 2.89104562e+00 1.00251555e+01 3.60122933e+02\n",
      " 3.60136275e+02 1.72294333e+01 3.22627969e+02 3.09786854e+02\n",
      " 1.87200947e+02 3.09998282e+02 2.89997582e+02 2.69681649e+02\n",
      " 2.42661246e+02 2.44994629e+02 6.34195390e+01 1.54046742e+02\n",
      " 1.53240583e+01 2.38440217e+01]\n",
      "출력값 평균: [11.69212911  6.25614828 10.2499656  19.33555126  2.87697932  2.7475277\n",
      "  0.53310706  2.91750962 18.38898671 11.61424043  7.53420311  3.54181714\n",
      "  7.51699723]\n"
     ]
    }
   ],
   "source": [
    "stage2_X_mean = stage2[\"train_X\"].mean(axis=0)\n",
    "stage2_y_mean = stage2[\"train_y\"].mean(axis=0)\n",
    "print(\"입력값 평균:\", stage2_X_mean)\n",
    "print(\"출력값 평균:\", stage2_y_mean)"
   ]
  },
  {
   "cell_type": "code",
   "execution_count": 7,
   "id": "30834f35",
   "metadata": {},
   "outputs": [
    {
     "name": "stdout",
     "output_type": "stream",
     "text": [
      "입력값 표준편차: [ 0.9270819   0.85503751  6.90580271  1.03664992  2.14313701  3.882343\n",
      "  0.57606676  1.13060617  1.41265541  4.68687927  1.07824517  2.54294205\n",
      "  0.66114934  0.92884134  7.38778856  1.9209727   2.64895901  0.94209921\n",
      "  3.61537985  2.74078134 23.41676809  0.03961971  0.05202987  1.01853204\n",
      "  1.59098238  0.10771334  0.39587306  9.90869048  1.18770739  0.3722218 ]\n",
      "출력값 표준편차: [3.62230517 1.60057596 2.30753588 4.62537631 9.09270122 0.37574164\n",
      " 0.20467783 0.49744294 4.97294003 7.62127826 1.64901449 0.45450424\n",
      " 2.0723342 ]\n"
     ]
    }
   ],
   "source": [
    "stage2_X_std = stage2[\"train_X\"].std(axis=0)\n",
    "stage2_y_std = stage2[\"train_y\"].std(axis=0)\n",
    "print(\"입력값 표준편차:\", stage2_X_std)\n",
    "print(\"출력값 표준편차:\", stage2_y_std)"
   ]
  },
  {
   "cell_type": "code",
   "execution_count": 8,
   "id": "07886e4b",
   "metadata": {},
   "outputs": [],
   "source": [
    "# 학습 데이터 표준화\n",
    "stage2[\"train_X\"] = (stage2[\"train_X\"] - stage2_X_mean) / stage2_X_std\n",
    "stage2[\"train_y\"] = (stage2[\"train_y\"] - stage2_y_mean) / stage2_y_std\n",
    "\n",
    "# 검증용 데이터 표준화\n",
    "stage2[\"valid_X\"] = (stage2[\"valid_X\"] - stage2_X_mean) / stage2_X_std\n",
    "stage2[\"valid_y\"] = (stage2[\"valid_y\"] - stage2_y_mean) / stage2_y_std\n",
    "\n",
    "# 테스트 데이터 표준화\n",
    "stage2[\"test_X\"] = (stage2[\"test_X\"] - stage2_X_mean) / stage2_X_std\n",
    "stage2[\"test_y\"] = (stage2[\"test_y\"] - stage2_y_mean) / stage2_y_std"
   ]
  },
  {
   "cell_type": "markdown",
   "id": "83636569",
   "metadata": {},
   "source": [
    "### 1.4 Hyper-parameter 범위 설정하기"
   ]
  },
  {
   "cell_type": "markdown",
   "id": "96b04d6f",
   "metadata": {},
   "source": [
    "랜덤 서치를 이용한 하이퍼파라미터 설정을 해봅니다. 이때 실습 시간을 고려하여, 학습데이터 중 1000개만 사용해봅니다."
   ]
  },
  {
   "cell_type": "code",
   "execution_count": 9,
   "id": "eeb9df6f",
   "metadata": {},
   "outputs": [],
   "source": [
    "learning_rate = [0.005, 0.03]\n",
    "dropout_rate = [0.0, 0.2]\n",
    "trials = 10"
   ]
  },
  {
   "cell_type": "code",
   "execution_count": 10,
   "id": "4e005b13",
   "metadata": {},
   "outputs": [],
   "source": [
    "def sampling(parameter_range):\n",
    "    min_value, max_value = parameter_range\n",
    "    random_value = np.random.random()\n",
    "    return random_value * (max_value - min_value) + min_value"
   ]
  },
  {
   "cell_type": "code",
   "execution_count": 11,
   "id": "96dfb751",
   "metadata": {},
   "outputs": [
    {
     "name": "stdout",
     "output_type": "stream",
     "text": [
      "1 번째 시도 - 학습률: 0.019, dropout rate: 0.143\n"
     ]
    },
    {
     "name": "stderr",
     "output_type": "stream",
     "text": [
      "2025-02-11 04:18:58.636593: W tensorflow/stream_executor/platform/default/dso_loader.cc:64] Could not load dynamic library 'libcuda.so.1'; dlerror: libcuda.so.1: cannot open shared object file: No such file or directory; LD_LIBRARY_PATH: /usr/local/nvidia/lib:/usr/local/nvidia/lib64\n",
      "2025-02-11 04:18:58.636618: W tensorflow/stream_executor/cuda/cuda_driver.cc:263] failed call to cuInit: UNKNOWN ERROR (303)\n",
      "2025-02-11 04:18:58.636643: I tensorflow/stream_executor/cuda/cuda_diagnostics.cc:156] kernel driver does not appear to be running on this host (03c3e3c5d2c5): /proc/driver/nvidia/version does not exist\n",
      "2025-02-11 04:18:58.636895: I tensorflow/core/platform/cpu_feature_guard.cc:193] This TensorFlow binary is optimized with oneAPI Deep Neural Network Library (oneDNN) to use the following CPU instructions in performance-critical operations:  AVX2 AVX512F AVX512_VNNI FMA\n",
      "To enable them in other operations, rebuild TensorFlow with the appropriate compiler flags.\n"
     ]
    },
    {
     "name": "stdout",
     "output_type": "stream",
     "text": [
      "36/36 [==============================] - 0s 863us/step\n",
      "    -> R2 score: 0.369988\n",
      "2 번째 시도 - 학습률: 0.015, dropout rate: 0.144\n",
      "36/36 [==============================] - 0s 789us/step\n",
      "    -> R2 score: 0.353652\n",
      "3 번째 시도 - 학습률: 0.016, dropout rate: 0.005\n",
      "36/36 [==============================] - 0s 1ms/step\n",
      "    -> R2 score: 0.389318\n",
      "4 번째 시도 - 학습률: 0.019, dropout rate: 0.142\n",
      "36/36 [==============================] - 0s 1ms/step\n",
      "    -> R2 score: 0.370839\n",
      "5 번째 시도 - 학습률: 0.029, dropout rate: 0.109\n",
      "36/36 [==============================] - 0s 1ms/step\n",
      "    -> R2 score: 0.433787\n",
      "6 번째 시도 - 학습률: 0.011, dropout rate: 0.174\n",
      "36/36 [==============================] - 0s 2ms/step\n",
      "    -> R2 score: 0.316726\n",
      "7 번째 시도 - 학습률: 0.027, dropout rate: 0.066\n",
      "36/36 [==============================] - 0s 1ms/step\n",
      "    -> R2 score: 0.440473\n",
      "8 번째 시도 - 학습률: 0.007, dropout rate: 0.156\n",
      "36/36 [==============================] - 0s 2ms/step\n",
      "    -> R2 score: 0.287325\n",
      "9 번째 시도 - 학습률: 0.027, dropout rate: 0.194\n",
      "36/36 [==============================] - 0s 1ms/step\n",
      "    -> R2 score: 0.402752\n",
      "10 번째 시도 - 학습률: 0.005, dropout rate: 0.100\n",
      "36/36 [==============================] - 0s 2ms/step\n",
      "    -> R2 score: 0.275313\n"
     ]
    }
   ],
   "source": [
    "lrs = []\n",
    "drs = []\n",
    "r2s = []\n",
    "for try_ in range(trials):\n",
    "    np.random.seed(try_)\n",
    "    lr = sampling(learning_rate)\n",
    "    dr = sampling(dropout_rate)\n",
    "    print(\"%d 번째 시도 - 학습률: %.3f, dropout rate: %.3f\" % (try_ + 1, lr, dr))\n",
    "\n",
    "    # 모델 정의\n",
    "    np.random.seed(0)\n",
    "    random.seed(0)\n",
    "    tf.random.set_seed(0)\n",
    "    MLP_model = tf.keras.Sequential(\n",
    "        [\n",
    "            Input(shape=stage1[\"train_X\"].shape[1]),\n",
    "            tf.keras.layers.Dense(64, activation=\"relu\"),\n",
    "            tf.keras.layers.Dropout(rate=dr),\n",
    "            tf.keras.layers.Dense(32, activation=\"relu\"),\n",
    "            tf.keras.layers.Dropout(rate=dr),\n",
    "            tf.keras.layers.Dense(stage1[\"train_y\"].shape[1]),\n",
    "        ]\n",
    "    )\n",
    "    # 모델 컴파일\n",
    "    MLP_model.compile(\n",
    "        loss=\"mse\",\n",
    "        optimizer=tf.keras.optimizers.SGD(learning_rate=lr),\n",
    "    )\n",
    "    # 모델 학습\n",
    "    history = MLP_model.fit(\n",
    "        stage1[\"train_X\"], stage1[\"train_y\"], epochs=10, batch_size=16, verbose=0\n",
    "    )\n",
    "    # 모델 예측\n",
    "    pred = MLP_model.predict(stage1[\"test_X\"])\n",
    "    # 모델 평가\n",
    "    r2 = sklearn.metrics.r2_score(stage1[\"test_y\"], pred)\n",
    "    print(\"    -> R2 score: %f\" % r2)\n",
    "    lrs.append(lr)\n",
    "    drs.append(dr)\n",
    "    r2s.append(r2)"
   ]
  },
  {
   "cell_type": "code",
   "execution_count": 12,
   "id": "89460183",
   "metadata": {},
   "outputs": [
    {
     "data": {
      "image/png": "[encoded data removed]",
      "text/plain": [
       "<Figure size 640x480 with 1 Axes>"
      ]
     },
     "metadata": {},
     "output_type": "display_data"
    }
   ],
   "source": [
    "plt.scatter(lrs, r2s)\n",
    "plt.xlabel(\"learning rate\")\n",
    "plt.ylabel(\"r2 score\")\n",
    "plt.show()"
   ]
  },
  {
   "cell_type": "code",
   "execution_count": 13,
   "id": "e5201f30",
   "metadata": {},
   "outputs": [
    {
     "data": {
      "image/png": "[encoded data removed]",
      "text/plain": [
       "<Figure size 640x480 with 1 Axes>"
      ]
     },
     "metadata": {},
     "output_type": "display_data"
    }
   ],
   "source": [
    "plt.scatter(drs, r2s)\n",
    "plt.xlabel(\"dropout rate\")\n",
    "plt.ylabel(\"r2 score\")\n",
    "plt.show()"
   ]
  },
  {
   "cell_type": "code",
   "execution_count": 14,
   "id": "b61e3784",
   "metadata": {},
   "outputs": [
    {
     "data": {
      "text/plain": [
       "0.9628329835588891"
      ]
     },
     "execution_count": 14,
     "metadata": {},
     "output_type": "execute_result"
    }
   ],
   "source": [
    "np.corrcoef(lrs, r2s)[1, 0]"
   ]
  },
  {
   "cell_type": "code",
   "execution_count": 15,
   "id": "89ac0100",
   "metadata": {},
   "outputs": [
    {
     "data": {
      "text/plain": [
       "-0.29735801256983596"
      ]
     },
     "execution_count": 15,
     "metadata": {},
     "output_type": "execute_result"
    }
   ],
   "source": [
    "np.corrcoef(drs, r2s)[1, 0]"
   ]
  },
  {
   "cell_type": "markdown",
   "id": "e018ddce",
   "metadata": {},
   "source": [
    "학습률은 모델의 성능과 상관 관계가 큰 반면, dropout rate는 비교적 상관 관계가 약한 것을 확인할 수 있습니다."
   ]
  },
  {
   "cell_type": "markdown",
   "id": "c5e64c04",
   "metadata": {},
   "source": [
    "**[TODO] Stage 2 데이터에 대해 hyper-parameter 튜닝을 수행해보세요.**"
   ]
  },
  {
   "cell_type": "code",
   "execution_count": 16,
   "id": "7f3cc712",
   "metadata": {},
   "outputs": [
    {
     "name": "stdout",
     "output_type": "stream",
     "text": [
      "1 번째 시도 - 학습률: 0.019, dropout rate: 0.143\n",
      "36/36 [==============================] - 0s 2ms/step\n",
      "    -> R2 score: 0.562740\n",
      "2 번째 시도 - 학습률: 0.015, dropout rate: 0.144\n",
      "36/36 [==============================] - 0s 1ms/step\n",
      "    -> R2 score: 0.557272\n",
      "3 번째 시도 - 학습률: 0.016, dropout rate: 0.005\n",
      "36/36 [==============================] - 0s 1ms/step\n",
      "    -> R2 score: 0.586172\n",
      "4 번째 시도 - 학습률: 0.019, dropout rate: 0.142\n",
      "36/36 [==============================] - 0s 1ms/step\n",
      "    -> R2 score: 0.563757\n",
      "5 번째 시도 - 학습률: 0.029, dropout rate: 0.109\n",
      "36/36 [==============================] - 1s 1ms/step\n",
      "    -> R2 score: 0.590217\n",
      "6 번째 시도 - 학습률: 0.011, dropout rate: 0.174\n",
      "36/36 [==============================] - 0s 2ms/step\n",
      "    -> R2 score: 0.536216\n",
      "7 번째 시도 - 학습률: 0.027, dropout rate: 0.066\n",
      "36/36 [==============================] - 0s 1ms/step\n",
      "    -> R2 score: 0.601715\n",
      "8 번째 시도 - 학습률: 0.007, dropout rate: 0.156\n",
      "36/36 [==============================] - 0s 1ms/step\n",
      "    -> R2 score: 0.525366\n",
      "9 번째 시도 - 학습률: 0.027, dropout rate: 0.194\n",
      "36/36 [==============================] - 0s 1ms/step\n",
      "    -> R2 score: 0.553136\n",
      "10 번째 시도 - 학습률: 0.005, dropout rate: 0.100\n",
      "36/36 [==============================] - 0s 1ms/step\n",
      "    -> R2 score: 0.521898\n"
     ]
    }
   ],
   "source": [
    "lrs = []\n",
    "drs = []\n",
    "r2s = []\n",
    "for try_ in range(trials):\n",
    "    np.random.seed(try_)\n",
    "    lr = sampling(learning_rate)\n",
    "    dr = sampling(dropout_rate)\n",
    "    print(\"%d 번째 시도 - 학습률: %.3f, dropout rate: %.3f\" % (try_ + 1, lr, dr))\n",
    "\n",
    "    # 모델 정의\n",
    "    np.random.seed(0)\n",
    "    random.seed(0)\n",
    "    tf.random.set_seed(0)\n",
    "    MLP_model = tf.keras.Sequential(\n",
    "        [\n",
    "            Input(shape=stage2[\"train_X\"].shape[1]),\n",
    "            tf.keras.layers.Dense(64, activation=\"relu\"),\n",
    "            tf.keras.layers.Dropout(rate=dr),\n",
    "            tf.keras.layers.Dense(32, activation=\"relu\"),\n",
    "            tf.keras.layers.Dropout(rate=dr),\n",
    "            tf.keras.layers.Dense(stage2[\"train_y\"].shape[1]),\n",
    "        ]\n",
    "    )\n",
    "    # 모델 컴파일\n",
    "    MLP_model.compile(\n",
    "        loss=\"mse\",\n",
    "        optimizer=tf.keras.optimizers.SGD(learning_rate=lr),\n",
    "    )\n",
    "    # 모델 학습\n",
    "    history = MLP_model.fit(\n",
    "        stage2[\"train_X\"], stage2[\"train_y\"], epochs=10, batch_size=16, verbose=0\n",
    "    )\n",
    "    # 모델 예측\n",
    "    pred = MLP_model.predict(stage2[\"test_X\"])\n",
    "    # 모델 평가\n",
    "    r2 = sklearn.metrics.r2_score(stage2[\"test_y\"], pred)\n",
    "    print(\"    -> R2 score: %f\" % r2)\n",
    "    lrs.append(lr)\n",
    "    drs.append(dr)\n",
    "    r2s.append(r2)"
   ]
  },
  {
   "cell_type": "code",
   "execution_count": 17,
   "id": "33581eea",
   "metadata": {},
   "outputs": [
    {
     "data": {
      "image/png": "[encoded data removed]",
      "text/plain": [
       "<Figure size 640x480 with 1 Axes>"
      ]
     },
     "metadata": {},
     "output_type": "display_data"
    }
   ],
   "source": [
    "plt.scatter(lrs, r2s)\n",
    "plt.xlabel(\"learning rate\")\n",
    "plt.ylabel(\"r2 score\")\n",
    "plt.show()"
   ]
  },
  {
   "cell_type": "code",
   "execution_count": 18,
   "id": "c2da58ea",
   "metadata": {},
   "outputs": [
    {
     "data": {
      "image/png": "[encoded data removed]",
      "text/plain": [
       "<Figure size 640x480 with 1 Axes>"
      ]
     },
     "metadata": {},
     "output_type": "display_data"
    }
   ],
   "source": [
    "plt.scatter(drs, r2s)\n",
    "plt.xlabel(\"dropout rate\")\n",
    "plt.ylabel(\"r2 score\")\n",
    "plt.show()"
   ]
  },
  {
   "cell_type": "code",
   "execution_count": 19,
   "id": "dc3962ad",
   "metadata": {},
   "outputs": [
    {
     "data": {
      "text/plain": [
       "0.8099436805032751"
      ]
     },
     "execution_count": 19,
     "metadata": {},
     "output_type": "execute_result"
    }
   ],
   "source": [
    "np.corrcoef(lrs, r2s)[1, 0]"
   ]
  },
  {
   "cell_type": "code",
   "execution_count": 20,
   "id": "a9a0462e",
   "metadata": {
    "scrolled": true
   },
   "outputs": [
    {
     "data": {
      "text/plain": [
       "-0.5734529468299241"
      ]
     },
     "execution_count": 20,
     "metadata": {},
     "output_type": "execute_result"
    }
   ],
   "source": [
    "np.corrcoef(drs, r2s)[1, 0]"
   ]
  },
  {
   "cell_type": "markdown",
   "id": "3d5e60a9",
   "metadata": {},
   "source": [
    "Stage2 에서도 마찬가지로 학습률이 전체 성능에 큰 영향을 미치는 것을 확인할 수 있습니다."
   ]
  },
  {
   "cell_type": "markdown",
   "id": "aec50db5",
   "metadata": {},
   "source": [
    "## 2. K-fold 교차 검증"
   ]
  },
  {
   "cell_type": "markdown",
   "id": "ed8bcc5b",
   "metadata": {},
   "source": [
    "### 2.1 데이터 합치기"
   ]
  },
  {
   "cell_type": "code",
   "execution_count": 21,
   "id": "3fd73be8",
   "metadata": {},
   "outputs": [],
   "source": [
    "X_stage1 = np.concatenate([stage1[\"train_X\"], stage1[\"valid_X\"]])\n",
    "y_stage1 = np.concatenate([stage1[\"train_y\"], stage1[\"valid_y\"]])"
   ]
  },
  {
   "cell_type": "code",
   "execution_count": 22,
   "id": "b6e9d9b1",
   "metadata": {},
   "outputs": [],
   "source": [
    "def get_K_fold_dataset(X, y, K):\n",
    "    dataset = {}\n",
    "    len_data = len(X)\n",
    "    idxs = np.arange(len_data)\n",
    "    for k in range(K):\n",
    "        training_idxs = np.concatenate(\n",
    "            [idxs[: int(len_data * k / K)], idxs[int(len_data * (k + 1) / K) :]]\n",
    "        )\n",
    "        valid_idxs = idxs[int(len_data * k / K) : int(len_data * (k + 1) / K)]\n",
    "        dataset[\"%d-fold\" % (k + 1)] = {\n",
    "            \"train_X\": X[training_idxs],\n",
    "            \"valid_X\": X[valid_idxs],\n",
    "            \"train_y\": y[training_idxs],\n",
    "            \"valid_y\": y[valid_idxs],\n",
    "        }\n",
    "    return dataset"
   ]
  },
  {
   "cell_type": "markdown",
   "id": "608e0804",
   "metadata": {},
   "source": [
    "데이터를 K 개의 학습-테스트 셋으로 분리하는 함수를 정의합니다."
   ]
  },
  {
   "cell_type": "code",
   "execution_count": 23,
   "id": "0ffbb607",
   "metadata": {},
   "outputs": [],
   "source": [
    "K_fold = get_K_fold_dataset(X_stage1, y_stage1, 5)"
   ]
  },
  {
   "cell_type": "code",
   "execution_count": 24,
   "id": "8c1037e8",
   "metadata": {},
   "outputs": [
    {
     "name": "stdout",
     "output_type": "stream",
     "text": [
      "1-fold\n",
      "64/64 [==============================] - 0s 1ms/step\n",
      "    -> R2 score: 0.335456\n",
      "2-fold\n",
      "64/64 [==============================] - 0s 2ms/step\n",
      "    -> R2 score: 0.338193\n",
      "3-fold\n",
      "64/64 [==============================] - 0s 2ms/step\n",
      "    -> R2 score: 0.335656\n",
      "4-fold\n",
      "64/64 [==============================] - 0s 2ms/step\n",
      "    -> R2 score: 0.341695\n",
      "5-fold\n",
      "64/64 [==============================] - 0s 1ms/step\n",
      "    -> R2 score: 0.332775\n"
     ]
    }
   ],
   "source": [
    "r2s = []\n",
    "for K in K_fold.keys():\n",
    "    dataset = K_fold[K]\n",
    "    print(\"%s\" % K)\n",
    "    # 모델 정의\n",
    "    np.random.seed(0)\n",
    "    random.seed(0)\n",
    "    tf.random.set_seed(0)\n",
    "    MLP_model = tf.keras.Sequential(\n",
    "        [\n",
    "            Input(shape=stage1[\"train_X\"].shape[1]),\n",
    "            tf.keras.layers.Dense(64, activation=\"relu\"),\n",
    "            tf.keras.layers.Dense(32, activation=\"relu\"),\n",
    "            tf.keras.layers.Dense(stage1[\"train_y\"].shape[1]),\n",
    "        ]\n",
    "    )\n",
    "    # 모델 컴파일\n",
    "    MLP_model.compile(\n",
    "        loss=\"mse\",\n",
    "        optimizer=tf.keras.optimizers.SGD(),\n",
    "    )\n",
    "    # 모델 학습\n",
    "    history = MLP_model.fit(\n",
    "        dataset[\"train_X\"], dataset[\"train_y\"], epochs=10, batch_size=16, verbose=0\n",
    "    )\n",
    "    # 모델 예측\n",
    "    pred = MLP_model.predict(dataset[\"valid_X\"])\n",
    "    # 모델 평가\n",
    "    r2 = sklearn.metrics.r2_score(dataset[\"valid_y\"], pred)\n",
    "    print(\"    -> R2 score: %f\" % r2)\n",
    "    r2s.append(r2)"
   ]
  },
  {
   "cell_type": "code",
   "execution_count": 25,
   "id": "eeee1b62",
   "metadata": {},
   "outputs": [
    {
     "name": "stdout",
     "output_type": "stream",
     "text": [
      "Average R2 score: 0.336755\n"
     ]
    }
   ],
   "source": [
    "Average_r2 = np.mean(r2s)\n",
    "print(\"Average R2 score: %f\" % Average_r2)"
   ]
  },
  {
   "cell_type": "markdown",
   "id": "65d5c722",
   "metadata": {},
   "source": [
    "모델의 최종 성능을 평가할 때에는, K개의 fold에서 나온 성능의 평균을 취합니다."
   ]
  },
  {
   "cell_type": "markdown",
   "id": "2eb3931b",
   "metadata": {},
   "source": [
    "**[TODO] Stage2 데이터에 대해 K-fold 교차검증을 수행해보세요.**"
   ]
  },
  {
   "cell_type": "code",
   "execution_count": 26,
   "id": "3576d731",
   "metadata": {},
   "outputs": [],
   "source": [
    "X_stage2 = np.concatenate([stage2[\"train_X\"], stage2[\"valid_X\"]])\n",
    "y_stage2 = np.concatenate([stage2[\"train_y\"], stage2[\"valid_y\"]])"
   ]
  },
  {
   "cell_type": "code",
   "execution_count": 27,
   "id": "532d5b13",
   "metadata": {},
   "outputs": [],
   "source": [
    "K_fold = get_K_fold_dataset(X_stage2, y_stage2, 5)"
   ]
  },
  {
   "cell_type": "code",
   "execution_count": 28,
   "id": "48ce2896",
   "metadata": {},
   "outputs": [
    {
     "name": "stdout",
     "output_type": "stream",
     "text": [
      "1-fold\n",
      "64/64 [==============================] - 0s 1ms/step\n",
      "    -> R2 score: 0.562562\n",
      "2-fold\n",
      "64/64 [==============================] - 0s 2ms/step\n",
      "    -> R2 score: 0.547057\n",
      "3-fold\n",
      "64/64 [==============================] - 0s 1ms/step\n",
      "    -> R2 score: 0.587702\n",
      "4-fold\n",
      "64/64 [==============================] - 0s 1ms/step\n",
      "    -> R2 score: 0.546706\n",
      "5-fold\n",
      "64/64 [==============================] - 0s 1ms/step\n",
      "    -> R2 score: 0.581458\n"
     ]
    }
   ],
   "source": [
    "r2s = []\n",
    "for K in K_fold.keys():\n",
    "    dataset = K_fold[K]\n",
    "    print(\"%s\" % K)\n",
    "    # 모델 정의\n",
    "    np.random.seed(0)\n",
    "    random.seed(0)\n",
    "    tf.random.set_seed(0)\n",
    "    MLP_model = tf.keras.Sequential(\n",
    "        [\n",
    "            Input(shape=stage2[\"train_X\"].shape[1]),\n",
    "            tf.keras.layers.Dense(64, activation=\"relu\"),\n",
    "            tf.keras.layers.Dense(32, activation=\"relu\"),\n",
    "            tf.keras.layers.Dense(stage2[\"train_y\"].shape[1]),\n",
    "        ]\n",
    "    )\n",
    "    # 모델 컴파일\n",
    "    MLP_model.compile(\n",
    "        loss=\"mse\",\n",
    "        optimizer=tf.keras.optimizers.SGD(),\n",
    "    )\n",
    "    # 모델 학습\n",
    "    history = MLP_model.fit(\n",
    "        dataset[\"train_X\"], dataset[\"train_y\"], epochs=10, batch_size=16, verbose=0\n",
    "    )\n",
    "    # 모델 예측\n",
    "    pred = MLP_model.predict(dataset[\"valid_X\"])\n",
    "    # 모델 평가\n",
    "    r2 = sklearn.metrics.r2_score(dataset[\"valid_y\"], pred)\n",
    "    print(\"    -> R2 score: %f\" % r2)\n",
    "    r2s.append(r2)"
   ]
  },
  {
   "cell_type": "code",
   "execution_count": 29,
   "id": "db76783b",
   "metadata": {
    "scrolled": true
   },
   "outputs": [
    {
     "name": "stdout",
     "output_type": "stream",
     "text": [
      "Average R2 score: 0.565097\n"
     ]
    }
   ],
   "source": [
    "Average_r2 = np.mean(r2s)\n",
    "print(\"Average R2 score: %f\" % Average_r2)"
   ]
  },
  {
   "cell_type": "markdown",
   "id": "29965bde",
   "metadata": {},
   "source": [
    "## 3. Residual network"
   ]
  },
  {
   "cell_type": "markdown",
   "id": "dbeefaf1",
   "metadata": {},
   "source": [
    "### 3.1 Residual network 정의"
   ]
  },
  {
   "cell_type": "code",
   "execution_count": 30,
   "id": "7e52b7cb",
   "metadata": {},
   "outputs": [],
   "source": [
    "class ResidualMLP(tf.keras.Model):\n",
    "    def __init__(self, out_dim, use_residual):\n",
    "        super(ResidualMLP, self).__init__()\n",
    "        self.use_residual = use_residual\n",
    "\n",
    "        self.fc1 = tf.keras.layers.Dense(16, activation=\"relu\")\n",
    "        self.fc2 = tf.keras.layers.Dense(16, activation=\"relu\")\n",
    "        self.fc3 = tf.keras.layers.Dense(16, activation=\"relu\")\n",
    "        self.fc4 = tf.keras.layers.Dense(16, activation=\"relu\")\n",
    "        self.fc5 = tf.keras.layers.Dense(16, activation=\"relu\")\n",
    "        self.fc6 = tf.keras.layers.Dense(16, activation=\"relu\")\n",
    "        self.fc7 = tf.keras.layers.Dense(16, activation=\"relu\")\n",
    "        self.fc8 = tf.keras.layers.Dense(16, activation=\"relu\")\n",
    "        self.fc9 = tf.keras.layers.Dense(out_dim)\n",
    "\n",
    "    def call(self, x):\n",
    "        if self.use_residual:\n",
    "            h = self.fc1(x)\n",
    "            h = self.fc2(h) + h\n",
    "            h = self.fc3(h) + h\n",
    "            h = self.fc4(h) + h\n",
    "            h = self.fc5(h) + h\n",
    "            h = self.fc6(h) + h\n",
    "            h = self.fc7(h) + h\n",
    "            h = self.fc8(h) + h\n",
    "            h = self.fc9(h)\n",
    "        else:\n",
    "            h = self.fc1(x)\n",
    "            h = self.fc2(h)\n",
    "            h = self.fc3(h)\n",
    "            h = self.fc4(h)\n",
    "            h = self.fc5(h)\n",
    "            h = self.fc6(h)\n",
    "            h = self.fc7(h)\n",
    "            h = self.fc8(h)\n",
    "            h = self.fc9(h)\n",
    "        return h"
   ]
  },
  {
   "cell_type": "markdown",
   "id": "e66c31ae",
   "metadata": {},
   "source": [
    "Resiudal network 같이 복잡한 네트워크를 정의하기 위해서는 Sequential 보다 위 처럼 직접 class 를 정의하는 것이 편리합니다."
   ]
  },
  {
   "cell_type": "code",
   "execution_count": 31,
   "id": "eec61e3f",
   "metadata": {},
   "outputs": [],
   "source": [
    "np.random.seed(0)\n",
    "random.seed(0)\n",
    "tf.random.set_seed(0)\n",
    "MLP_model_residual = ResidualMLP(stage1[\"train_y\"].shape[1], use_residual=True)"
   ]
  },
  {
   "cell_type": "markdown",
   "id": "d68180ec",
   "metadata": {},
   "source": [
    "### 3.2 Residual network 컴파일"
   ]
  },
  {
   "cell_type": "code",
   "execution_count": 32,
   "id": "185d6b31",
   "metadata": {},
   "outputs": [],
   "source": [
    "MLP_model_residual.compile(\n",
    "    loss=\"mse\",\n",
    "    optimizer=tf.keras.optimizers.SGD(),\n",
    ")"
   ]
  },
  {
   "cell_type": "markdown",
   "id": "8299f519",
   "metadata": {},
   "source": [
    "### 3.3 Residual network 학습"
   ]
  },
  {
   "cell_type": "code",
   "execution_count": 33,
   "id": "4e73768d",
   "metadata": {
    "scrolled": true
   },
   "outputs": [
    {
     "name": "stdout",
     "output_type": "stream",
     "text": [
      "Epoch 1/10\n",
      "564/564 - 2s - loss: 1.0941 - 2s/epoch - 4ms/step\n",
      "Epoch 2/10\n",
      "564/564 - 1s - loss: 0.8083 - 856ms/epoch - 2ms/step\n",
      "Epoch 3/10\n",
      "564/564 - 1s - loss: 0.7533 - 877ms/epoch - 2ms/step\n",
      "Epoch 4/10\n",
      "564/564 - 1s - loss: 0.7174 - 882ms/epoch - 2ms/step\n",
      "Epoch 5/10\n",
      "564/564 - 1s - loss: 0.6866 - 870ms/epoch - 2ms/step\n",
      "Epoch 6/10\n",
      "564/564 - 1s - loss: 0.6652 - 859ms/epoch - 2ms/step\n",
      "Epoch 7/10\n",
      "564/564 - 1s - loss: 0.6466 - 857ms/epoch - 2ms/step\n",
      "Epoch 8/10\n",
      "564/564 - 1s - loss: 0.6313 - 865ms/epoch - 2ms/step\n",
      "Epoch 9/10\n",
      "564/564 - 1s - loss: 0.6155 - 837ms/epoch - 1ms/step\n",
      "Epoch 10/10\n",
      "564/564 - 1s - loss: 0.5992 - 899ms/epoch - 2ms/step\n"
     ]
    }
   ],
   "source": [
    "history = MLP_model_residual.fit(\n",
    "    stage1[\"train_X\"], stage1[\"train_y\"], epochs=10, batch_size=16, verbose=2\n",
    ")"
   ]
  },
  {
   "cell_type": "markdown",
   "id": "537afdb3",
   "metadata": {},
   "source": [
    "### 3.4 Residual network 예측 및 평가"
   ]
  },
  {
   "cell_type": "code",
   "execution_count": 34,
   "id": "e455a6e3",
   "metadata": {},
   "outputs": [
    {
     "name": "stdout",
     "output_type": "stream",
     "text": [
      "36/36 [==============================] - 0s 1ms/step\n"
     ]
    }
   ],
   "source": [
    "pred = MLP_model_residual.predict(stage1[\"test_X\"])"
   ]
  },
  {
   "cell_type": "code",
   "execution_count": 35,
   "id": "9cae8688",
   "metadata": {},
   "outputs": [
    {
     "name": "stdout",
     "output_type": "stream",
     "text": [
      "R2 score: 0.413922\n"
     ]
    }
   ],
   "source": [
    "r2 = sklearn.metrics.r2_score(stage1[\"test_y\"], pred)\n",
    "print(\"R2 score: %f\" % r2)"
   ]
  },
  {
   "cell_type": "markdown",
   "id": "fccb0c9f",
   "metadata": {},
   "source": [
    "### 3.5 일반 MLP 와의 성능 비교"
   ]
  },
  {
   "cell_type": "code",
   "execution_count": 36,
   "id": "3590436c",
   "metadata": {},
   "outputs": [],
   "source": [
    "# 모델 정의\n",
    "np.random.seed(0)\n",
    "random.seed(0)\n",
    "tf.random.set_seed(0)\n",
    "MLP_model = ResidualMLP(stage1[\"train_y\"].shape[1], use_residual=False)"
   ]
  },
  {
   "cell_type": "markdown",
   "id": "2c7877eb",
   "metadata": {},
   "source": [
    "use_residual 을 False로 설정하여 일반 MLP 네트워크를 정의합니다."
   ]
  },
  {
   "cell_type": "code",
   "execution_count": 37,
   "id": "9de6eb0c",
   "metadata": {},
   "outputs": [],
   "source": [
    "# 모델 컴파일\n",
    "MLP_model.compile(\n",
    "    loss=\"mse\",\n",
    "    optimizer=tf.keras.optimizers.SGD(),\n",
    ")"
   ]
  },
  {
   "cell_type": "code",
   "execution_count": 38,
   "id": "2351722a",
   "metadata": {
    "scrolled": true
   },
   "outputs": [
    {
     "name": "stdout",
     "output_type": "stream",
     "text": [
      "Epoch 1/10\n",
      "564/564 - 1s - loss: 0.9928 - 1s/epoch - 2ms/step\n",
      "Epoch 2/10\n",
      "564/564 - 1s - loss: 0.9574 - 849ms/epoch - 2ms/step\n",
      "Epoch 3/10\n",
      "564/564 - 1s - loss: 0.8989 - 883ms/epoch - 2ms/step\n",
      "Epoch 4/10\n",
      "564/564 - 1s - loss: 0.8658 - 861ms/epoch - 2ms/step\n",
      "Epoch 5/10\n",
      "564/564 - 1s - loss: 0.8509 - 817ms/epoch - 1ms/step\n",
      "Epoch 6/10\n",
      "564/564 - 1s - loss: 0.8424 - 856ms/epoch - 2ms/step\n",
      "Epoch 7/10\n",
      "564/564 - 1s - loss: 0.8362 - 861ms/epoch - 2ms/step\n",
      "Epoch 8/10\n",
      "564/564 - 1s - loss: 0.8307 - 818ms/epoch - 1ms/step\n",
      "Epoch 9/10\n",
      "564/564 - 1s - loss: 0.8254 - 859ms/epoch - 2ms/step\n",
      "Epoch 10/10\n",
      "564/564 - 1s - loss: 0.8195 - 831ms/epoch - 1ms/step\n"
     ]
    }
   ],
   "source": [
    "# 모델 학습\n",
    "history = MLP_model.fit(\n",
    "    stage1[\"train_X\"], stage1[\"train_y\"], epochs=10, batch_size=16, verbose=2\n",
    ")"
   ]
  },
  {
   "cell_type": "code",
   "execution_count": 39,
   "id": "fde4a35d",
   "metadata": {},
   "outputs": [
    {
     "name": "stdout",
     "output_type": "stream",
     "text": [
      "36/36 [==============================] - 0s 1ms/step\n"
     ]
    }
   ],
   "source": [
    "# 모델 예측\n",
    "pred = MLP_model.predict(stage1[\"test_X\"])"
   ]
  },
  {
   "cell_type": "code",
   "execution_count": 40,
   "id": "0a213e3b",
   "metadata": {},
   "outputs": [
    {
     "name": "stdout",
     "output_type": "stream",
     "text": [
      "R2 score: 0.185611\n"
     ]
    }
   ],
   "source": [
    "# 모델 평가\n",
    "r2 = sklearn.metrics.r2_score(stage1[\"test_y\"], pred)\n",
    "print(\"R2 score: %f\" % r2)"
   ]
  },
  {
   "cell_type": "markdown",
   "id": "54314fca",
   "metadata": {},
   "source": [
    "Residual network 가 더 성능이 좋은 것을 확인할 수 있습니다."
   ]
  },
  {
   "cell_type": "markdown",
   "id": "0cfd3346",
   "metadata": {},
   "source": [
    "**[TODO] Stage2 데이터에 대해 Residual network 를 학습해보세요.**"
   ]
  },
  {
   "cell_type": "code",
   "execution_count": 41,
   "id": "32585b05",
   "metadata": {},
   "outputs": [],
   "source": [
    "# resiudal network 모델 정의\n",
    "np.random.seed(0)\n",
    "random.seed(0)\n",
    "tf.random.set_seed(0)\n",
    "MLP_model_residual = ResidualMLP(stage2[\"train_y\"].shape[1], use_residual=True)\n",
    "\n",
    "# resiudal network 사용하지 않는 모델 정의\n",
    "np.random.seed(0)\n",
    "random.seed(0)\n",
    "tf.random.set_seed(0)\n",
    "MLP_model = ResidualMLP(stage2[\"train_y\"].shape[1], use_residual=False)"
   ]
  },
  {
   "cell_type": "code",
   "execution_count": 42,
   "id": "c96df63f",
   "metadata": {},
   "outputs": [],
   "source": [
    "# 모델 컴파일\n",
    "MLP_model.compile(\n",
    "    loss=\"mse\",\n",
    "    optimizer=tf.keras.optimizers.SGD(),\n",
    ")\n",
    "\n",
    "MLP_model_residual.compile(\n",
    "    loss=\"mse\",\n",
    "    optimizer=tf.keras.optimizers.SGD(),\n",
    ")"
   ]
  },
  {
   "cell_type": "code",
   "execution_count": 43,
   "id": "419414d6",
   "metadata": {
    "scrolled": true
   },
   "outputs": [
    {
     "name": "stdout",
     "output_type": "stream",
     "text": [
      "Epoch 1/10\n",
      "564/564 - 2s - loss: 0.8344 - 2s/epoch - 3ms/step\n",
      "Epoch 2/10\n",
      "564/564 - 1s - loss: 0.5627 - 840ms/epoch - 1ms/step\n",
      "Epoch 3/10\n",
      "564/564 - 1s - loss: 0.5152 - 867ms/epoch - 2ms/step\n",
      "Epoch 4/10\n",
      "564/564 - 1s - loss: 0.4841 - 893ms/epoch - 2ms/step\n",
      "Epoch 5/10\n",
      "564/564 - 1s - loss: 0.4644 - 857ms/epoch - 2ms/step\n",
      "Epoch 6/10\n",
      "564/564 - 1s - loss: 0.4510 - 854ms/epoch - 2ms/step\n",
      "Epoch 7/10\n",
      "564/564 - 1s - loss: 0.4384 - 862ms/epoch - 2ms/step\n",
      "Epoch 8/10\n",
      "564/564 - 1s - loss: 0.4309 - 874ms/epoch - 2ms/step\n",
      "Epoch 9/10\n",
      "564/564 - 1s - loss: 0.4192 - 841ms/epoch - 1ms/step\n",
      "Epoch 10/10\n",
      "564/564 - 1s - loss: 0.4119 - 853ms/epoch - 2ms/step\n"
     ]
    },
    {
     "data": {
      "text/plain": [
       "<keras.callbacks.History at 0x7fd9005e53f0>"
      ]
     },
     "execution_count": 43,
     "metadata": {},
     "output_type": "execute_result"
    }
   ],
   "source": [
    "# residual 모델 학습\n",
    "MLP_model_residual.fit(\n",
    "    stage2[\"train_X\"], stage2[\"train_y\"], epochs=10, batch_size=16, verbose=2\n",
    ")"
   ]
  },
  {
   "cell_type": "code",
   "execution_count": 44,
   "id": "a2877ddb",
   "metadata": {
    "scrolled": true
   },
   "outputs": [
    {
     "name": "stdout",
     "output_type": "stream",
     "text": [
      "Epoch 1/10\n",
      "564/564 - 1s - loss: 0.9897 - 1s/epoch - 2ms/step\n",
      "Epoch 2/10\n",
      "564/564 - 1s - loss: 0.7984 - 821ms/epoch - 1ms/step\n",
      "Epoch 3/10\n",
      "564/564 - 1s - loss: 0.6321 - 833ms/epoch - 1ms/step\n",
      "Epoch 4/10\n",
      "564/564 - 1s - loss: 0.6164 - 826ms/epoch - 1ms/step\n",
      "Epoch 5/10\n",
      "564/564 - 1s - loss: 0.6065 - 806ms/epoch - 1ms/step\n",
      "Epoch 6/10\n",
      "564/564 - 1s - loss: 0.5929 - 820ms/epoch - 1ms/step\n",
      "Epoch 7/10\n",
      "564/564 - 1s - loss: 0.5674 - 803ms/epoch - 1ms/step\n",
      "Epoch 8/10\n",
      "564/564 - 1s - loss: 0.5379 - 813ms/epoch - 1ms/step\n",
      "Epoch 9/10\n",
      "564/564 - 1s - loss: 0.5136 - 831ms/epoch - 1ms/step\n",
      "Epoch 10/10\n",
      "564/564 - 1s - loss: 0.4987 - 812ms/epoch - 1ms/step\n"
     ]
    },
    {
     "data": {
      "text/plain": [
       "<keras.callbacks.History at 0x7fd8eb7846a0>"
      ]
     },
     "execution_count": 44,
     "metadata": {},
     "output_type": "execute_result"
    }
   ],
   "source": [
    "# 일반 MLP 모델 학습\n",
    "MLP_model.fit(stage2[\"train_X\"], stage2[\"train_y\"], epochs=10, batch_size=16, verbose=2)"
   ]
  },
  {
   "cell_type": "code",
   "execution_count": 45,
   "id": "c2dfa26a",
   "metadata": {},
   "outputs": [
    {
     "name": "stdout",
     "output_type": "stream",
     "text": [
      "36/36 [==============================] - 0s 2ms/step\n"
     ]
    }
   ],
   "source": [
    "# Residual 모델 예측\n",
    "pred = MLP_model_residual.predict(stage2[\"test_X\"])"
   ]
  },
  {
   "cell_type": "code",
   "execution_count": 46,
   "id": "7e2ced4c",
   "metadata": {},
   "outputs": [
    {
     "name": "stdout",
     "output_type": "stream",
     "text": [
      "R2 score: 0.585829\n"
     ]
    }
   ],
   "source": [
    "# Residual 모델 평가\n",
    "r2 = sklearn.metrics.r2_score(stage2[\"test_y\"], pred)\n",
    "print(\"R2 score: %f\" % r2)"
   ]
  },
  {
   "cell_type": "code",
   "execution_count": 47,
   "id": "175b1b98",
   "metadata": {},
   "outputs": [
    {
     "name": "stdout",
     "output_type": "stream",
     "text": [
      "36/36 [==============================] - 0s 2ms/step\n"
     ]
    }
   ],
   "source": [
    "# 일반 MLP 모델 예측\n",
    "pred = MLP_model.predict(stage2[\"test_X\"])"
   ]
  },
  {
   "cell_type": "code",
   "execution_count": 48,
   "id": "f79ca689",
   "metadata": {
    "scrolled": true
   },
   "outputs": [
    {
     "name": "stdout",
     "output_type": "stream",
     "text": [
      "R2 score: 0.504877\n"
     ]
    }
   ],
   "source": [
    "# 일반 MLP 모델 평가\n",
    "r2 = sklearn.metrics.r2_score(stage2[\"test_y\"], pred)\n",
    "print(\"R2 score: %f\" % r2)"
   ]
  },
  {
   "cell_type": "markdown",
   "id": "e9d7964a",
   "metadata": {},
   "source": [
    "## 4. Positional encoding"
   ]
  },
  {
   "cell_type": "code",
   "execution_count": 49,
   "id": "66fb3940",
   "metadata": {},
   "outputs": [],
   "source": [
    "def positional_encoding(X, L):\n",
    "    Xs = []\n",
    "    for l in range(L):\n",
    "        Xs.append(np.sin(2**l * np.pi * X))\n",
    "        Xs.append(np.cos(2**l * np.pi * X))\n",
    "    return np.concatenate(Xs, axis=-1)"
   ]
  },
  {
   "cell_type": "markdown",
   "id": "51c45e32",
   "metadata": {},
   "source": [
    "입력 데이터를 L개의 frequency를 가진 데이터로 변환하는 함수를 정의합니다."
   ]
  },
  {
   "cell_type": "code",
   "execution_count": 50,
   "id": "80ced733",
   "metadata": {},
   "outputs": [],
   "source": [
    "train_X = positional_encoding(stage1[\"train_X\"], 5)\n",
    "test_X = positional_encoding(stage1[\"test_X\"], 5)"
   ]
  },
  {
   "cell_type": "code",
   "execution_count": 51,
   "id": "fccec4b5",
   "metadata": {},
   "outputs": [
    {
     "data": {
      "text/plain": [
       "(9016, 370)"
      ]
     },
     "execution_count": 51,
     "metadata": {},
     "output_type": "execute_result"
    }
   ],
   "source": [
    "train_X.shape"
   ]
  },
  {
   "cell_type": "code",
   "execution_count": 52,
   "id": "1232084a",
   "metadata": {},
   "outputs": [],
   "source": [
    "np.random.seed(0)\n",
    "random.seed(0)\n",
    "tf.random.set_seed(0)\n",
    "MLP_model_pe = ResidualMLP(stage1[\"train_y\"].shape[1], use_residual=True)"
   ]
  },
  {
   "cell_type": "code",
   "execution_count": 53,
   "id": "62282f08",
   "metadata": {},
   "outputs": [],
   "source": [
    "MLP_model_pe.compile(loss=\"mse\", optimizer=tf.keras.optimizers.SGD(), metrics=[\"mse\"])"
   ]
  },
  {
   "cell_type": "code",
   "execution_count": 54,
   "id": "d4e29e06",
   "metadata": {
    "scrolled": true
   },
   "outputs": [
    {
     "name": "stdout",
     "output_type": "stream",
     "text": [
      "Epoch 1/10\n",
      "564/564 - 2s - loss: 1.0800 - mse: 1.0800 - 2s/epoch - 3ms/step\n",
      "Epoch 2/10\n",
      "564/564 - 1s - loss: 0.9951 - mse: 0.9951 - 907ms/epoch - 2ms/step\n",
      "Epoch 3/10\n",
      "564/564 - 1s - loss: 0.9449 - mse: 0.9449 - 882ms/epoch - 2ms/step\n",
      "Epoch 4/10\n",
      "564/564 - 1s - loss: 0.8596 - mse: 0.8596 - 892ms/epoch - 2ms/step\n",
      "Epoch 5/10\n",
      "564/564 - 1s - loss: 0.8163 - mse: 0.8163 - 906ms/epoch - 2ms/step\n",
      "Epoch 6/10\n",
      "564/564 - 1s - loss: 0.7966 - mse: 0.7966 - 886ms/epoch - 2ms/step\n",
      "Epoch 7/10\n",
      "564/564 - 1s - loss: 0.7834 - mse: 0.7834 - 865ms/epoch - 2ms/step\n",
      "Epoch 8/10\n",
      "564/564 - 1s - loss: 0.7680 - mse: 0.7680 - 878ms/epoch - 2ms/step\n",
      "Epoch 9/10\n",
      "564/564 - 1s - loss: 0.7478 - mse: 0.7478 - 881ms/epoch - 2ms/step\n",
      "Epoch 10/10\n",
      "564/564 - 1s - loss: 0.7244 - mse: 0.7244 - 854ms/epoch - 2ms/step\n"
     ]
    }
   ],
   "source": [
    "history = MLP_model_pe.fit(\n",
    "    train_X, stage1[\"train_y\"], epochs=10, batch_size=16, verbose=2\n",
    ")"
   ]
  },
  {
   "cell_type": "code",
   "execution_count": 55,
   "id": "ee2be1d4",
   "metadata": {},
   "outputs": [
    {
     "name": "stdout",
     "output_type": "stream",
     "text": [
      "36/36 [==============================] - 0s 2ms/step\n"
     ]
    }
   ],
   "source": [
    "pred = MLP_model_pe.predict(test_X)"
   ]
  },
  {
   "cell_type": "code",
   "execution_count": 56,
   "id": "bad20886",
   "metadata": {},
   "outputs": [
    {
     "name": "stdout",
     "output_type": "stream",
     "text": [
      "R2 score: 0.281565\n"
     ]
    }
   ],
   "source": [
    "r2 = sklearn.metrics.r2_score(stage1[\"test_y\"], pred)\n",
    "print(\"R2 score: %f\" % r2)"
   ]
  },
  {
   "cell_type": "markdown",
   "id": "ee039520",
   "metadata": {},
   "source": [
    "**[TODO] Stage2 데이터에 대해 positional encoding 적용해보기**"
   ]
  },
  {
   "cell_type": "code",
   "execution_count": 57,
   "id": "16a3bc01",
   "metadata": {},
   "outputs": [],
   "source": [
    "train_X = positional_encoding(stage2[\"train_X\"], 5)\n",
    "test_X = positional_encoding(stage2[\"test_X\"], 5)"
   ]
  },
  {
   "cell_type": "code",
   "execution_count": 58,
   "id": "cb3c1f46",
   "metadata": {},
   "outputs": [],
   "source": [
    "np.random.seed(0)\n",
    "random.seed(0)\n",
    "tf.random.set_seed(0)\n",
    "MLP_model_pe = ResidualMLP(stage2[\"train_y\"].shape[1], use_residual=True)"
   ]
  },
  {
   "cell_type": "code",
   "execution_count": 59,
   "id": "111fd97a",
   "metadata": {},
   "outputs": [],
   "source": [
    "MLP_model_pe.compile(loss=\"mse\", optimizer=tf.keras.optimizers.SGD(), metrics=[\"mse\"])"
   ]
  },
  {
   "cell_type": "code",
   "execution_count": 60,
   "id": "c7243337",
   "metadata": {
    "scrolled": true
   },
   "outputs": [
    {
     "name": "stdout",
     "output_type": "stream",
     "text": [
      "Epoch 1/10\n",
      "564/564 - 2s - loss: 0.7475 - mse: 0.7475 - 2s/epoch - 3ms/step\n",
      "Epoch 2/10\n",
      "564/564 - 1s - loss: 0.5748 - mse: 0.5748 - 905ms/epoch - 2ms/step\n",
      "Epoch 3/10\n",
      "564/564 - 1s - loss: 0.5513 - mse: 0.5513 - 827ms/epoch - 1ms/step\n",
      "Epoch 4/10\n",
      "564/564 - 1s - loss: 0.5418 - mse: 0.5418 - 845ms/epoch - 1ms/step\n",
      "Epoch 5/10\n",
      "564/564 - 1s - loss: 0.5375 - mse: 0.5375 - 851ms/epoch - 2ms/step\n",
      "Epoch 6/10\n",
      "564/564 - 1s - loss: 0.5347 - mse: 0.5347 - 838ms/epoch - 1ms/step\n",
      "Epoch 7/10\n",
      "564/564 - 1s - loss: 0.5313 - mse: 0.5313 - 793ms/epoch - 1ms/step\n",
      "Epoch 8/10\n",
      "564/564 - 1s - loss: 0.5249 - mse: 0.5249 - 864ms/epoch - 2ms/step\n",
      "Epoch 9/10\n",
      "564/564 - 1s - loss: 0.4913 - mse: 0.4913 - 896ms/epoch - 2ms/step\n",
      "Epoch 10/10\n",
      "564/564 - 1s - loss: 0.4634 - mse: 0.4634 - 885ms/epoch - 2ms/step\n"
     ]
    }
   ],
   "source": [
    "history = MLP_model_pe.fit(train_X, stage2['train_y'], epochs=10, batch_size=16, verbose=2)"
   ]
  },
  {
   "cell_type": "code",
   "execution_count": 61,
   "id": "eca879d5",
   "metadata": {},
   "outputs": [
    {
     "name": "stdout",
     "output_type": "stream",
     "text": [
      "36/36 [==============================] - 0s 2ms/step\n"
     ]
    }
   ],
   "source": [
    "pred = MLP_model_pe.predict(test_X)"
   ]
  },
  {
   "cell_type": "code",
   "execution_count": 62,
   "id": "90261187",
   "metadata": {
    "scrolled": true
   },
   "outputs": [
    {
     "name": "stdout",
     "output_type": "stream",
     "text": [
      "R2 score: 0.540449\n"
     ]
    }
   ],
   "source": [
    "r2 = sklearn.metrics.r2_score(stage2[\"test_y\"], pred)\n",
    "print(\"R2 score: %f\" % r2)"
   ]
  },
  {
   "cell_type": "markdown",
   "id": "cee1e5cb",
   "metadata": {},
   "source": [
    "## 5. 최적의 인공지능 모델 구현"
   ]
  },
  {
   "cell_type": "markdown",
   "id": "3c1e0a68",
   "metadata": {},
   "source": [
    "여태까지 배운 내용들을 종합하여 금속분말 데이터셋에 대해 최고 성능을 발휘하는 최적의 인공지능 모델을 만들어보세요."
   ]
  },
  {
   "cell_type": "code",
   "execution_count": 65,
   "id": "2ce0bfdc",
   "metadata": {},
   "outputs": [
    {
     "name": "stdout",
     "output_type": "stream",
     "text": [
      "Epoch 1/100\n",
      "564/564 - 3s - loss: 1.0223 - val_loss: 0.8117 - 3s/epoch - 5ms/step\n",
      "Epoch 2/100\n",
      "564/564 - 1s - loss: 0.7954 - val_loss: 0.7421 - 1s/epoch - 2ms/step\n",
      "Epoch 3/100\n",
      "564/564 - 1s - loss: 0.7519 - val_loss: 0.7108 - 1s/epoch - 2ms/step\n",
      "Epoch 4/100\n",
      "564/564 - 1s - loss: 0.7273 - val_loss: 0.6890 - 1s/epoch - 3ms/step\n",
      "Epoch 5/100\n",
      "564/564 - 1s - loss: 0.7033 - val_loss: 0.6698 - 1s/epoch - 2ms/step\n",
      "Epoch 6/100\n",
      "564/564 - 1s - loss: 0.6914 - val_loss: 0.6594 - 1s/epoch - 2ms/step\n",
      "Epoch 7/100\n",
      "564/564 - 1s - loss: 0.6748 - val_loss: 0.6547 - 1s/epoch - 2ms/step\n",
      "Epoch 8/100\n",
      "564/564 - 1s - loss: 0.6665 - val_loss: 0.6459 - 1s/epoch - 2ms/step\n",
      "Epoch 9/100\n",
      "564/564 - 1s - loss: 0.6537 - val_loss: 0.6392 - 1s/epoch - 2ms/step\n",
      "Epoch 10/100\n",
      "564/564 - 1s - loss: 0.6405 - val_loss: 0.6296 - 1s/epoch - 3ms/step\n",
      "Epoch 11/100\n",
      "564/564 - 1s - loss: 0.6341 - val_loss: 0.6197 - 1s/epoch - 3ms/step\n",
      "Epoch 12/100\n",
      "564/564 - 1s - loss: 0.6274 - val_loss: 0.6085 - 1s/epoch - 2ms/step\n",
      "Epoch 13/100\n",
      "564/564 - 1s - loss: 0.6173 - val_loss: 0.6179 - 1s/epoch - 2ms/step\n",
      "Epoch 14/100\n",
      "564/564 - 1s - loss: 0.6118 - val_loss: 0.5865 - 1s/epoch - 3ms/step\n",
      "Epoch 15/100\n",
      "564/564 - 1s - loss: 0.6073 - val_loss: 0.5749 - 1s/epoch - 2ms/step\n",
      "Epoch 16/100\n",
      "564/564 - 1s - loss: 0.6007 - val_loss: 0.5568 - 1s/epoch - 2ms/step\n",
      "Epoch 17/100\n",
      "564/564 - 1s - loss: 0.5918 - val_loss: 0.5526 - 1s/epoch - 3ms/step\n",
      "Epoch 18/100\n",
      "564/564 - 1s - loss: 0.5843 - val_loss: 0.5670 - 1s/epoch - 3ms/step\n",
      "Epoch 19/100\n",
      "564/564 - 1s - loss: 0.5822 - val_loss: 0.5429 - 1s/epoch - 2ms/step\n",
      "Epoch 20/100\n",
      "564/564 - 1s - loss: 0.5713 - val_loss: 0.5688 - 1s/epoch - 3ms/step\n",
      "Epoch 21/100\n",
      "564/564 - 1s - loss: 0.5642 - val_loss: 0.5172 - 1s/epoch - 3ms/step\n",
      "Epoch 22/100\n",
      "564/564 - 1s - loss: 0.5570 - val_loss: 0.5202 - 1s/epoch - 2ms/step\n",
      "Epoch 23/100\n",
      "564/564 - 1s - loss: 0.5616 - val_loss: 0.5347 - 1s/epoch - 2ms/step\n",
      "Epoch 24/100\n",
      "564/564 - 1s - loss: 0.5516 - val_loss: 0.5061 - 1s/epoch - 2ms/step\n",
      "Epoch 25/100\n",
      "564/564 - 1s - loss: 0.5544 - val_loss: 0.5229 - 1s/epoch - 3ms/step\n",
      "Epoch 26/100\n",
      "564/564 - 1s - loss: 0.5409 - val_loss: 0.5323 - 1s/epoch - 3ms/step\n",
      "Epoch 27/100\n",
      "564/564 - 1s - loss: 0.5396 - val_loss: 0.4713 - 1s/epoch - 3ms/step\n",
      "Epoch 28/100\n",
      "564/564 - 1s - loss: 0.5384 - val_loss: 0.4798 - 1s/epoch - 3ms/step\n",
      "Epoch 29/100\n",
      "564/564 - 1s - loss: 0.5312 - val_loss: 0.5192 - 1s/epoch - 2ms/step\n",
      "Epoch 30/100\n",
      "564/564 - 1s - loss: 0.5228 - val_loss: 0.5450 - 1s/epoch - 3ms/step\n",
      "Epoch 31/100\n",
      "564/564 - 2s - loss: 0.5174 - val_loss: 0.4703 - 2s/epoch - 3ms/step\n",
      "Epoch 32/100\n",
      "564/564 - 2s - loss: 0.5185 - val_loss: 0.4929 - 2s/epoch - 3ms/step\n",
      "Epoch 33/100\n",
      "564/564 - 2s - loss: 0.5088 - val_loss: 0.4708 - 2s/epoch - 3ms/step\n",
      "Epoch 34/100\n",
      "564/564 - 2s - loss: 0.5014 - val_loss: 0.5677 - 2s/epoch - 3ms/step\n",
      "Epoch 35/100\n",
      "564/564 - 1s - loss: 0.4954 - val_loss: 0.4903 - 1s/epoch - 3ms/step\n",
      "Epoch 36/100\n",
      "564/564 - 2s - loss: 0.5047 - val_loss: 0.4985 - 2s/epoch - 3ms/step\n",
      "Epoch 37/100\n",
      "564/564 - 1s - loss: 0.4936 - val_loss: 0.4927 - 1s/epoch - 2ms/step\n",
      "Epoch 38/100\n",
      "564/564 - 1s - loss: 0.4926 - val_loss: 0.5376 - 1s/epoch - 3ms/step\n",
      "Epoch 39/100\n",
      "564/564 - 2s - loss: 0.5029 - val_loss: 0.4956 - 2s/epoch - 3ms/step\n",
      "Epoch 40/100\n",
      "564/564 - 1s - loss: 0.4888 - val_loss: 0.5347 - 1s/epoch - 2ms/step\n",
      "Epoch 41/100\n",
      "564/564 - 1s - loss: 0.4939 - val_loss: 0.4828 - 1s/epoch - 2ms/step\n",
      "Epoch 42/100\n",
      "564/564 - 1s - loss: 0.4861 - val_loss: 0.4688 - 1s/epoch - 2ms/step\n",
      "Epoch 43/100\n",
      "564/564 - 1s - loss: 0.4744 - val_loss: 0.4434 - 1s/epoch - 2ms/step\n",
      "Epoch 44/100\n",
      "564/564 - 1s - loss: 0.4671 - val_loss: 0.4570 - 1s/epoch - 2ms/step\n",
      "Epoch 45/100\n",
      "564/564 - 1s - loss: 0.4788 - val_loss: 0.4862 - 1s/epoch - 3ms/step\n",
      "Epoch 46/100\n",
      "564/564 - 2s - loss: 0.4910 - val_loss: 0.4806 - 2s/epoch - 3ms/step\n",
      "Epoch 47/100\n",
      "564/564 - 2s - loss: 0.4744 - val_loss: 0.4955 - 2s/epoch - 3ms/step\n",
      "Epoch 48/100\n",
      "564/564 - 2s - loss: 0.4787 - val_loss: 0.4662 - 2s/epoch - 3ms/step\n",
      "Epoch 49/100\n",
      "564/564 - 2s - loss: 0.4607 - val_loss: 0.4260 - 2s/epoch - 3ms/step\n",
      "Epoch 50/100\n",
      "564/564 - 2s - loss: 0.4700 - val_loss: 0.4905 - 2s/epoch - 3ms/step\n",
      "Epoch 51/100\n",
      "564/564 - 2s - loss: 0.4701 - val_loss: 0.4726 - 2s/epoch - 3ms/step\n",
      "Epoch 52/100\n",
      "564/564 - 2s - loss: 0.4650 - val_loss: 0.4251 - 2s/epoch - 3ms/step\n",
      "Epoch 53/100\n",
      "564/564 - 2s - loss: 0.4650 - val_loss: 0.4383 - 2s/epoch - 3ms/step\n",
      "Epoch 54/100\n",
      "564/564 - 1s - loss: 0.4635 - val_loss: 0.4755 - 1s/epoch - 3ms/step\n",
      "Epoch 55/100\n",
      "564/564 - 2s - loss: 0.4618 - val_loss: 0.4264 - 2s/epoch - 3ms/step\n",
      "Epoch 56/100\n",
      "564/564 - 1s - loss: 0.4530 - val_loss: 0.4855 - 1s/epoch - 3ms/step\n",
      "Epoch 57/100\n",
      "564/564 - 2s - loss: 0.4497 - val_loss: 0.4438 - 2s/epoch - 3ms/step\n",
      "Epoch 58/100\n",
      "564/564 - 2s - loss: 0.4551 - val_loss: 0.4563 - 2s/epoch - 3ms/step\n",
      "Epoch 59/100\n",
      "564/564 - 2s - loss: 0.4523 - val_loss: 0.4782 - 2s/epoch - 3ms/step\n",
      "Epoch 60/100\n",
      "564/564 - 2s - loss: 0.4486 - val_loss: 0.4227 - 2s/epoch - 3ms/step\n",
      "Epoch 61/100\n",
      "564/564 - 2s - loss: 0.4489 - val_loss: 0.5076 - 2s/epoch - 3ms/step\n",
      "Epoch 62/100\n",
      "564/564 - 2s - loss: 0.4528 - val_loss: 0.4869 - 2s/epoch - 3ms/step\n",
      "Epoch 63/100\n",
      "564/564 - 2s - loss: 0.4626 - val_loss: 0.4786 - 2s/epoch - 3ms/step\n",
      "Epoch 64/100\n",
      "564/564 - 2s - loss: 0.4452 - val_loss: 0.4303 - 2s/epoch - 3ms/step\n",
      "Epoch 65/100\n",
      "564/564 - 2s - loss: 0.4347 - val_loss: 0.4446 - 2s/epoch - 3ms/step\n",
      "Epoch 66/100\n",
      "564/564 - 2s - loss: 0.4516 - val_loss: 0.5295 - 2s/epoch - 3ms/step\n",
      "Epoch 67/100\n",
      "564/564 - 2s - loss: 0.4482 - val_loss: 0.4587 - 2s/epoch - 3ms/step\n",
      "Epoch 68/100\n",
      "564/564 - 2s - loss: 0.4587 - val_loss: 0.4627 - 2s/epoch - 3ms/step\n",
      "Epoch 69/100\n",
      "564/564 - 2s - loss: 0.4406 - val_loss: 0.4665 - 2s/epoch - 3ms/step\n",
      "Epoch 70/100\n",
      "564/564 - 2s - loss: 0.4525 - val_loss: 0.4760 - 2s/epoch - 3ms/step\n",
      "Epoch 71/100\n",
      "564/564 - 2s - loss: 0.4493 - val_loss: 0.4727 - 2s/epoch - 3ms/step\n",
      "Epoch 72/100\n",
      "564/564 - 2s - loss: 0.4282 - val_loss: 0.4305 - 2s/epoch - 3ms/step\n",
      "Epoch 73/100\n",
      "564/564 - 2s - loss: 0.4332 - val_loss: 0.4863 - 2s/epoch - 3ms/step\n",
      "Epoch 74/100\n",
      "564/564 - 1s - loss: 0.4388 - val_loss: 2.4724 - 1s/epoch - 2ms/step\n",
      "Epoch 75/100\n",
      "564/564 - 1s - loss: 0.4715 - val_loss: 0.5125 - 1s/epoch - 2ms/step\n",
      "Epoch 76/100\n",
      "564/564 - 1s - loss: 0.4408 - val_loss: 0.4613 - 1s/epoch - 3ms/step\n",
      "Epoch 77/100\n",
      "564/564 - 2s - loss: 0.4407 - val_loss: 0.4461 - 2s/epoch - 3ms/step\n",
      "Epoch 78/100\n",
      "564/564 - 1s - loss: 0.4399 - val_loss: 0.4735 - 1s/epoch - 3ms/step\n",
      "Epoch 79/100\n",
      "564/564 - 1s - loss: 0.4359 - val_loss: 0.5353 - 1s/epoch - 3ms/step\n",
      "Epoch 80/100\n",
      "564/564 - 1s - loss: 0.4415 - val_loss: 0.5183 - 1s/epoch - 2ms/step\n",
      "Epoch 81/100\n",
      "564/564 - 2s - loss: 0.4381 - val_loss: 0.4192 - 2s/epoch - 3ms/step\n",
      "Epoch 82/100\n",
      "564/564 - 2s - loss: 0.4249 - val_loss: 0.5463 - 2s/epoch - 3ms/step\n",
      "Epoch 83/100\n",
      "564/564 - 2s - loss: 0.4221 - val_loss: 0.4163 - 2s/epoch - 3ms/step\n",
      "Epoch 84/100\n",
      "564/564 - 2s - loss: 0.4226 - val_loss: 0.4749 - 2s/epoch - 3ms/step\n",
      "Epoch 85/100\n",
      "564/564 - 2s - loss: 0.4233 - val_loss: 0.4189 - 2s/epoch - 3ms/step\n",
      "Epoch 86/100\n",
      "564/564 - 2s - loss: 0.4332 - val_loss: 0.7880 - 2s/epoch - 3ms/step\n",
      "Epoch 87/100\n",
      "564/564 - 2s - loss: 0.4318 - val_loss: 0.6035 - 2s/epoch - 3ms/step\n",
      "Epoch 88/100\n",
      "564/564 - 2s - loss: 0.4341 - val_loss: 0.4228 - 2s/epoch - 3ms/step\n",
      "Epoch 89/100\n",
      "564/564 - 2s - loss: 0.4349 - val_loss: 0.5614 - 2s/epoch - 3ms/step\n",
      "Epoch 90/100\n",
      "564/564 - 2s - loss: 0.4281 - val_loss: 0.6009 - 2s/epoch - 3ms/step\n",
      "Epoch 91/100\n",
      "564/564 - 2s - loss: 0.4274 - val_loss: 0.4467 - 2s/epoch - 3ms/step\n",
      "Epoch 92/100\n",
      "564/564 - 1s - loss: 0.4248 - val_loss: 0.4301 - 1s/epoch - 3ms/step\n",
      "Epoch 93/100\n",
      "564/564 - 2s - loss: 0.4207 - val_loss: 0.4918 - 2s/epoch - 3ms/step\n",
      "Epoch 94/100\n",
      "564/564 - 2s - loss: 0.4153 - val_loss: 0.4608 - 2s/epoch - 3ms/step\n",
      "Epoch 95/100\n",
      "564/564 - 2s - loss: 0.4223 - val_loss: 0.4161 - 2s/epoch - 3ms/step\n",
      "Epoch 96/100\n",
      "564/564 - 2s - loss: 0.4172 - val_loss: 0.3767 - 2s/epoch - 3ms/step\n",
      "Epoch 97/100\n",
      "564/564 - 2s - loss: 0.4284 - val_loss: 0.5022 - 2s/epoch - 3ms/step\n",
      "Epoch 98/100\n",
      "564/564 - 1s - loss: 0.4164 - val_loss: 0.6765 - 1s/epoch - 3ms/step\n",
      "Epoch 99/100\n",
      "564/564 - 2s - loss: 0.4134 - val_loss: 0.5446 - 2s/epoch - 3ms/step\n",
      "Epoch 100/100\n",
      "564/564 - 1s - loss: 0.4205 - val_loss: 0.5581 - 1s/epoch - 3ms/step\n"
     ]
    },
    {
     "name": "stdout",
     "output_type": "stream",
     "text": [
      "36/36 [==============================] - 0s 2ms/step\n",
      "R2 score: 0.523444\n"
     ]
    }
   ],
   "source": [
    "#Stage 1\n",
    "\n",
    "MLP_model = tf.keras.Sequential([\n",
    "    Input(shape=stage1[\"train_X\"].shape[1]),\n",
    "    tf.keras.layers.Dense(128, activation=\"relu\"),\n",
    "    tf.keras.layers.BatchNormalization(),\n",
    "    tf.keras.layers.GaussianNoise(stddev=0.1),\n",
    "    \n",
    "    tf.keras.layers.Dense(64, activation=\"relu\"),\n",
    "    tf.keras.layers.BatchNormalization(),\n",
    "    tf.keras.layers.GaussianNoise(stddev=0.1),\n",
    "    \n",
    "    tf.keras.layers.Dense(32, activation=\"relu\"),\n",
    "    tf.keras.layers.BatchNormalization(),\n",
    "    tf.keras.layers.GaussianNoise(stddev=0.1),\n",
    "    \n",
    "    tf.keras.layers.Dense(stage1[\"train_y\"].shape[1]),\n",
    "])\n",
    "\n",
    "MLP_model.compile(\n",
    "    loss=\"mse\",\n",
    "    optimizer=tf.keras.optimizers.SGD()\n",
    ")\n",
    "\n",
    "\n",
    "history = MLP_model.fit(\n",
    "    stage1[\"train_X\"],\n",
    "    stage1[\"train_y\"],\n",
    "    validation_data=(stage1[\"valid_X\"], stage1[\"valid_y\"]),\n",
    "    epochs=100,           \n",
    "    batch_size=16,\n",
    "    verbose=2,\n",
    ")\n",
    "\n",
    "pred = MLP_model.predict(stage1[\"test_X\"])\n",
    "\n",
    "r2 = sklearn.metrics.r2_score(stage1[\"test_y\"], pred)\n",
    "print(\"R2 score: %f\" % r2)"
   ]
  },
  {
   "cell_type": "code",
   "execution_count": 66,
   "id": "704dfdb7",
   "metadata": {},
   "outputs": [
    {
     "name": "stdout",
     "output_type": "stream",
     "text": [
      "Epoch 1/100\n",
      "564/564 - 3s - loss: 0.8813 - val_loss: 0.6836 - 3s/epoch - 5ms/step\n",
      "Epoch 2/100\n",
      "564/564 - 1s - loss: 0.6191 - val_loss: 0.6569 - 1s/epoch - 2ms/step\n",
      "Epoch 3/100\n",
      "564/564 - 1s - loss: 0.5602 - val_loss: 0.7447 - 1s/epoch - 2ms/step\n",
      "Epoch 4/100\n",
      "564/564 - 2s - loss: 0.5370 - val_loss: 0.7661 - 2s/epoch - 3ms/step\n",
      "Epoch 5/100\n",
      "564/564 - 1s - loss: 0.5063 - val_loss: 0.6940 - 1s/epoch - 3ms/step\n",
      "Epoch 6/100\n",
      "564/564 - 1s - loss: 0.4963 - val_loss: 0.7160 - 1s/epoch - 3ms/step\n",
      "Epoch 7/100\n",
      "564/564 - 1s - loss: 0.4834 - val_loss: 0.6861 - 1s/epoch - 3ms/step\n",
      "Epoch 8/100\n",
      "564/564 - 1s - loss: 0.4796 - val_loss: 0.7169 - 1s/epoch - 2ms/step\n",
      "Epoch 9/100\n",
      "564/564 - 1s - loss: 0.4617 - val_loss: 0.7332 - 1s/epoch - 2ms/step\n",
      "Epoch 10/100\n",
      "564/564 - 1s - loss: 0.4571 - val_loss: 0.6243 - 1s/epoch - 3ms/step\n",
      "Epoch 11/100\n",
      "564/564 - 1s - loss: 0.4543 - val_loss: 0.7129 - 1s/epoch - 2ms/step\n",
      "Epoch 12/100\n",
      "564/564 - 1s - loss: 0.4441 - val_loss: 0.7071 - 1s/epoch - 3ms/step\n",
      "Epoch 13/100\n",
      "564/564 - 1s - loss: 0.4358 - val_loss: 0.6392 - 1s/epoch - 3ms/step\n",
      "Epoch 14/100\n",
      "564/564 - 1s - loss: 0.4396 - val_loss: 0.6303 - 1s/epoch - 3ms/step\n",
      "Epoch 15/100\n",
      "564/564 - 1s - loss: 0.4373 - val_loss: 0.6351 - 1s/epoch - 2ms/step\n",
      "Epoch 16/100\n",
      "564/564 - 1s - loss: 0.4338 - val_loss: 0.6271 - 1s/epoch - 3ms/step\n",
      "Epoch 17/100\n",
      "564/564 - 1s - loss: 0.4271 - val_loss: 0.5979 - 1s/epoch - 2ms/step\n",
      "Epoch 18/100\n",
      "564/564 - 1s - loss: 0.4246 - val_loss: 0.5489 - 1s/epoch - 2ms/step\n",
      "Epoch 19/100\n",
      "564/564 - 1s - loss: 0.4178 - val_loss: 0.5873 - 1s/epoch - 3ms/step\n",
      "Epoch 20/100\n",
      "564/564 - 1s - loss: 0.4217 - val_loss: 0.5357 - 1s/epoch - 3ms/step\n",
      "Epoch 21/100\n",
      "564/564 - 1s - loss: 0.4165 - val_loss: 0.5749 - 1s/epoch - 2ms/step\n",
      "Epoch 22/100\n",
      "564/564 - 1s - loss: 0.4167 - val_loss: 0.5869 - 1s/epoch - 2ms/step\n",
      "Epoch 23/100\n",
      "564/564 - 1s - loss: 0.4133 - val_loss: 0.4765 - 1s/epoch - 2ms/step\n",
      "Epoch 24/100\n",
      "564/564 - 1s - loss: 0.4133 - val_loss: 0.5608 - 1s/epoch - 2ms/step\n",
      "Epoch 25/100\n",
      "564/564 - 1s - loss: 0.4134 - val_loss: 0.5540 - 1s/epoch - 2ms/step\n",
      "Epoch 26/100\n",
      "564/564 - 1s - loss: 0.4032 - val_loss: 0.5659 - 1s/epoch - 3ms/step\n",
      "Epoch 27/100\n",
      "564/564 - 1s - loss: 0.4047 - val_loss: 0.6137 - 1s/epoch - 2ms/step\n",
      "Epoch 28/100\n",
      "564/564 - 1s - loss: 0.4042 - val_loss: 0.6048 - 1s/epoch - 3ms/step\n",
      "Epoch 29/100\n",
      "564/564 - 1s - loss: 0.4057 - val_loss: 0.4998 - 1s/epoch - 2ms/step\n",
      "Epoch 30/100\n",
      "564/564 - 1s - loss: 0.3990 - val_loss: 0.5438 - 1s/epoch - 2ms/step\n",
      "Epoch 31/100\n",
      "564/564 - 1s - loss: 0.3968 - val_loss: 0.5132 - 1s/epoch - 2ms/step\n",
      "Epoch 32/100\n",
      "564/564 - 1s - loss: 0.3995 - val_loss: 0.5049 - 1s/epoch - 3ms/step\n",
      "Epoch 33/100\n",
      "564/564 - 1s - loss: 0.4003 - val_loss: 0.5605 - 1s/epoch - 2ms/step\n",
      "Epoch 34/100\n",
      "564/564 - 1s - loss: 0.3979 - val_loss: 0.5777 - 1s/epoch - 2ms/step\n",
      "Epoch 35/100\n",
      "564/564 - 1s - loss: 0.3975 - val_loss: 0.5036 - 1s/epoch - 3ms/step\n",
      "Epoch 36/100\n",
      "564/564 - 1s - loss: 0.3925 - val_loss: 0.5610 - 1s/epoch - 2ms/step\n",
      "Epoch 37/100\n",
      "564/564 - 1s - loss: 0.3977 - val_loss: 0.5533 - 1s/epoch - 2ms/step\n",
      "Epoch 38/100\n",
      "564/564 - 1s - loss: 0.3921 - val_loss: 0.5058 - 1s/epoch - 2ms/step\n",
      "Epoch 39/100\n",
      "564/564 - 1s - loss: 0.3939 - val_loss: 0.5605 - 1s/epoch - 2ms/step\n",
      "Epoch 40/100\n",
      "564/564 - 1s - loss: 0.3928 - val_loss: 0.5121 - 1s/epoch - 2ms/step\n",
      "Epoch 41/100\n",
      "564/564 - 1s - loss: 0.3852 - val_loss: 0.5468 - 1s/epoch - 2ms/step\n",
      "Epoch 42/100\n",
      "564/564 - 1s - loss: 0.3904 - val_loss: 0.4841 - 1s/epoch - 2ms/step\n",
      "Epoch 43/100\n",
      "564/564 - 1s - loss: 0.3931 - val_loss: 0.5377 - 1s/epoch - 2ms/step\n",
      "Epoch 44/100\n",
      "564/564 - 1s - loss: 0.3877 - val_loss: 0.4917 - 1s/epoch - 2ms/step\n",
      "Epoch 45/100\n",
      "564/564 - 1s - loss: 0.3892 - val_loss: 0.4595 - 1s/epoch - 2ms/step\n",
      "Epoch 46/100\n",
      "564/564 - 1s - loss: 0.3902 - val_loss: 0.4567 - 1s/epoch - 2ms/step\n",
      "Epoch 47/100\n",
      "564/564 - 1s - loss: 0.3866 - val_loss: 0.4985 - 1s/epoch - 2ms/step\n",
      "Epoch 48/100\n",
      "564/564 - 1s - loss: 0.3853 - val_loss: 0.4747 - 1s/epoch - 3ms/step\n",
      "Epoch 49/100\n",
      "564/564 - 1s - loss: 0.3818 - val_loss: 0.5272 - 1s/epoch - 2ms/step\n",
      "Epoch 50/100\n",
      "564/564 - 1s - loss: 0.3851 - val_loss: 0.5348 - 1s/epoch - 2ms/step\n",
      "Epoch 51/100\n",
      "564/564 - 1s - loss: 0.3804 - val_loss: 0.4988 - 1s/epoch - 2ms/step\n",
      "Epoch 52/100\n",
      "564/564 - 1s - loss: 0.3830 - val_loss: 0.5093 - 1s/epoch - 2ms/step\n",
      "Epoch 53/100\n",
      "564/564 - 1s - loss: 0.3822 - val_loss: 0.5581 - 1s/epoch - 2ms/step\n",
      "Epoch 54/100\n",
      "564/564 - 1s - loss: 0.3815 - val_loss: 0.4650 - 1s/epoch - 2ms/step\n",
      "Epoch 55/100\n",
      "564/564 - 1s - loss: 0.3797 - val_loss: 0.4935 - 1s/epoch - 2ms/step\n",
      "Epoch 56/100\n",
      "564/564 - 1s - loss: 0.3809 - val_loss: 0.4745 - 1s/epoch - 2ms/step\n",
      "Epoch 57/100\n",
      "564/564 - 1s - loss: 0.3752 - val_loss: 0.4506 - 1s/epoch - 2ms/step\n",
      "Epoch 58/100\n",
      "564/564 - 1s - loss: 0.3790 - val_loss: 0.4525 - 1s/epoch - 2ms/step\n",
      "Epoch 59/100\n",
      "564/564 - 1s - loss: 0.3772 - val_loss: 0.4713 - 1s/epoch - 2ms/step\n",
      "Epoch 60/100\n",
      "564/564 - 1s - loss: 0.3755 - val_loss: 0.5521 - 1s/epoch - 2ms/step\n",
      "Epoch 61/100\n",
      "564/564 - 1s - loss: 0.3785 - val_loss: 0.4636 - 1s/epoch - 2ms/step\n",
      "Epoch 62/100\n",
      "564/564 - 1s - loss: 0.3759 - val_loss: 0.4835 - 1s/epoch - 3ms/step\n",
      "Epoch 63/100\n",
      "564/564 - 1s - loss: 0.3730 - val_loss: 0.4939 - 1s/epoch - 2ms/step\n",
      "Epoch 64/100\n",
      "564/564 - 1s - loss: 0.3738 - val_loss: 0.4552 - 1s/epoch - 2ms/step\n",
      "Epoch 65/100\n",
      "564/564 - 1s - loss: 0.3735 - val_loss: 0.5128 - 1s/epoch - 2ms/step\n",
      "Epoch 66/100\n",
      "564/564 - 1s - loss: 0.3755 - val_loss: 0.4537 - 1s/epoch - 2ms/step\n",
      "Epoch 67/100\n",
      "564/564 - 1s - loss: 0.3775 - val_loss: 0.4164 - 1s/epoch - 2ms/step\n",
      "Epoch 68/100\n",
      "564/564 - 1s - loss: 0.3739 - val_loss: 0.4324 - 1s/epoch - 2ms/step\n",
      "Epoch 69/100\n",
      "564/564 - 1s - loss: 0.3713 - val_loss: 0.4581 - 1s/epoch - 2ms/step\n",
      "Epoch 70/100\n",
      "564/564 - 1s - loss: 0.3745 - val_loss: 0.4366 - 1s/epoch - 2ms/step\n",
      "Epoch 71/100\n",
      "564/564 - 1s - loss: 0.3732 - val_loss: 0.3926 - 1s/epoch - 2ms/step\n",
      "Epoch 72/100\n",
      "564/564 - 1s - loss: 0.3756 - val_loss: 0.4435 - 1s/epoch - 2ms/step\n",
      "Epoch 73/100\n",
      "564/564 - 1s - loss: 0.3737 - val_loss: 0.4120 - 1s/epoch - 2ms/step\n",
      "Epoch 74/100\n",
      "564/564 - 1s - loss: 0.3676 - val_loss: 0.4345 - 1s/epoch - 2ms/step\n",
      "Epoch 75/100\n",
      "564/564 - 1s - loss: 0.3702 - val_loss: 0.4088 - 1s/epoch - 3ms/step\n",
      "Epoch 76/100\n",
      "564/564 - 1s - loss: 0.3738 - val_loss: 0.4151 - 1s/epoch - 2ms/step\n",
      "Epoch 77/100\n",
      "564/564 - 1s - loss: 0.3698 - val_loss: 0.4103 - 1s/epoch - 2ms/step\n",
      "Epoch 78/100\n",
      "564/564 - 1s - loss: 0.3704 - val_loss: 0.4073 - 1s/epoch - 2ms/step\n",
      "Epoch 79/100\n",
      "564/564 - 1s - loss: 0.3738 - val_loss: 0.4034 - 1s/epoch - 2ms/step\n",
      "Epoch 80/100\n",
      "564/564 - 1s - loss: 0.3681 - val_loss: 0.4310 - 1s/epoch - 2ms/step\n",
      "Epoch 81/100\n",
      "564/564 - 1s - loss: 0.3746 - val_loss: 0.3948 - 1s/epoch - 2ms/step\n",
      "Epoch 82/100\n",
      "564/564 - 1s - loss: 0.3694 - val_loss: 0.4033 - 1s/epoch - 2ms/step\n",
      "Epoch 83/100\n",
      "564/564 - 1s - loss: 0.3716 - val_loss: 0.3854 - 1s/epoch - 2ms/step\n",
      "Epoch 84/100\n",
      "564/564 - 1s - loss: 0.3724 - val_loss: 0.3845 - 1s/epoch - 2ms/step\n",
      "Epoch 85/100\n",
      "564/564 - 1s - loss: 0.3713 - val_loss: 0.3830 - 1s/epoch - 2ms/step\n",
      "Epoch 86/100\n",
      "564/564 - 1s - loss: 0.3656 - val_loss: 0.4120 - 1s/epoch - 2ms/step\n",
      "Epoch 87/100\n",
      "564/564 - 1s - loss: 0.3666 - val_loss: 0.4056 - 1s/epoch - 2ms/step\n",
      "Epoch 88/100\n",
      "564/564 - 2s - loss: 0.3673 - val_loss: 0.4183 - 2s/epoch - 3ms/step\n",
      "Epoch 89/100\n",
      "564/564 - 2s - loss: 0.3680 - val_loss: 0.3929 - 2s/epoch - 3ms/step\n",
      "Epoch 90/100\n",
      "564/564 - 2s - loss: 0.3657 - val_loss: 0.4418 - 2s/epoch - 3ms/step\n",
      "Epoch 91/100\n",
      "564/564 - 2s - loss: 0.3699 - val_loss: 0.4033 - 2s/epoch - 3ms/step\n",
      "Epoch 92/100\n",
      "564/564 - 2s - loss: 0.3620 - val_loss: 0.4199 - 2s/epoch - 3ms/step\n",
      "Epoch 93/100\n",
      "564/564 - 2s - loss: 0.3659 - val_loss: 0.3885 - 2s/epoch - 3ms/step\n",
      "Epoch 94/100\n",
      "564/564 - 2s - loss: 0.3628 - val_loss: 0.4219 - 2s/epoch - 3ms/step\n",
      "Epoch 95/100\n",
      "564/564 - 2s - loss: 0.3645 - val_loss: 0.4059 - 2s/epoch - 3ms/step\n",
      "Epoch 96/100\n",
      "564/564 - 2s - loss: 0.3646 - val_loss: 0.3638 - 2s/epoch - 3ms/step\n",
      "Epoch 97/100\n",
      "564/564 - 2s - loss: 0.3617 - val_loss: 0.3659 - 2s/epoch - 3ms/step\n",
      "Epoch 98/100\n",
      "564/564 - 2s - loss: 0.3628 - val_loss: 0.4388 - 2s/epoch - 3ms/step\n",
      "Epoch 99/100\n",
      "564/564 - 2s - loss: 0.3636 - val_loss: 0.3887 - 2s/epoch - 3ms/step\n",
      "Epoch 100/100\n",
      "564/564 - 1s - loss: 0.3631 - val_loss: 0.3625 - 1s/epoch - 2ms/step\n"
     ]
    },
    {
     "name": "stdout",
     "output_type": "stream",
     "text": [
      "36/36 [==============================] - 0s 2ms/step\n",
      "R2 score: 0.660672\n"
     ]
    }
   ],
   "source": [
    "#Stage 2\n",
    "\n",
    "MLP_model = tf.keras.Sequential([\n",
    "    Input(shape=stage2[\"train_X\"].shape[1]),\n",
    "    tf.keras.layers.Dense(128, activation=\"relu\"),\n",
    "    tf.keras.layers.BatchNormalization(),\n",
    "    tf.keras.layers.GaussianNoise(stddev=0.1),\n",
    "    \n",
    "    tf.keras.layers.Dense(64, activation=\"relu\"),\n",
    "    tf.keras.layers.BatchNormalization(),\n",
    "    tf.keras.layers.GaussianNoise(stddev=0.1),\n",
    "    \n",
    "    tf.keras.layers.Dense(32, activation=\"relu\"),\n",
    "    tf.keras.layers.BatchNormalization(),\n",
    "    tf.keras.layers.GaussianNoise(stddev=0.1),\n",
    "    \n",
    "    tf.keras.layers.Dense(stage2[\"train_y\"].shape[1]),\n",
    "])\n",
    "\n",
    "MLP_model.compile(\n",
    "    loss=\"mse\",\n",
    "    optimizer=tf.keras.optimizers.SGD()\n",
    ")\n",
    "\n",
    "\n",
    "history = MLP_model.fit(\n",
    "    stage2[\"train_X\"],\n",
    "    stage2[\"train_y\"],\n",
    "    validation_data=(stage2[\"valid_X\"], stage2[\"valid_y\"]),\n",
    "    epochs=100,           \n",
    "    batch_size=16,\n",
    "    verbose=2,\n",
    ")\n",
    "\n",
    "pred = MLP_model.predict(stage2[\"test_X\"])\n",
    "\n",
    "r2 = sklearn.metrics.r2_score(stage2[\"test_y\"], pred)\n",
    "print(\"R2 score: %f\" % r2)"
   ]
  },
  {
   "cell_type": "markdown",
   "id": "b4b1f4c4",
   "metadata": {},
   "source": [
    "<span style=\"color:rgb(120, 120, 120)\">본 학습 자료를 포함한 사이트 내 모든 자료의 저작권은 엘리스에 있으며 외부로의 무단 복제, 배포 및 전송을 불허합니다.\n",
    "\n",
    "Copyright @ elice all rights reserved</span>"
   ]
  },
  {
   "cell_type": "code",
   "execution_count": null,
   "id": "266af134",
   "metadata": {},
   "outputs": [],
   "source": []
  }
 ],
 "metadata": {
  "kernelspec": {
   "display_name": "Python 3 (ipykernel)",
   "language": "python",
   "name": "python3"
  },
  "language_info": {
   "codemirror_mode": {
    "name": "ipython",
    "version": 3
   },
   "file_extension": ".py",
   "mimetype": "text/x-python",
   "name": "python",
   "nbconvert_exporter": "python",
   "pygments_lexer": "ipython3",
   "version": "3.10.14"
  }
 },
 "nbformat": 4,
 "nbformat_minor": 5
}
